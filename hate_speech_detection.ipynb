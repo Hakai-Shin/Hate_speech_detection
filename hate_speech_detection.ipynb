{
  "nbformat": 4,
  "nbformat_minor": 0,
  "metadata": {
    "colab": {
      "name": "2019201054_htspc",
      "provenance": [],
      "collapsed_sections": [],
      "toc_visible": true
    },
    "kernelspec": {
      "name": "python3",
      "display_name": "Python 3"
    }
  },
  "cells": [
    {
      "cell_type": "markdown",
      "metadata": {
        "id": "FuZnwX-frjUd",
        "colab_type": "text"
      },
      "source": [
        "# Q1 - Hate Speech Detection"
      ]
    },
    {
      "cell_type": "markdown",
      "metadata": {
        "id": "i6yoxB0Q1oer",
        "colab_type": "text"
      },
      "source": [
        "# My efforts.\n",
        "After doing several experiments like working with classical models vs deep learing models(lstm,cnn). I found better score with classical models, reason maybe since the data set for training is just few 1000s of samples.\n",
        "\n",
        "* I have read several research papers for hate speech classification,most of them used deep learning models which gave them good score.\n",
        "\n",
        "* While experimenting with deep learning models, I tried \n",
        "    * developing my custom word embedding using word2vec\n",
        "    * used pretrained embedding from glove 200 dimension data\n",
        "    * tried to learn about bert , which is current state of the art techqniue \n",
        "      for dealing with text classification problems. I didnt understand it \n",
        "      properly so i didnt use it.\n",
        "    * I tried word level embedding and sentence level embedding. one way to do this is by averaging the word level embeddings for each word present in a sentence.\n",
        "    * tried lstm/BI-lstm(which captures the context in the sentence),cnn(which captures the locally important features),maxpooling(which captures the globally important features).\n",
        "    * tried running for different epochs,batch sizes,different optimizers\n",
        "As there was constraint on number of submissions, I just tested all these ways on validation data set. \n",
        "\n",
        "* While experimenting with building features for classical models,\n",
        "    * I found that using proper text cleaning techniques was the most crucial part that effected my score.Also I learned that in deep learning models basic level cleaning was good enough(source:stackoverflow)\n",
        "    * I used TF-IDF vectorizer as it built betters features compared to count vectorizer(bag of words).\n",
        "    * tuning parameters of TF-IDF like setting ngrams_range from (1,1) to (1,6)\n",
        "effected my score where ngram_range(1,2)[unigram,bigram] gave me better score.Also i tried setting min_df(min no. of documents in which a word should occur) from 1 to 3 and the value min_df=2 gave me better validation score). \n",
        "    \n",
        "\n",
        "\n"
      ]
    },
    {
      "cell_type": "markdown",
      "metadata": {
        "id": "fbFYdgY5rqJB",
        "colab_type": "text"
      },
      "source": [
        "## Import libraries"
      ]
    },
    {
      "cell_type": "code",
      "metadata": {
        "id": "YrPQgktME-nA",
        "colab_type": "code",
        "cellView": "form",
        "colab": {}
      },
      "source": [
        "#@title\n",
        "!pip install emoji\n",
        "import nltk\n",
        "nltk.download('punkt')\n",
        "nltk.download('stopwords')\n",
        "nltk.download('averaged_perceptron_tagger')\n",
        "nltk.download('wordnet')\n",
        "\n",
        "import numpy as np\n",
        "import pandas as pd\n",
        "import string \n",
        "import re\n",
        "import itertools\n",
        "import emoji\n",
        "\n",
        "from nltk.corpus import stopwords,wordnet\n",
        "from nltk.stem import PorterStemmer\n",
        "\n",
        "from tensorflow.python.keras.preprocessing.text import Tokenizer\n",
        "from tensorflow.python.keras.preprocessing.sequence import pad_sequences\n",
        "\n",
        "\n"
      ],
      "execution_count": 0,
      "outputs": []
    },
    {
      "cell_type": "markdown",
      "metadata": {
        "id": "v2LtAVcqsbv3",
        "colab_type": "text"
      },
      "source": [
        "## Load Data"
      ]
    },
    {
      "cell_type": "code",
      "metadata": {
        "id": "xCBljsE1FB7N",
        "colab_type": "code",
        "cellView": "form",
        "colab": {}
      },
      "source": [
        "#@title\n",
        "train=pd.read_csv(\"/content/drive/My Drive/IIIT-H/Statistical_Methods_in_AI/Assignment-IV/final/q1/data/train.csv\")\n",
        "test=pd.read_csv(\"/content/drive/My Drive/IIIT-H/Statistical_Methods_in_AI/Assignment-IV/final/q1/data/test.csv\")\n"
      ],
      "execution_count": 0,
      "outputs": []
    },
    {
      "cell_type": "code",
      "metadata": {
        "id": "uPqQGV2NFJ53",
        "colab_type": "code",
        "cellView": "form",
        "colab": {}
      },
      "source": [
        "#@title\n",
        "y=train['labels'].values\n",
        "X=train.drop(['labels'],axis=1)"
      ],
      "execution_count": 0,
      "outputs": []
    },
    {
      "cell_type": "code",
      "metadata": {
        "id": "rNpKdDpHFK0I",
        "colab_type": "code",
        "cellView": "form",
        "colab": {}
      },
      "source": [
        "#@title\n",
        "review_lines = list()\n",
        "lines = X['text'].values.tolist()"
      ],
      "execution_count": 0,
      "outputs": []
    },
    {
      "cell_type": "markdown",
      "metadata": {
        "id": "ECDR7_sgtzq7",
        "colab_type": "text"
      },
      "source": [
        "Tried changing elongated words like \"lmaooooo\" to \"lmao\" but that was effecting some others words also which lead to incorrect word in the corpus"
      ]
    },
    {
      "cell_type": "code",
      "metadata": {
        "id": "Tipj681RHX8E",
        "colab_type": "code",
        "cellView": "form",
        "colab": {}
      },
      "source": [
        "#@title\n",
        "'''\n",
        "def replaceElongated(word):\n",
        "    \"\"\" Replaces an elongated word with its basic form, unless the word exists in the lexicon \"\"\"\n",
        "\n",
        "    repeat_regexp = re.compile(r'(\\w*)(\\w)\\2(\\w*)')\n",
        "    repl = r'\\1\\2\\3'\n",
        "    if wordnet.synsets(word):\n",
        "        return word\n",
        "    repl_word = repeat_regexp.sub(repl, word)\n",
        "    if repl_word != word:      \n",
        "        return replaceElongated(repl_word)\n",
        "    else:       \n",
        "        return repl_word\n",
        "'''"
      ],
      "execution_count": 0,
      "outputs": []
    },
    {
      "cell_type": "markdown",
      "metadata": {
        "id": "KFYpFInntI5L",
        "colab_type": "text"
      },
      "source": [
        "Implemented lemmetization which is to convert a word into it's basic form called lemma.\n",
        "This is a basic preprocessing step required when using classic machine learning models.\n",
        "This step may not be required when using deep learning models involving lstm."
      ]
    },
    {
      "cell_type": "code",
      "metadata": {
        "id": "z7zpZFv5UhPu",
        "colab_type": "code",
        "cellView": "form",
        "colab": {}
      },
      "source": [
        "#@title\n",
        "from nltk.corpus import wordnet\n",
        "\n",
        "def get_wordnet_pos(word):\n",
        "    \"\"\"Map POS tag to first character lemmatize() accepts\"\"\"\n",
        "    tag = nltk.pos_tag([word])[0][1][0].upper()\n",
        "    tag_dict = {\"J\": wordnet.ADJ,\n",
        "                \"N\": wordnet.NOUN,\n",
        "                \"V\": wordnet.VERB,\n",
        "                \"R\": wordnet.ADV}\n",
        "\n",
        "    return tag_dict.get(tag, wordnet.NOUN)\n",
        "\n",
        "lmtzr = nltk.WordNetLemmatizer().lemmatize\n",
        "def normalize_text(text):\n",
        "    word_pos = nltk.pos_tag(nltk.word_tokenize(text))\n",
        "    lemm_words = [lmtzr(sw[0], get_wordnet_pos(sw[1])) for sw in word_pos]\n",
        "\n",
        "    return [x.lower() for x in lemm_words]"
      ],
      "execution_count": 0,
      "outputs": []
    },
    {
      "cell_type": "markdown",
      "metadata": {
        "id": "TnzGgqZ4w7yP",
        "colab_type": "text"
      },
      "source": [
        "# cleaning text data\n",
        "In classical machine learning models, cleaning step is important as to avoid unnecessary words as features since large number of features for small dataset can cause overfitting.\n",
        "\n",
        "Techniques used are\n",
        "* **removing @mentions**, tried to preserve the words following @ but that didnt cause improvement in f1 score and keeping the word following mentiods were just increasing vocabulary size. so removed them\n",
        "* In tweets single quotes ' were denoted with \" ’ \" symbol which were getting removed with ntlk libraries for removing punctuation. so removed them seperately \n",
        "* replaced some words like &amp to their original meaning 'and'\n",
        "* removed urls as they don't bring special meaning to the tweet.\n",
        "* removed stop words,digits,punctuations. \n",
        "* removed # symbol while preserving the word following #tag .\n",
        "* removed unicode characters.\n",
        "\n",
        "Some of the other steps which i tried but didnt improve my score after submission. so i didnt use those steps in final cleaning\n",
        "* changing elongated words to their normal form like lmaoooo to lmao(it was effecting words like been to ben)\n",
        "* changing emoji to text like 😊 to smiling_face but that was just increasing vocabulary size and didnt effect much my score.\n",
        "\n",
        "Techniques which i didnt try(due to time and number of submission constraints)\n",
        "* changing words like didn't to did not,i'll to i will and ,etc.\n",
        "\n",
        "* stemming, as stemming is similar to lemmatization which is converting word to their base form. i felt converting the word to their base according to the context,(i.e.) lemmatization to be more meaning full than convert the word to it's root from (i.e.) stemming."
      ]
    },
    {
      "cell_type": "code",
      "metadata": {
        "id": "YJCA_5LSSSoQ",
        "colab_type": "code",
        "cellView": "form",
        "colab": {}
      },
      "source": [
        "#@title\n",
        "def clean_dataset(line):\n",
        "    post_processed=list()\n",
        "    table = str.maketrans('', '', string.punctuation)\n",
        "    #remove mentions\n",
        "    line = re.sub('@[^\\s]+', '', line)\n",
        "    #remove &\n",
        "    #line = re.sub('n\\'t', ' not', line)\n",
        "    line = re.sub('\\'', '', line)\n",
        "    line = re.sub('’', '', line)\n",
        "    line = re.sub('&amp', 'and', line)\n",
        "    #remove url\n",
        "    line = re.sub('((www\\.[^\\s]+)|(https?://[^\\s]+)|(http?://[^\\s]+))', '', line)\n",
        "    line = re.sub(r'http\\S+', '', line)\n",
        "    #convert to lower case\n",
        "    line = line.lower()\n",
        "    text=re.sub('[0-9]', '', line)\n",
        "    # Remove characters beyond Basic Multilingual Plane (BMP) of Unicode:\n",
        "    text= ''.join(c for c in text if c <= '\\uFFFF') \n",
        "    text = text.strip()\n",
        "    # Remove misspelling words\n",
        "    text = ''.join(''.join(s)[:2] for _, s in itertools.groupby(text))\n",
        "    # Remove emoji\n",
        "    text = emoji.demojize(text)\n",
        "    text = text.replace(\":\",\" \")\n",
        "    text = ' '.join(text.split()) \n",
        "    text = re.sub(\"([^\\x00-\\x7F])+\",\" \",text)\n",
        "    # Remove Mojibake (also extra spaces)\n",
        "    text = ' '.join(re.sub(\"[^\\u4e00-\\u9fa5\\u0030-\\u0039\\u0041-\\u005a\\u0061-\\u007a]\", \" \", text).split())\n",
        "    text=normalize_text(text)\n",
        "    #line= re.sub(r'[^a-z#\\s]','',line)\n",
        "    #porter = PorterStemmer()\n",
        "    #line=porter.stem(line)\n",
        "    #tokenize the line\n",
        "    #edit combined words and remove hashtag\n",
        "    #tokens=nltk.word_tokenize(line)\n",
        "    #remove punctuations\n",
        "    #tokens = [w.translate(table) for w in tokens]\n",
        "    # preserve emoji\n",
        "    #code\n",
        "    #remove numbers\n",
        "    #tokens = [word for word in tokens if word.isalpha()]\n",
        "    #replace elongated words\n",
        "    #tokens = [replaceElongated(w) for w in tokens]\n",
        "    # filter out stop words    \n",
        "    stop_words = set(stopwords.words('english'))\n",
        "    text = [w for w in text if not w in stop_words]\n",
        "    #text = [camel_case_split(w) for w in text]\n",
        "    text=' '.join(text)\n",
        "    return text"
      ],
      "execution_count": 0,
      "outputs": []
    },
    {
      "cell_type": "code",
      "metadata": {
        "id": "QcpYKnDTUWij",
        "colab_type": "code",
        "cellView": "form",
        "colab": {}
      },
      "source": [
        "#@title\n",
        "clean_tweets_df=X.copy()\n",
        "clean_tweets_df['text'] =X['text'].apply(clean_dataset)\n",
        "clean_tweets_df"
      ],
      "execution_count": 0,
      "outputs": []
    },
    {
      "cell_type": "code",
      "metadata": {
        "id": "1Zy1GB7iXWoz",
        "colab_type": "code",
        "cellView": "form",
        "colab": {}
      },
      "source": [
        "#@title\n",
        "clean_test_df=test.copy()\n",
        "clean_test_df['text'] =test['text'].apply(clean_dataset)"
      ],
      "execution_count": 0,
      "outputs": []
    },
    {
      "cell_type": "markdown",
      "metadata": {
        "id": "v88kyK4r_bLt",
        "colab_type": "text"
      },
      "source": [
        "## Converting text to features via tokenization and encoding."
      ]
    },
    {
      "cell_type": "code",
      "metadata": {
        "id": "b-HthVe-Vb5R",
        "colab_type": "code",
        "cellView": "form",
        "colab": {}
      },
      "source": [
        "#@title\n",
        "from sklearn.feature_extraction.text import TfidfVectorizer\n",
        "\n",
        "vectorizer = TfidfVectorizer(min_df=2,ngram_range=(1,2))\n",
        "X_d = vectorizer.fit_transform(clean_tweets_df['text'].values)\n"
      ],
      "execution_count": 0,
      "outputs": []
    },
    {
      "cell_type": "code",
      "metadata": {
        "id": "I0DyllX7Xpvd",
        "colab_type": "code",
        "cellView": "form",
        "colab": {}
      },
      "source": [
        "#@title\n",
        "X_te = vectorizer.transform(clean_test_df['text'].values)"
      ],
      "execution_count": 0,
      "outputs": []
    },
    {
      "cell_type": "code",
      "metadata": {
        "id": "6-BRb4eKX5M7",
        "colab_type": "code",
        "cellView": "form",
        "colab": {}
      },
      "source": [
        "#@title\n",
        "X_te.shape"
      ],
      "execution_count": 0,
      "outputs": []
    },
    {
      "cell_type": "markdown",
      "metadata": {
        "id": "MMvDuIt0E7K-",
        "colab_type": "text"
      },
      "source": [
        "## Generated Vocabulary"
      ]
    },
    {
      "cell_type": "code",
      "metadata": {
        "id": "MzS6OoewjDhD",
        "colab_type": "code",
        "outputId": "f095cf81-9382-4531-803b-fe4be1e255a0",
        "cellView": "form",
        "colab": {
          "base_uri": "https://localhost:8080/",
          "height": 54
        }
      },
      "source": [
        "#@title\n",
        "print(vectorizer.get_feature_names())"
      ],
      "execution_count": 0,
      "outputs": [
        {
          "output_type": "stream",
          "text": [
            "['aadmi', 'aap', 'ab', 'abandoned', 'abandoned due', 'abandoned match', 'abc', 'abc interview', 'ability', 'able', 'able know', 'abortion', 'abortion case', 'abortion child', 'abortion rape', 'abortion resist', 'abortionismurder', 'abrandnewdayoutnow', 'absence', 'absolute', 'absolutely', 'absolutely take', 'absurd', 'abt', 'abu', 'abu taher', 'abuse', 'abuse pm', 'abuser', 'abusing', 'abusing modi', 'abusing pm', 'abusive', 'accelerate', 'accept', 'accept failed', 'accept foreign', 'accept help', 'accept information', 'acceptable', 'accepting', 'access', 'accident', 'accident patient', 'accidentally', 'accomplice', 'accomplished', 'accomplished nothing', 'accomplishment', 'according', 'account', 'account murderer', 'accountability', 'accountable', 'acct', 'acct murderer', 'accused', 'accused imafraud', 'accuses', 'achieve', 'achieve set', 'achieved', 'achieved first', 'achievement', 'acid', 'across', 'across country', 'across globe', 'across india', 'across world', 'acrossthecountry', 'acrossthecountry using', 'act', 'act doctor', 'act like', 'act violation', 'acted', 'acting', 'acting helpless', 'action', 'action doctor', 'action need', 'action rapist', 'activism', 'activism get', 'activist', 'activist sabotaging', 'activist troll', 'activity', 'activity nationalpride', 'actor', 'actress', 'actual', 'actually', 'actually president', 'ad', 'adam', 'add', 'addict', 'adding', 'additional', 'additional cashback', 'addled', 'address', 'adhir', 'adhir ranjan', 'adityanath', 'adivce', 'adivce pakistan', 'admin', 'administration', 'administration making', 'administrator', 'admires', 'admission', 'admit', 'admits', 'admitted', 'admitted would', 'admitting', 'admitting hed', 'adopted', 'adopted ima', 'adult', 'adult sharing', 'adulterer', 'advance', 'advantage', 'adversary', 'adverse', 'advertisement', 'advice', 'advisor', 'advisor doctorsfightback', 'advisor indvsnz', 'advocate', 'af', 'af coffee', 'af shirt', 'affair', 'affect', 'affected', 'afford', 'afford loose', 'afg', 'afg semi', 'afghanistan', 'afghanistan borisjohnson', 'afraid', 'africa', 'afternoon', 'ag', 'agar', 'age', 'agency', 'agenda', 'agent', 'aggressive', 'aggressive towards', 'agitating', 'agitating doctor', 'agitation', 'ago', 'ago today', 'agree', 'agree every', 'agree trumpisatraitor', 'agreed', 'agreement', 'agrees', 'ah', 'ahead', 'ahh', 'ahmed', 'aid', 'aidingoureenemies', 'aiims', 'aiims delhi', 'aiims doctor', 'aiims resident', 'aimim', 'aint', 'air', 'air force', 'aircraft', 'ajay', 'aka', 'akin', 'al', 'alabama', 'alabama banned', 'alam', 'alcohol', 'alert', 'ali', 'ali khan', 'alien', 'alien polarbearwithchlamydia', 'alive', 'allah', 'allegation', 'alleged', 'alleged rapist', 'allegedly', 'allotment', 'allow', 'allow continue', 'allow dhoni', 'allow rapist', 'allowed', 'allowed dhoni', 'allowed play', 'allowing', 'allows', 'ally', 'almond', 'almond onepluspro', 'almost', 'almost every', 'almost like', 'alone', 'along', 'already', 'already done', 'already know', 'already lost', 'already resigned', 'already said', 'alright', 'also', 'also banned', 'also dont', 'also fucktrump', 'also gone', 'also ha', 'also like', 'also part', 'also protecting', 'also shameonicc', 'also stop', 'alt', 'altercation', 'alternative', 'alumnus', 'always', 'always douchebag', 'always great', 'always letting', 'always right', 'always support', 'amazed', 'amazing', 'amazingdeals', 'amazingdeals offer', 'amazon', 'amazon flipkart', 'amazonin', 'amazonin dm', 'ambassador', 'ambition', 'amen', 'america', 'america american', 'america fucktrump', 'america great', 'america impeachtrumpnow', 'america know', 'america need', 'america traitor', 'america trump', 'america trumpisatraitor', 'america unthinkable', 'america watch', 'america would', 'americafirst', 'americafirst asshat', 'americafirst douchebag', 'american', 'american citizen', 'american election', 'american fucktrump', 'american hero', 'american history', 'american patriot', 'american people', 'american traitor', 'american trumpisatraitor', 'americanimmigrants', 'americanimmigrants trumpisatraitor', 'americansforimpeachment', 'amid', 'amit', 'amit shah', 'among', 'among spectator', 'amount', 'amount dubai', 'analysis', 'anand', 'anand ranganathan', 'ananth', 'ananth kumar', 'anarchy', 'ancestor', 'andrew', 'angela', 'anger', 'angrily', 'angry', 'angry relative', 'animal', 'anniversary', 'announce', 'announced', 'announced strike', 'announcement', 'announcing', 'annoying', 'anointed', 'another', 'another country', 'another day', 'another one', 'another swimming', 'another term', 'another trump', 'another war', 'another washout', 'another world', 'another year', 'answer', 'answer activism', 'answered', 'ant', 'ant grasshopper', 'anthem', 'anti', 'anti american', 'anti national', 'anti trump', 'antimuslim', 'antimuslim hate', 'antimuslim islamophobia', 'antitrump', 'antitrump fucktrump', 'antitrump votebluenomatterwho', 'antitrumpaf', 'antitrumpaf antitrump', 'anybody', 'anymore', 'anyone', 'anyone else', 'anyone invite', 'anyone trump', 'anyone want', 'anything', 'anything biggest', 'anything else', 'anything england', 'anything get', 'anything go', 'anything say', 'anything shameonicc', 'anything trump', 'anything wrong', 'anytime', 'anyway', 'anyway trumpisatraitor', 'anywhere', 'anywhere threat', 'aoc', 'apart', 'apologise', 'apologise every', 'apologize', 'apology', 'app', 'appalling', 'appalling shameful', 'apparently', 'appeal', 'appeal doctor', 'appear', 'appearance', 'appears', 'appease', 'appeasement', 'appeasement politics', 'applaud', 'applaud doctor', 'apply', 'appointed', 'appointed unqualified', 'appointment', 'appointment sebi', 'appreciate', 'apprehensive', 'approach', 'appropriate', 'approval', 'approval rating', 'arabia', 'arabia much', 'arabia trumpisatraitor', 'architect', 'area', 'arent', 'arguing', 'argument', 'arkansas', 'arm', 'armed', 'armed force', 'army', 'army dhonikeeptheglove', 'army glove', 'army insignia', 'army logo', 'army sacrifice', 'army soldier', 'army wa', 'arnab', 'arnold', 'around', 'around total', 'around world', 'arranged', 'arrangement', 'arrest', 'arrested', 'arresting', 'arresttrump', 'arrived', 'arrogance', 'arrogant', 'arrow', 'arse', 'arsed', 'art', 'article', 'article cat', 'artist', 'aryanagentorange', 'aryanagentorange nervousdonald', 'asap', 'asap trump', 'ash', 'ashamed', 'asian', 'asifa', 'ask', 'ask remove', 'asked', 'asked would', 'asking', 'asking birth', 'asking question', 'asks', 'askstar', 'asleep', 'aspect', 'ass', 'assange', 'assange rapist', 'assassination', 'assault', 'assault doctor', 'assault kolkata', 'assaulted', 'assaulter', 'assaulter power', 'assaulting', 'asset', 'asshat', 'asshole', 'asshole fucktrump', 'associate', 'associated', 'association', 'association aiims', 'association doctor', 'assualt', 'assualt doctor', 'assualt doctorsfightback', 'assualt doctorsprotest', 'assualt doctorsstrike', 'assualt doctorstrike', 'assualt imafraud', 'assume', 'assuming', 'assurance', 'assure', 'assured', 'ate', 'athlete', 'atleast', 'atmosphere', 'atrocious', 'atrocity', 'attached', 'attack', 'attack america', 'attack doctor', 'attack goon', 'attack iran', 'attack japanese', 'attacked', 'attacker', 'attacking', 'attacking doctor', 'attempt', 'attempted', 'attend', 'attend eton', 'attending', 'attention', 'attention seeker', 'attitude', 'attorney', 'attractive', 'au', 'au nz', 'au wi', 'audacity', 'audience', 'auschwitz', 'auspol', 'aussie', 'australia', 'australian', 'ausvind', 'ausvind match', 'ausvsind', 'ausvwi', 'ausvwi gayle', 'authentic', 'author', 'authority', 'authority executed', 'automatically', 'available', 'ave', 'average', 'avoid', 'avoiding', 'await', 'awaited', 'awaiting', 'awaiting trial', 'awamdushman', 'awamdushman nalahiq', 'award', 'awarded', 'awarded obe', 'aware', 'away', 'away million', 'away murderer', 'away trump', 'awesome', 'awful', 'aww', 'baad', 'baapbaaphotahai', 'baat', 'babbling', 'baby', 'baby cage', 'bacha', 'back', 'back dhoni', 'back good', 'back murderer', 'back normal', 'back work', 'backbone', 'backbone muslim', 'backed', 'background', 'backing', 'backlash', 'backyard', 'bad', 'bad didnt', 'bad enough', 'bad news', 'bad weather', 'badge', 'badge dhonikeepstheglove', 'badge doesnt', 'badge glove', 'badge honour', 'badge icc', 'badly', 'bag', 'bail', 'balance', 'balidaan', 'balidaan badge', 'balidaanbadge', 'balidaanbadge balidanbadge', 'balidaanbadge bcci', 'balidaanbadge dhonikeepstheglove', 'balidaanbadge dhonikesaathdesh', 'balidaanbadge glove', 'balidaanbadge indiawithdhoni', 'balidaanbadge national', 'balidaanbadgerow', 'balidan', 'balidan badge', 'balidan batch', 'balidan dhonikeepstheglove', 'balidan feeling', 'balidan insignia', 'balidan logo', 'balidan remark', 'balidan symbol', 'balidanbadge', 'balidanbadge balidan', 'balidanbadge dhonikeepstheglove', 'balidanbadge distribute', 'balidanbadge glove', 'balidhan', 'balidhan logo', 'ball', 'ball icc', 'ban', 'ban rain', 'ban thing', 'ban world', 'band', 'banerjee', 'banerjee doctorsfightback', 'banerjee effigy', 'banerjee even', 'banerjees', 'bang', 'bang sa', 'bangal', 'bangal wa', 'bangalore', 'bangalore karnataka', 'banged', 'bangladesh', 'bangladeshi', 'bank', 'bank sugardaddys', 'bankrupt', 'bankruptcy', 'bankrupted', 'banned', 'banned abortion', 'banner', 'banning', 'bar', 'barack', 'barbie', 'barbie trumpsworsethannixon', 'barcrawl', 'barcrawl goodtime', 'bare', 'barely', 'barish', 'barking', 'barr', 'barr ha', 'barrage', 'barrcoverup', 'barrcoverup impeachbarrandtrump', 'barrhearing', 'barrhearing barrlied', 'barrlied', 'barrlied barrcoverup', 'base', 'based', 'baseless', 'bash', 'bash opponent', 'basic', 'basic right', 'basically', 'basis', 'basketball', 'bastard', 'bat', 'bat first', 'batch', 'batch dhonikeepstheglove', 'batsman', 'batting', 'battle', 'bay', 'bbc', 'bbc news', 'bc', 'bc shameonicc', 'bcci', 'bcci cwc', 'bcci dhonikeepstheglove', 'bcci dhonikeeptheglove', 'bcci ha', 'bcci icc', 'bcci shameonicc', 'bccis', 'bccis request', 'bcoz', 'bcs', 'bcz', 'bd', 'bday', 'beacon', 'bear', 'beat', 'beat doctor', 'beaten', 'beaten extent', 'beating', 'beating doctor', 'beautiful', 'bebest', 'bebest maga', 'bebest orangefoolius', 'bebest putinsgop', 'became', 'become', 'become country', 'become pm', 'becomes', 'becomes foreign', 'becomes pm', 'becomes time', 'becoming', 'becoming prime', 'bed', 'beef', 'beer', 'befool', 'befool doctor', 'begging', 'begin', 'beginning', 'begonebigots', 'begun', 'behalf', 'behalf political', 'behave', 'behaves', 'behaving', 'behaving like', 'behavior', 'behaviour', 'behind', 'behind bar', 'behind closed', 'behind curtain', 'behind game', 'behind ima', 'behind scene', 'beijing', 'beijing olympic', 'beijing olympics', 'belief', 'believe', 'believe theyre', 'believed', 'bell', 'bell end', 'belong', 'belongs', 'beloved', 'belt', 'bend', 'benedict', 'benedict arnold', 'benedict donald', 'benefit', 'bengal', 'bengal cm', 'bengal college', 'bengal democracy', 'bengal doctor', 'bengal doctorsfightback', 'bengal doctorsprotest', 'bengal government', 'bengal ha', 'bengal healthcare', 'bengal mamata', 'bengal nrs', 'bengal resigned', 'bengal savethedoctors', 'bengal shame', 'bengal state', 'bengal violence', 'bengal want', 'bengalburning', 'bengalburning doctorsfightback', 'bengaldoctorsstrike', 'bengaldoctorsstrike bengal', 'bengaldoctorsstrike bengalburning', 'bengaldoctorsstrike doctorsfightback', 'bengaldoctorsstrike doctorsprotest', 'bengali', 'bengaluru', 'bengaluru cheated', 'bengalviolence', 'benghazi', 'bent', 'bernie', 'bernie sander', 'berniesanders', 'besides', 'best', 'best answer', 'best interest', 'best part', 'best people', 'best teamindia', 'best way', 'bet', 'bet trump', 'betray', 'betray operation', 'betrayal', 'betrayal momta', 'betrayed', 'better', 'better doctorsfightback', 'better focus', 'better security', 'better sense', 'better stand', 'better use', 'better way', 'beware', 'beyond', 'bhai', 'bhakt', 'bhakts', 'bhamla', 'bharat', 'bharat top', 'bharatblockbuster', 'bharatroarsonday', 'bhcm', 'bhcm wa', 'bhi', 'bhi ho', 'bhikhari', 'bhikhari google', 'bhorangzen', 'bias', 'biased', 'bible', 'bid', 'biden', 'biden leading', 'biden texas', 'biel', 'big', 'big commercial', 'big event', 'big level', 'big medium', 'big personality', 'big tournament', 'big world', 'bigdaysgazeontanhaji', 'bigger', 'bigger dr', 'biggest', 'biggest cricket', 'biggest loss', 'biggest movement', 'biggest threat', 'biggest tournament', 'biggest traitor', 'bigly', 'bigot', 'bigoted', 'bihar', 'bike', 'bill', 'bill cosby', 'bill floor', 'bill would', 'billclinton', 'billclinton rapist', 'billcosby', 'billcosby rapist', 'billion', 'billion cricket', 'billion event', 'billiondollarloser', 'billiondollarloser fakepresident', 'billiondollarloser lowiqtrump', 'billiondollarloser trumpiscompromised', 'bin', 'bin salaam', 'bio', 'bird', 'birth', 'birth certificate', 'birthday', 'birthday celebrate', 'birthday fucktrump', 'birthday mr', 'birthday one', 'birthday president', 'birthday traitor', 'birthday would', 'bisexual', 'bisexual oral', 'bit', 'bitch', 'bitcoin', 'bitcoin blockchain', 'bite', 'bjp', 'bjp doctor', 'bjp ha', 'bjp ka', 'bjp leader', 'bjp mp', 'bjp ruled', 'black', 'black badge', 'blacklivesmatter', 'blackmail', 'blackmailing', 'blacktwitter', 'blade', 'blade cant', 'blame', 'blame doctor', 'blame iran', 'blamed', 'blaming', 'blaming icc', 'blanket', 'blast', 'blast past', 'blatantly', 'bleak', 'bleedblue', 'bless', 'blimp', 'blind', 'blindly', 'block', 'block trump', 'blockchain', 'blockchain breaking', 'blocked', 'blocked murderer', 'blocking', 'bloke', 'blood', 'blood hand', 'blooded', 'blooded killer', 'bloodonhishands', 'bloody', 'bloody brilliant', 'blotus', 'blow', 'blown', 'blue', 'blue fucktrump', 'bluetooth', 'bluewave', 'bluster', 'board', 'board member', 'boat', 'bob', 'body', 'bogus', 'bojo', 'bojo borisjohnsonshouldnotbepm', 'bojos', 'bold', 'bollockstoboris', 'bollockstoboris bollockstobrexit', 'bollockstobrexit', 'bollockstobrexit peoplesvote', 'bolton', 'boltonisbehindit', 'bomb', 'bombshell', 'bone', 'bone spur', 'bonespurs', 'boo', 'book', 'book appointment', 'boom', 'boom like', 'booted', 'border', 'border patrol', 'bored', 'boring', 'boris', 'boris avoid', 'boris becomes', 'boris borisjohnson', 'boris borisjohnsonshouldnotbepm', 'boris cant', 'boris debate', 'boris johnson', 'boris toryleadershipcontest', 'boris want', 'borisbehindbars', 'borisdoesnotrepresentme', 'borisdoesnotrepresentme borisjohnsonshouldnotbepm', 'borisjohnson', 'borisjohnson becomes', 'borisjohnson boris', 'borisjohnson borisjohnsonshouldnotbepm', 'borisjohnson pic', 'borisjohnson present', 'borisjohnsonisaclown', 'borisjohnsons', 'borisjohnsonshouldnotbepm', 'borisjohnsonshouldnotbepm bollockstoboris', 'borisjohnsonshouldnotbepm bollockstobrexit', 'borisjohnsonshouldnotbepm boris', 'borisjohnsonshouldnotbepm borisjohnson', 'borisjohnsonshouldnotbepm borispm', 'borisjohnsonshouldnotbepm brexit', 'borisjohnsonshouldnotbepm cant', 'borisjohnsonshouldnotbepm cdebate', 'borisjohnsonshouldnotbepm chicken', 'borisjohnsonshouldnotbepm ever', 'borisjohnsonshouldnotbepm fbpe', 'borisjohnsonshouldnotbepm generalelectionnow', 'borisjohnsonshouldnotbepm notmypm', 'borisjohnsonshouldnotbepm perhaps', 'borisjohnsonshouldnotbepm please', 'borisjohnsonshouldnotbepm putittothepeople', 'borisjohnsonshouldnotbepm putrorythrough', 'borisjohnsonshouldnotbepm rorystewart', 'borisjohnsonshouldnotbepm stopbrexit', 'borisjohnsonshouldnotbepm toryleadershipcontest', 'borisjohnsonshouldnotbepm toryleadershipelection', 'borisjohnsonshouldnotbepm toryleadeshipcontest', 'borisjohnsonshouldnotbepm wheresboris', 'borisjohnsonshouldnotbepm wont', 'borispm', 'borispm borisjohnsonshouldnotbepm', 'boriss', 'born', 'bos', 'bot', 'bother', 'bothered', 'bothered turn', 'bottle', 'bottom', 'bought', 'bound', 'boundary', 'bout', 'bow', 'bowl', 'bowling', 'box', 'box thinking', 'boy', 'boycott', 'boycott world', 'boycottbankalfalah', 'boycottbankalfalah hahaha', 'boycottchina', 'boycottchina dharamsala', 'boycottchina double', 'boycottchina genocide', 'boycottchina iptheft', 'boycottchina rt', 'boycottchina stopgenocidechina', 'boycotticc', 'boycottrump', 'boycottworldcup', 'boywithluvthwin', 'bozo', 'bozo bros', 'bracket', 'brag', 'brain', 'brain dead', 'branch', 'brand', 'brand logo', 'brave', 'brave soldier', 'brazenly', 'brd', 'brdoxygentragedy', 'brdoxygentragedy without', 'breaching', 'break', 'break law', 'breaking', 'breaking law', 'breaking news', 'breaking saturdaymorning', 'breaking worldwide', 'breakingnews', 'breakingnews happeningnow', 'brentwood', 'brettkavanaugh', 'brettkavanaugh rape', 'brettkavanaughrapist', 'brexit', 'brexit boris', 'brexit borisjohnson', 'brexit borisjohnsonshouldnotbepm', 'brexit brexit', 'brexit tradewar', 'brexitshambles', 'brexitshambles borisjohnson', 'bribe', 'bribery', 'brick', 'bridge', 'briefing', 'bright', 'brilliant', 'bring', 'bring violence', 'bringing', 'brit', 'britain', 'britain borisjohnsonshouldnotbepm', 'britain year', 'britainsnextpm', 'britainsnextpm brexit', 'british', 'british people', 'british pm', 'bro', 'brockturner', 'brockturner rapist', 'broke', 'broke law', 'brokeahontas', 'broken', 'broken financial', 'broken promise', 'bronco', 'bros', 'bros taxpayer', 'brother', 'brother sister', 'brought', 'brought goi', 'brown', 'brown people', 'brutal', 'brutal assault', 'brutal come', 'brutality', 'brutally', 'brutally attacking', 'bt', 'btw', 'btw shameonicc', 'bubba', 'buck', 'bud', 'buddy', 'budget', 'buffoon', 'bugger', 'buh', 'buh bye', 'build', 'build healthy', 'build wall', 'building', 'building million', 'built', 'bull', 'bullshit', 'bullshit fucktrump', 'bully', 'bullying', 'bumbling', 'bunch', 'bunch useless', 'burden', 'burdwan', 'burdwan doctorsfightback', 'buried', 'burn', 'burning', 'burning scb', 'burnt', 'bus', 'bush', 'bush league', 'business', 'businessman', 'busy', 'butcher', 'butt', 'butterfly', 'buttigieg', 'buy', 'buying', 'bye', 'byefelicia', 'cabinet', 'cadet', 'cadet bone', 'cadetbonespurs', 'cadetbonespurs trumpsaninternationaldisgrace', 'cafeteriatray', 'cafeteriatray fucktrump', 'cage', 'cain', 'cain day', 'cake', 'calcutta', 'calcutta national', 'california', 'call', 'call book', 'call cricket', 'call developed', 'call doctorsfightback', 'call fbi', 'call fucktrump', 'call impeachment', 'call lie', 'call national', 'call strike', 'called', 'called national', 'called president', 'called say', 'calling', 'calm', 'came', 'came across', 'came america', 'camera', 'camera beating', 'camp', 'campaign', 'campaign become', 'campaign better', 'canada', 'canada part', 'canadian', 'cancel', 'cancelled', 'cancer', 'candidate', 'candle', 'cant', 'cant anything', 'cant believe', 'cant bothered', 'cant buy', 'cant come', 'cant cover', 'cant even', 'cant get', 'cant help', 'cant imagine', 'cant make', 'cant penetrate', 'cant remove', 'cant stand', 'cant stop', 'cant take', 'cant tell', 'cant time', 'cant trusted', 'cant understand', 'cant wait', 'cant wear', 'cant win', 'cant wrap', 'cap', 'cap printed', 'capability', 'capable', 'capital', 'captain', 'caption', 'car', 'card', 'cardiologist', 'cardiologist carry', 'care', 'care fucktrump', 'care ground', 'care lowratings', 'care one', 'career', 'careful', 'carers', 'caricature', 'caring', 'carolina', 'carried', 'carried doctor', 'carry', 'carry successful', 'carrying', 'cartoon', 'cartoon everyday', 'case', 'case case', 'case cbi', 'cash', 'cashapp', 'cashapp want', 'cashback', 'cashback exclusively', 'cashcow', 'cashcow sugarbabiesneeded', 'caste', 'cat', 'cat fuck', 'catastrophic', 'catch', 'catholic', 'catholic church', 'catholicchurch', 'catholicchurch catholictwitter', 'catholictwitter', 'caught', 'caught camera', 'cause', 'cause history', 'caused', 'causing', 'cbhaveyoursay', 'cbi', 'cbi investigation', 'cbi shud', 'cc', 'ccp', 'ccp boycottchina', 'ccp genocide', 'cdebate', 'cdebate borisjohnsonshouldnotbepm', 'cdebate cdebate', 'celebrate', 'celebrate john', 'celebrate man', 'celebrated', 'celebrates', 'celebrates next', 'celebrating', 'celebration', 'celebrity', 'cell', 'censoring', 'census', 'census document', 'center', 'central', 'central america', 'central government', 'central govt', 'central park', 'centralpark', 'centre', 'ceo', 'ceremony', 'certain', 'certainly', 'certificate', 'certificate year', 'chahiye', 'chain', 'chair', 'chairman', 'chairman every', 'chaiye', 'chal', 'challenge', 'challenged', 'chamcha', 'champ', 'champion', 'chance', 'chance winning', 'chance zero', 'change', 'change culture', 'change glove', 'change resist', 'change ur', 'change venue', 'change vote', 'change weather', 'changed', 'changing', 'channel', 'channeldebate', 'chant', 'chant jai', 'chanting', 'chaos', 'chaotic', 'character', 'charge', 'charge country', 'charged', 'charismatic', 'charity', 'charlatan', 'charlie', 'chart', 'chart see', 'chase', 'chase woman', 'chaser', 'chaser looser', 'chat', 'chaudhary', 'chaudhary cricket', 'cheap', 'cheat', 'cheated', 'cheated fraud', 'cheated poor', 'cheater', 'cheater thief', 'cheating', 'check', 'check rapist', 'check weather', 'checking', 'cheer', 'cheer everyone', 'cheeto', 'chennai', 'cher', 'chernobyl', 'chicago', 'chicken', 'chicken leadership', 'chief', 'chief minister', 'chii', 'child', 'child died', 'child ha', 'child molester', 'child rapist', 'childhood', 'childish', 'childmolester', 'childmolester rapist', 'childtrafficking', 'childtrafficking catholicchurch', 'chin', 'china', 'china boycottchina', 'china ccp', 'china stopchina', 'china way', 'chinese', 'chip', 'chip time', 'choice', 'choice cwc', 'choke', 'chomo', 'chomo rapist', 'choose', 'choose england', 'choose venue', 'choosing', 'choosing venue', 'chose', 'chosen', 'choudhari', 'chris', 'christ', 'christian', 'christineblaseyford', 'christineblaseyford brettkavanaugh', 'christopher', 'christopher steele', 'chuck', 'chuckle', 'church', 'church need', 'churchill', 'chutiya', 'cid', 'circle', 'circumstance', 'circus', 'citizen', 'citizen india', 'citizenship', 'city', 'civil', 'claim', 'claiming', 'clarification', 'clash', 'clash decides', 'class', 'class melania', 'class organization', 'classic', 'classy', 'clause', 'clean', 'clear', 'clearly', 'cleric', 'cleric murderer', 'clever', 'cleverly', 'click', 'click read', 'climate', 'climate change', 'clinic', 'clinton', 'clip', 'clip nipple', 'close', 'close savebengal', 'closed', 'closed door', 'closer', 'clothing', 'clothing equipment', 'clothing shirt', 'cloud', 'cloud lightning', 'clown', 'club', 'clue', 'clueless', 'clutch', 'cm', 'cm bengal', 'cm call', 'cm futile', 'cm ha', 'cm mamata', 'cm must', 'cm state', 'cm wb', 'cm west', 'cmon', 'cnmc', 'cnmc cause', 'cnn', 'co', 'co conspirator', 'coalition', 'coast', 'coat', 'cock', 'cock pic', 'cockroach', 'cocky', 'code', 'coffee', 'coffee mug', 'coffin', 'coin', 'col', 'col dhoni', 'cold', 'cold blooded', 'colindiamond', 'collapse', 'collapsing', 'collar', 'colleague', 'collect', 'collection', 'college', 'college cuttack', 'college fate', 'college hospital', 'college murshidabad', 'college rg', 'collude', 'colluded', 'collusion', 'collusion occurred', 'colonel', 'color', 'colour', 'columnist', 'columnist sacked', 'com', 'coma', 'coma doctor', 'combat', 'come', 'come across', 'come doctorsfightback', 'come eng', 'come ha', 'come indian', 'come know', 'come resister', 'come soon', 'come together', 'come vetting', 'come way', 'come year', 'comedian', 'comedy', 'comfortable', 'comic', 'coming', 'coming twitter', 'commendable', 'commendable nation', 'comment', 'comment like', 'comment resist', 'commentary', 'commentary umpire', 'commentator', 'commercial', 'commercial brand', 'commission', 'commit', 'commit crime', 'commit felony', 'commit treason', 'commits', 'commits suicide', 'committed', 'committed crime', 'committed treason', 'committee', 'committing', 'common', 'common people', 'common sense', 'communal', 'communalism', 'communist', 'community', 'community must', 'company', 'company manager', 'compare', 'compassion', 'compensation', 'compete', 'competition', 'competition shameonicc', 'competition sunday', 'complacent', 'complacent britain', 'complaint', 'complaint filed', 'complete', 'complete contempt', 'completely', 'completely fine', 'completely nailed', 'complex', 'complicit', 'complicit fucktrump', 'complicitgop', 'complicitgop fucktrump', 'complicitgop resist', 'comply', 'compromised', 'compulsive', 'compulsive liar', 'comrade', 'con', 'con man', 'conceived', 'concentrate', 'concentrating', 'concentration', 'concentration camp', 'concentrationcamps', 'concept', 'conceptart', 'concern', 'concerned', 'concerned glove', 'concerned wa', 'conclude', 'conclusion', 'condemn', 'condemn attack', 'condemning', 'condemns', 'condition', 'condition poor', 'condone', 'conduct', 'conducted', 'conducting', 'confamily', 'confamily humancentipede', 'conference', 'confessed', 'confidence', 'confidently', 'confirm', 'confirmed', 'conflict', 'confused', 'cong', 'cong ha', 'cong leader', 'conggandinaaliinsult', 'conggandinaaliinsult gandinaaliabuse', 'congi', 'congrats', 'congratulation', 'congratulation michael', 'congress', 'congress culture', 'congress ha', 'congressdoyourjob', 'congressman', 'congressmuktbharat', 'conman', 'conman douchebag', 'conmen', 'conmen confamily', 'connect', 'connected', 'connection', 'connection logic', 'conned', 'conscience', 'conscious', 'consequence', 'conservative', 'conservative conservativeleadershiprace', 'conservative leadership', 'conservativeleadership', 'conservativeleadership borisjohnsonshouldnotbepm', 'conservativeleadershiprace', 'consider', 'consider part', 'considered', 'considering', 'conspiracy', 'conspiracy team', 'conspirator', 'conspired', 'constantly', 'constitution', 'constitution rapist', 'constitution trumpisatraitor', 'constructive', 'constructive work', 'consulting', 'contact', 'contacted', 'contempt', 'contempt rule', 'contender', 'content', 'contest', 'context', 'continue', 'continue happen', 'continue serve', 'continue strike', 'continue support', 'continue wear', 'continue wearing', 'continued', 'continues', 'continues ind', 'continues nz', 'continues protest', 'continues try', 'contrast', 'contribute', 'contribute around', 'control', 'control full', 'control need', 'controversial', 'controversy', 'controversy dhoni', 'controversy dhonikeepstheglove', 'convenient', 'convention', 'conversation', 'converting', 'converting muslim', 'convict', 'convicted', 'convicted murderer', 'conviction', 'convince', 'conway', 'conways', 'cooker', 'cool', 'cooperate', 'cooperate foreign', 'cop', 'copaamerica', 'copaamerica doctorsfightback', 'cope', 'cope eu', 'copied', 'corbyn', 'core', 'corner', 'corporate', 'correct', 'correction', 'correctly', 'corrupt', 'corrupt compromised', 'corruptgop', 'corruption', 'corruption trumpisatraitor', 'cosby', 'cosmos', 'cosmos appalling', 'cost', 'cough', 'could', 'could achieve', 'could better', 'could make', 'could managed', 'could new', 'could play', 'could possibly', 'could prime', 'could win', 'couldnt', 'couldnt agree', 'couldnt win', 'council', 'council aka', 'council dhonikeepstheglove', 'counsel', 'count', 'counter', 'counter misbehaviour', 'counterpart', 'counting', 'country', 'country army', 'country ban', 'country better', 'country borisjohnsonshouldnotbepm', 'country call', 'country called', 'country cant', 'country cricket', 'country deserve', 'country deserves', 'country dhonikeepstheglove', 'country due', 'country fucking', 'country fucktrump', 'country gandinaaliabuse', 'country ha', 'country icc', 'country indian', 'country indiawithdhoni', 'country june', 'country like', 'country money', 'country party', 'country pride', 'country shameonicc', 'country since', 'country soon', 'country stand', 'country till', 'country trump', 'country trumpisatraitor', 'country wa', 'country world', 'country yet', 'couple', 'course', 'course traitor', 'course would', 'court', 'court force', 'court rule', 'courtesy', 'cover', 'cover crime', 'cover cwc', 'cover entire', 'cover ground', 'cover whole', 'coverage', 'covered', 'covered developed', 'covered shameonicc', 'covering', 'covering news', 'coverup', 'covfefe', 'covfefe crook', 'cow', 'coward', 'coward fucktrump', 'cowardice', 'cowardly', 'coz', 'cpm', 'cr', 'crap', 'crash', 'crawl', 'crazy', 'crazy politics', 'crazy talk', 'create', 'created', 'created probably', 'creating', 'creature', 'credential', 'credibility', 'credible', 'credit', 'creepy', 'creepypence', 'crew', 'cricket', 'cricket adivce', 'cricket board', 'cricket council', 'cricket cwc', 'cricket destroying', 'cricket dhonikeepstheglove', 'cricket england', 'cricket event', 'cricket fan', 'cricket field', 'cricket game', 'cricket ground', 'cricket lover', 'cricket match', 'cricket national', 'cricket shameonicc', 'cricket sport', 'cricket stadium', 'cricket team', 'cricket tournament', 'cricket world', 'cricketer', 'cricketing', 'cricketing nation', 'cricketkacrown', 'cricketlive', 'cricketmerijaan', 'cricketworldcup', 'cricketworldcup cricket', 'cricketworldcup cwc', 'cricketworldcup shameonicc', 'cricketworldcup worldcup', 'crime', 'crime cant', 'crime done', 'crime family', 'crime murderer', 'crime syndicate', 'crime trumpisatraitor', 'crime uk', 'criminal', 'criminal rapist', 'criminal see', 'criminal traitor', 'criminal white', 'criminalinchief', 'criminaltrump', 'cringe', 'crippled', 'crisis', 'crisis border', 'crisis doctorsfightback', 'criterion', 'critical', 'critical patient', 'criticizing', 'crook', 'crook president', 'crooked', 'crooked donald', 'crookedtrump', 'crore', 'cross', 'crotch', 'crotch rocket', 'crotchrocket', 'crotchrocket douchebag', 'crowd', 'crown', 'crown prince', 'cruel', 'cruelty', 'crush', 'crushed', 'cry', 'cry foul', 'cry past', 'cry save', 'cuck', 'cuck moneyslave', 'cud', 'cuddle', 'culcheth', 'culcheth murderer', 'cult', 'cultural', 'cultural ethic', 'culture', 'culture come', 'cum', 'cum granny', 'cunt', 'cup', 'cup ban', 'cup boring', 'cup design', 'cup dhonikeepstheglove', 'cup dhonikeeptheglove', 'cup england', 'cup ever', 'cup experience', 'cup icc', 'cup instead', 'cup keep', 'cup match', 'cup played', 'cup rain', 'cup rainy', 'cup series', 'cup shameonicc', 'cup stand', 'cup swimming', 'cup tournament', 'cup trophy', 'cup washout', 'cup weather', 'cup world', 'cup worldcup', 'cupcake', 'cupcake federalprison', 'cure', 'cured', 'current', 'currently', 'curse', 'curse imran', 'curtain', 'curtis', 'custody', 'customer', 'cut', 'cute', 'cutlery', 'cuttack', 'cuttack odisha', 'cuz', 'cuz dont', 'cw', 'cwc', 'cwc best', 'cwc cricketkacrown', 'cwc cricketworldcup', 'cwc cwc', 'cwc cwcrains', 'cwc dhoni', 'cwc dhonikeepstheglove', 'cwc dhonikeeptheglove', 'cwc england', 'cwc engvwi', 'cwc icc', 'cwc iccwc', 'cwc iccworldcup', 'cwc indvaus', 'cwc indvnz', 'cwc indvpak', 'cwc indvspak', 'cwc rain', 'cwc rainstopsmatch', 'cwc shameonicc', 'cwc teamindia', 'cwc venue', 'cwc worldcup', 'cwcrains', 'cwcrains umbrella', 'cyber', 'cyber warfare', 'dad', 'daddy', 'daddy cuck', 'daddy real', 'daft', 'dagger', 'dagger insignia', 'dahmer', 'daily', 'daily basis', 'dalailama', 'dalailama bhorangzen', 'dalailama tibetcause', 'dalal', 'damage', 'damaged', 'damaging', 'damn', 'damned', 'damp', 'damper', 'damper cricket', 'dance', 'dancing', 'danger', 'dangerous', 'dare', 'dark', 'darn', 'dat', 'data', 'data watch', 'date', 'date havent', 'dating', 'dating site', 'dating uniform', 'daughter', 'david', 'day', 'day day', 'day donald', 'day ever', 'day fucktrump', 'day johnmccain', 'day johnmccainday', 'day know', 'day protest', 'day rain', 'day shameonicc', 'day thing', 'day trumpisatraitor', 'day used', 'day wc', 'day wish', 'dc', 'de', 'de pfeffel', 'dead', 'dead yet', 'deadly', 'deal', 'deal brexit', 'deal deal', 'deal dealoftheday', 'deal mexico', 'deal resist', 'dealing', 'dealoftheday', 'dealoftheday amazingdeals', 'dean', 'dear', 'dear dhoni', 'dear diary', 'dear icc', 'dear improve', 'dear indian', 'dear instead', 'dear reserve', 'dear sir', 'dear symbol', 'death', 'death penalty', 'death rapist', 'death wa', 'deathpenalty', 'debate', 'debate borisjohnsonshouldnotbepm', 'debate last', 'debt', 'decade', 'deceit', 'decency', 'decent', 'deception', 'deception roryforleader', 'decide', 'decided', 'decides', 'decides parajump', 'decides tackle', 'deciding', 'deciding wa', 'decision', 'decision dhoni', 'decisive', 'deck', 'declare', 'declared', 'declining', 'dedicated', 'dedication', 'dedication junior', 'deep', 'deeply', 'defeat', 'defeatgopin', 'defence', 'defend', 'defending', 'defends', 'defense', 'deficit', 'definitely', 'definitely driver', 'defy', 'defying', 'defying trump', 'degree', 'delay', 'delay washout', 'delaying', 'delete', 'delhi', 'delhi doctor', 'delhi doctorsfightback', 'delhi sikh', 'delicious', 'deliver', 'delivery', 'deluded', 'delusion', 'delusional', 'delusionaldon', 'delusionaldonald', 'delusionaldonald trumpisatraitor', 'dem', 'demand', 'demand justice', 'demand met', 'demanding', 'demented', 'dementeddonald', 'democracy', 'democracy danger', 'democracy doctorsfightback', 'democracy nation', 'democracy west', 'democrat', 'democratic', 'demon', 'demonstration', 'demonstration beijing', 'dems', 'dems resister', 'denial', 'deny', 'denying', 'departure', 'depend', 'depending', 'deplorable', 'deplorable follower', 'deplorables', 'dept', 'depth', 'der', 'deranged', 'deranged donald', 'derangeddonald', 'derangeddonald billiondollarloser', 'derangeddonald derangeddonnie', 'derangeddonald trumpisacriminal', 'derangeddonald trumpisatraitor', 'derangeddonnie', 'derelict', 'derelict unfit', 'deripaska', 'deripaska rusal', 'described', 'describing', 'deserve', 'deserve better', 'deserve host', 'deserve respect', 'deserves', 'deserves better', 'desh', 'design', 'designed', 'desire', 'desperate', 'desperatedonald', 'desperately', 'desperation', 'despicable', 'despise', 'despised', 'despite', 'despite acting', 'despotus', 'destroy', 'destroyed', 'destroying', 'destroying big', 'destroying country', 'destroys', 'destruction', 'destructive', 'detail', 'detention', 'developed', 'developed country', 'development', 'device', 'devil', 'devil possessed', 'dharamsala', 'dharamsala march', 'dharma', 'dharna', 'dhawan', 'dhoni', 'dhoni always', 'dhoni badge', 'dhoni bcci', 'dhoni bhai', 'dhoni cant', 'dhoni cwc', 'dhoni decides', 'dhoni dhoniatcwc', 'dhoni dhonigloves', 'dhoni dhonikeepbalidaanbadgeglove', 'dhoni dhonikeepstheglove', 'dhoni dhonikeeptheglove', 'dhoni dhonikesaathdesh', 'dhoni get', 'dhoni glove', 'dhoni indian', 'dhoni keep', 'dhoni love', 'dhoni millionaire', 'dhoni red', 'dhoni remove', 'dhoni today', 'dhoni use', 'dhoni wa', 'dhoni wear', 'dhoni wearing', 'dhoni worldcup', 'dhoniatcwc', 'dhoniatcwc dhoni', 'dhoniatcwc dhonikeepbalidaanbadgeglove', 'dhoniatcwc dhonikeepstheglove', 'dhonigloves', 'dhonigloves dhoni', 'dhonigloves dhonikeepbalidaanbadgeglove', 'dhonigloves dhonikeepstheglove', 'dhonigloves iccworldcup', 'dhonikeepbalidaanbadgeglove', 'dhonikeepbalidaanbadgeglove dhonikeepstheglove', 'dhonikeepstheglove', 'dhonikeepstheglove balidaanbadge', 'dhonikeepstheglove balidanbadge', 'dhonikeepstheglove bcci', 'dhonikeepstheglove bcoz', 'dhonikeepstheglove bharatroarsonday', 'dhonikeepstheglove cwc', 'dhonikeepstheglove dear', 'dhonikeepstheglove dhoni', 'dhonikeepstheglove dhoniatcwc', 'dhonikeepstheglove dhonigloves', 'dhonikeepstheglove dhonikeepbalidaanbadgeglove', 'dhonikeepstheglove dhonikeeptheglove', 'dhonikeepstheglove dhonikeepthegloves', 'dhonikeepstheglove dhonikesaathdesh', 'dhonikeepstheglove dhonikesathdesh', 'dhonikeepstheglove dhonivsicc', 'dhonikeepstheglove dont', 'dhonikeepstheglove game', 'dhonikeepstheglove icc', 'dhonikeepstheglove iccversusindia', 'dhonikeepstheglove iccwc', 'dhonikeepstheglove iccworldcup', 'dhonikeepstheglove india', 'dhonikeepstheglove indiastandswithdhoni', 'dhonikeepstheglove indiawithdhoni', 'dhonikeepstheglove indvsaus', 'dhonikeepstheglove issue', 'dhonikeepstheglove msdhoni', 'dhonikeepstheglove support', 'dhonikeepstheglove thank', 'dhonikeepstheglove useless', 'dhonikeepstheglove worldcup', 'dhonikeeptheglove', 'dhonikeeptheglove balidaanbadge', 'dhonikeeptheglove cwc', 'dhonikeeptheglove dhoni', 'dhonikeeptheglove dhonikeepstheglove', 'dhonikeeptheglove dhonikeepthegloves', 'dhonikeeptheglove dhonikesaathdesh', 'dhonikeeptheglove indiawithdhoni', 'dhonikeepthegloves', 'dhonikeepthegloves dhoni', 'dhonikeepthegloves dhonikeepstheglove', 'dhonikeepthegloves dhonikesaathdesh', 'dhonikesaathdesh', 'dhonikesaathdesh balidaanbadge', 'dhonikesaathdesh balidanbadge', 'dhonikesaathdesh dhoni', 'dhonikesaathdesh dhonigloves', 'dhonikesaathdesh dhonikeepbalidaanbadgeglove', 'dhonikesaathdesh dhonikeepstheglove', 'dhonikesaathdesh dhonikeeptheglove', 'dhonikesaathdesh dhonikeepthegloves', 'dhonikesaathdesh dhonivsicc', 'dhonikesaathdesh indiawithdhoni', 'dhonikesaathdesh isupportdhoni', 'dhonikesathdesh', 'dhonis', 'dhonis glove', 'dhonis glow', 'dhonis love', 'dhonivsicc', 'dhonivsicc dhonikeepstheglove', 'diagnose', 'diagnose consider', 'diagnosed', 'dial', 'diary', 'dick', 'dickhead', 'dickhead auspol', 'dickhead dickhead', 'dictator', 'dictator wannabe', 'dictatorship', 'dictatortrump', 'didi', 'didi doctorsfightback', 'didi medium', 'dididividesindia', 'didis', 'didivsdoctors', 'didivsdoctors doctorsfightback', 'didivsdoctors doctorsstrike', 'didnt', 'didnt even', 'didnt get', 'didnt go', 'didnt keep', 'didnt know', 'didnt respond', 'didnt say', 'didnt think', 'didnt turn', 'didnt vote', 'didnt want', 'didnt watch', 'didnt work', 'die', 'died', 'differ', 'difference', 'different', 'different way', 'difficult', 'dig', 'digging', 'digital', 'dignity', 'dignity save', 'dime', 'dinner', 'diplomacy', 'diplomat', 'diplomat awarded', 'direction', 'directly', 'director', 'dirt', 'dirt opponent', 'dirty', 'dirty politics', 'dirtyniggr', 'disabled', 'disagree', 'disagreed', 'disappear', 'disappointed', 'disappointed rapist', 'disappointing', 'disappointment', 'disaster', 'disclose', 'discount', 'discount jaishreeram', 'discrimination', 'discussed', 'discussing', 'diseased', 'disgrace', 'disgraceful', 'disgust', 'disgusted', 'disgusting', 'disgusting cant', 'disgusting dont', 'dishonest', 'dishonest medium', 'disinformation', 'dismiss', 'display', 'display poster', 'displayed', 'displayed item', 'displaying', 'disrespect', 'disrespectful', 'dissolvetheunion', 'dissolvetheunion indyref', 'distract', 'distraction', 'distress', 'distribute', 'distribute among', 'district', 'district headquarters', 'disturb', 'disturbed', 'ditchmitch', 'ditchmitch ditchmitch', 'ditchmitch voteblue', 'divide', 'divided', 'divider', 'divisive', 'dm', 'dm purchase', 'dna', 'doc', 'doctor', 'doctor across', 'doctor already', 'doctor applaud', 'doctor assault', 'doctor association', 'doctor assualt', 'doctor back', 'doctor bhcm', 'doctor cant', 'doctor come', 'doctor community', 'doctor continue', 'doctor continues', 'doctor counter', 'doctor country', 'doctor deserve', 'doctor doctor', 'doctor doctorsfightback', 'doctor doctorsprotest', 'doctor doctorsstrike', 'doctor doctorstrike', 'doctor dont', 'doctor even', 'doctor everything', 'doctor fighting', 'doctor fought', 'doctor god', 'doctor happening', 'doctor hounded', 'doctor human', 'doctor india', 'doctor issue', 'doctor karnataka', 'doctor know', 'doctor kolkata', 'doctor life', 'doctor medical', 'doctor medicine', 'doctor movement', 'doctor murshidabad', 'doctor must', 'doctor need', 'doctor never', 'doctor non', 'doctor nrs', 'doctor nurse', 'doctor old', 'doctor one', 'doctor oral', 'doctor outsider', 'doctor paying', 'doctor protest', 'doctor protesting', 'doctor quit', 'doctor refuse', 'doctor relationship', 'doctor resign', 'doctor resigned', 'doctor return', 'doctor right', 'doctor said', 'doctor save', 'doctor savethedoctors', 'doctor say', 'doctor seeking', 'doctor show', 'doctor stand', 'doctor standwithnrs', 'doctor state', 'doctor stop', 'doctor strike', 'doctor support', 'doctor take', 'doctor telangana', 'doctor terrorist', 'doctor treat', 'doctor unity', 'doctor usa', 'doctor wa', 'doctor want', 'doctor west', 'doctor westbengal', 'doctor would', 'doctor writing', 'doctorsfightback', 'doctorsfightback aiims', 'doctorsfightback angry', 'doctorsfightback bank', 'doctorsfightback bengal', 'doctorsfightback bengalburning', 'doctorsfightback bengaldoctorsstrike', 'doctorsfightback boycottbankalfalah', 'doctorsfightback dear', 'doctorsfightback dididividesindia', 'doctorsfightback didivsdoctors', 'doctorsfightback doctor', 'doctorsfightback doctorsprotest', 'doctorsfightback doctorsstrike', 'doctorsfightback doctorstrike', 'doctorsfightback doctorsunderoppression', 'doctorsfightback istandwithnrs', 'doctorsfightback kolkata', 'doctorsfightback mamata', 'doctorsfightback mamatabanarjee', 'doctorsfightback mamatalosingcontrol', 'doctorsfightback medical', 'doctorsfightback need', 'doctorsfightback parent', 'doctorsfightback prime', 'doctorsfightback savebengal', 'doctorsfightback savedoctors', 'doctorsfightback savethedoctors', 'doctorsfightback savethesaviour', 'doctorsfightback sir', 'doctorsfightback stand', 'doctorsfightback standwithdoctors', 'doctorsfightback standwithnrs', 'doctorsfightback stopviolenceagainstdoctors', 'doctorsfightback want', 'doctorsfightback westbengal', 'doctorsprotest', 'doctorsprotest bengaldoctorsstrike', 'doctorsprotest doctor', 'doctorsprotest doctorsfightback', 'doctorsprotest doctorsstrike', 'doctorsprotest doctorstrike', 'doctorsprotest doctorsunderoppression', 'doctorsprotest india', 'doctorsprotest savebengal', 'doctorsprotest savethedoctors', 'doctorsprotest standwithnrsmch', 'doctorsprotest westbengal', 'doctorsstrike', 'doctorsstrike didivsdoctors', 'doctorsstrike doctor', 'doctorsstrike doctorsfightback', 'doctorsstrike doctorsprotest', 'doctorsstrike doctorstrike', 'doctorsstrike doctorsunderoppression', 'doctorsstrike engvwi', 'doctorsstrike savedoctors', 'doctorsstrike savethedoctors', 'doctorstrike', 'doctorstrike doctor', 'doctorstrike doctorsfightback', 'doctorstrike doctorsprotest', 'doctorstrike doctorsunderoppression', 'doctorstrike savebengal', 'doctorstrike savethedoctors', 'doctorstrike westbengal', 'doctorsunderoppression', 'doctorsunderoppression doctor', 'doctorsunderoppression doctorsfightback', 'doctorsunderoppression doctorsprotest', 'document', 'documentary', 'documented', 'dodger', 'dodging', 'doe', 'doe borisjohnsonshouldnotbepm', 'doe know', 'doe make', 'doe matter', 'doe trump', 'doesnt', 'doesnt care', 'doesnt deserve', 'doesnt even', 'doesnt get', 'doesnt give', 'doesnt know', 'doesnt matter', 'doesnt mean', 'doesnt need', 'doesnt pay', 'doesnt see', 'doesnt understand', 'doesnt want', 'dog', 'dog deserve', 'dog run', 'dog vomit', 'doj', 'doll', 'dollar', 'domestic', 'donald', 'donald called', 'donald trump', 'donaldtrump', 'donaldtrumpjr', 'donating', 'donation', 'done', 'done fucktrump', 'done rapist', 'done trumpisatraitor', 'donjr', 'donjr fucktrump', 'donnie', 'donny', 'donor', 'dont', 'dont accept', 'dont allow', 'dont ask', 'dont befool', 'dont believe', 'dont call', 'dont care', 'dont change', 'dont come', 'dont even', 'dont expect', 'dont feel', 'dont forget', 'dont fucking', 'dont get', 'dont give', 'dont know', 'dont let', 'dont lie', 'dont like', 'dont make', 'dont necessarily', 'dont need', 'dont play', 'dont put', 'dont remove', 'dont retweet', 'dont save', 'dont say', 'dont see', 'dont stop', 'dont support', 'dont take', 'dont think', 'dont time', 'dont treat', 'dont trust', 'dont try', 'dont understand', 'dont want', 'dont worry', 'donthecon', 'donthecon fraud', 'door', 'dopeydonald', 'dopeydonald fucktrump', 'dossier', 'dossier wa', 'dotard', 'double', 'double exclamation', 'double standard', 'doubt', 'douche', 'douche douchebag', 'douchebag', 'douchebag always', 'douchebag barr', 'douchebag funny', 'douchebag get', 'douchebag say', 'douchebag wannabe', 'douchebags', 'downing', 'downing street', 'doyourjobmitch', 'doyourjobmitch ditchmitch', 'doyourjobmitch resist', 'dp', 'dr', 'dr kafeel', 'dr paribaha', 'dr plaban', 'dr priyanshu', 'dr sambit', 'dr swati', 'draft', 'draft dodger', 'draft dodging', 'draftdodger', 'draftdodger presidentbonespurs', 'drag', 'dragged', 'dragging', 'drain', 'drained', 'draintheswamp', 'draintheswamp voteoutgop', 'drama', 'dream', 'dream becoming', 'dreamer', 'dreamt', 'dreamzgkfraud', 'dreamzgkfraud imafraud', 'dress', 'dressed', 'drew', 'drink', 'drinking', 'drive', 'driver', 'driver chaser', 'driverless', 'driving', 'drop', 'drop umbrella', 'dropped', 'drove', 'drs', 'drubbing', 'drug', 'drug borisjohnsonshouldnotbepm', 'drugaddict', 'drugaddict sexfiend', 'drugger', 'drugger rapist', 'drumpf', 'drunk', 'dry', 'dt', 'dubai', 'dubai need', 'ducking', 'dude', 'dude still', 'due', 'due lack', 'due rain', 'dufus', 'dumb', 'dumb trump', 'dumbass', 'dumbass fucktrump', 'dumbdonnythedraftdodgingdotard', 'dumber', 'dump', 'dumptrump', 'dumptrump fucktrump', 'dumptrump unite', 'duncan', 'duncan hunter', 'durga', 'durga puja', 'duty', 'duty doctorsfightback', 'dvb', 'dy', 'dy hospital', 'dy match', 'dying', 'dying without', 'dynasty', 'eagerly', 'eagerly wait', 'ear', 'earlier', 'early', 'early morning', 'earn', 'earned', 'earner', 'earning', 'earning billion', 'earth', 'easily', 'east', 'east india', 'east turkestan', 'eastturkistan', 'eastturkistan china', 'eastturkistan freedomforeastturkistan', 'eastturkistan world', 'easy', 'easy way', 'eat', 'eating', 'eating lay', 'ec', 'ecb', 'economic', 'economics', 'economy', 'economy inherited', 'ed', 'edbuck', 'eden', 'edengarden', 'edengarden shameonicc', 'edition', 'editor', 'educated', 'education', 'effect', 'effect game', 'effected', 'efficiently', 'efficiently icc', 'effigy', 'effigy burning', 'effort', 'egg', 'ego', 'ego issue', 'egoistic', 'eh', 'either', 'either god', 'either way', 'el', 'elect', 'elected', 'elected pm', 'elected racist', 'electing', 'election', 'election borisjohnsonshouldnotbepm', 'election campaign', 'election congress', 'election fairly', 'election fucktrump', 'election help', 'election interference', 'election thats', 'election trumpisatraitor', 'electoral', 'element', 'element cultural', 'elephant', 'elevate', 'eligible', 'elite', 'elizabeth', 'elizabeth warren', 'else', 'else attack', 'else ha', 'else would', 'elsewhere', 'email', 'embarrassing', 'embarrassment', 'embarrassment country', 'embassy', 'embassy defy', 'embassy rome', 'embassy worldwide', 'emergency', 'emergency ot', 'emergency service', 'emi', 'emoji', 'emolument', 'emolument clause', 'emotion', 'employ', 'employee', 'employer', 'empty', 'empty podium', 'en', 'en masse', 'enablers', 'enabling', 'encourage', 'end', 'end strike', 'end torture', 'endangered', 'enddcmt', 'enddcmt boycottchina', 'ended', 'ended double', 'endless', 'endorse', 'endorsement', 'endorsing', 'enemy', 'enemy nation', 'enemy people', 'enemyofthepeople', 'energy', 'enforce', 'enforcement', 'eng', 'eng au', 'eng ind', 'eng never', 'engaging', 'engine', 'engineer', 'england', 'england choose', 'england cricket', 'england doesnt', 'england england', 'england go', 'england going', 'england icc', 'england india', 'england match', 'england playing', 'england rain', 'england rainy', 'england shameonicc', 'england team', 'english', 'english ground', 'english player', 'english shameonicc', 'engvswi', 'engvswi match', 'engvwi', 'engvwi cwc', 'engvwi savebengal', 'engvwi shameonicc', 'engvwi wiveng', 'enjoy', 'enjoying', 'enough', 'enough already', 'enough enough', 'enough hanged', 'enough rape', 'enough remember', 'enough time', 'enough trump', 'enough trumpisatraitor', 'enoughisenough', 'enquiry', 'ensure', 'enter', 'entered', 'enterprise', 'entertaining', 'enthusiasm', 'entire', 'entire country', 'entire dept', 'entire ground', 'entire life', 'entire medical', 'entire nation', 'entire pakistan', 'entire state', 'entire world', 'entirely', 'entitled', 'entitlement', 'entity', 'entry', 'environment', 'epa', 'epic', 'epicfail', 'episode', 'equal', 'equal right', 'equipment', 'equipment dhonikeepstheglove', 'equivalent', 'er', 'era', 'eric', 'eric prince', 'erictrump', 'erictrump donjr', 'error', 'escalated', 'escape', 'escapedprisoner', 'escapedprisoner alien', 'escort', 'especially', 'established', 'estate', 'et', 'etc', 'ethic', 'eton', 'eton oxford', 'etsy', 'etsy shop', 'ettd', 'eu', 'eu borisjohnsonshouldnotbepm', 'european', 'european vacation', 'even', 'even bother', 'even doctor', 'even know', 'even mean', 'even money', 'even murder', 'even murderer', 'even number', 'even one', 'even small', 'even spell', 'even started', 'even thankfully', 'even though', 'even worse', 'evening', 'event', 'event come', 'event efficiently', 'event icc', 'event management', 'event much', 'event permit', 'event wc', 'eventually', 'ever', 'ever borisjohnsonshouldnotbepm', 'ever dickhead', 'ever fucktrump', 'ever let', 'ever said', 'ever seen', 'ever shameonicc', 'ever since', 'ever stop', 'ever trumpisatraitor', 'ever try', 'every', 'every aspect', 'every cricket', 'every day', 'every good', 'every indian', 'every match', 'every morning', 'every one', 'every part', 'every person', 'every protest', 'every right', 'every single', 'every state', 'every team', 'every time', 'every week', 'everybody', 'everyday', 'everyone', 'everyone else', 'everyone ha', 'everyone know', 'everyone party', 'everyone waited', 'everything', 'everything else', 'everything take', 'everytime', 'everywhere', 'everywhere martin', 'evidence', 'evident', 'evil', 'evil fucktrump', 'evm', 'evm evmpm', 'evmpm', 'evmsarkar', 'ex', 'ex student', 'exact', 'exact opposite', 'exactly', 'exam', 'example', 'except', 'except trump', 'excited', 'excitement', 'exclamation', 'exclamation mark', 'exclamation question', 'exclusive', 'exclusively', 'exclusively indiawithdhoni', 'excuse', 'exec', 'executed', 'execution', 'executive', 'executive order', 'executive privilege', 'exemplary', 'exercise', 'exercise immediately', 'exist', 'existence', 'existing', 'exists', 'exolselcaday', 'expect', 'expect anything', 'expect believe', 'expect fucktrump', 'expected', 'expects', 'expense', 'expensive', 'experience', 'experienced', 'expert', 'explain', 'explained', 'explained resist', 'explains', 'expletive', 'expose', 'exposed', 'exposing', 'exposure', 'express', 'extended', 'extended size', 'extension', 'extent', 'extent skull', 'extermination', 'extermination verminous', 'extra', 'extraordinary', 'extreme', 'extremism', 'extremist', 'eye', 'eye open', 'eye opener', 'eyewash', 'eyewash exercise', 'face', 'face borisjohnsonshouldnotbepm', 'face consequence', 'face daily', 'facebook', 'faced', 'faced liar', 'faced rain', 'facility', 'facing', 'fact', 'fact check', 'fact dont', 'fact one', 'factor', 'factsmatter', 'faculty', 'fail', 'failed', 'failed businessman', 'failed miserably', 'failed take', 'failing', 'fails', 'failure', 'failure trumponomics', 'fair', 'fair game', 'fair trumpisatraitor', 'fairly', 'faith', 'fake', 'fake activist', 'fake attack', 'fake news', 'fake president', 'fake rape', 'fakedonaldtrump', 'fakefeminist', 'fakemelania', 'fakemelania creepypence', 'fakenews', 'fakepresident', 'fakepresident fucktrump', 'fakepresident trumpcrimefamily', 'fakepresident wearenotok', 'fall', 'fallen', 'falling', 'false', 'falseflag', 'falseflag trumpdistractons', 'fame', 'family', 'family friend', 'family member', 'family resist', 'family worth', 'famous', 'fan', 'fan across', 'fan around', 'fan dickhead', 'fan icc', 'fan mess', 'fan mood', 'fan need', 'fan shameonicc', 'fan unleash', 'fan waited', 'fancy', 'fantastic', 'fantasy', 'far', 'far better', 'far important', 'farage', 'farm', 'farmer', 'farting', 'fascism', 'fascist', 'fascisttrump', 'fashion', 'fast', 'fast enough', 'fast result', 'faster', 'fat', 'fatal', 'fate', 'fate alleged', 'father', 'father day', 'fathersday', 'fatnixon', 'fault', 'fault doctor', 'faux', 'faux king', 'fauxnews', 'favor', 'favorable', 'favorite', 'favour', 'favourite', 'fawadchaudhry', 'fawadchaudhry hindusamarajyadiwas', 'fb', 'fb post', 'fbi', 'fbi director', 'fbi trumpisatraitor', 'fbpe', 'fbr', 'fbr resist', 'fbresistance', 'fbrparty', 'fck', 'fear', 'fearty', 'fearty wheresboris', 'fec', 'federal', 'federalprison', 'federalprison cafeteriatray', 'fee', 'fee dhoni', 'fee game', 'feed', 'feed ego', 'feeding', 'feel', 'feel ashamed', 'feel better', 'feel cold', 'feel free', 'feel ha', 'feel like', 'feel sad', 'feel sorry', 'feel way', 'feeling', 'feeling like', 'feeling msdhoni', 'feeling murderer', 'feelthebern', 'fell', 'fellow', 'fellow indian', 'felon', 'felony', 'felony win', 'felt', 'female', 'female sign', 'ffs', 'field', 'field part', 'fight', 'fight back', 'fight college', 'fight tmc', 'fighting', 'fighting life', 'fighting respect', 'figure', 'figured', 'file', 'filed', 'filing', 'filled', 'film', 'filmed', 'filthy', 'filthy language', 'final', 'final au', 'final ind', 'final win', 'final year', 'finale', 'finale also', 'finally', 'finally found', 'finally put', 'finance', 'finance joint', 'financial', 'financial backbone', 'find', 'find hard', 'find insignia', 'find real', 'finding', 'findom', 'findom bitcoin', 'findom paypig', 'fine', 'fine umpire', 'finger', 'finished', 'fir', 'fire', 'fire kellyanne', 'fired', 'firing', 'firing pollster', 'firm', 'first', 'first cardiologist', 'first class', 'first converting', 'first cricket', 'first dhonikeeptheglove', 'first improve', 'first india', 'first place', 'first screw', 'first talk', 'first thing', 'first time', 'firstly', 'firstresponders', 'fish', 'fist', 'fit', 'fit office', 'fitting', 'five', 'five year', 'fix', 'fixed', 'fixing', 'flag', 'flag day', 'flag without', 'flagday', 'flat', 'flight', 'flip', 'flipkart', 'flipkart deal', 'flipped', 'flipthesenate', 'floating', 'flood', 'flood stadium', 'floor', 'flop', 'flopped', 'florida', 'florida trump', 'fly', 'flying', 'flying pride', 'focus', 'focus cricket', 'focus dhonis', 'focus improving', 'focus umpiring', 'focused', 'focusing', 'focussed', 'foh', 'fold', 'folk', 'follow', 'follow back', 'follow cartoon', 'follow like', 'follow murderer', 'follow rule', 'followed', 'follower', 'following', 'following findom', 'following tweet', 'food', 'food bank', 'fool', 'fool icc', 'fooling', 'foolish', 'foolish decision', 'foot', 'football', 'forbid', 'force', 'force balidaanbadge', 'force dhonikeepstheglove', 'force one', 'force rape', 'force soldier', 'force understand', 'forced', 'forcing', 'ford', 'ford bronco', 'forecast', 'foreign', 'foreign actor', 'foreign adversary', 'foreign agent', 'foreign country', 'foreign dirt', 'foreign entity', 'foreign government', 'foreign help', 'foreign influence', 'foreign info', 'foreign interference', 'foreign office', 'foreign policy', 'foreign power', 'foreign secretary', 'foreigninterference', 'forensicfiles', 'forever', 'forget', 'forgive', 'forgot', 'forgotten', 'form', 'format', 'former', 'fortune', 'forward', 'forward seeing', 'fought', 'fought back', 'foul', 'foul mouthed', 'found', 'found cwc', 'found guilty', 'foundation', 'founder', 'founding', 'founding father', 'four', 'four match', 'four year', 'fox', 'fox friend', 'fox news', 'foxnews', 'foxnews fucktrump', 'fr', 'fractured', 'fractured fighting', 'fragile', 'france', 'fraternity', 'fraternity savethedoctors', 'fraud', 'fraud hate', 'fraud leader', 'fraudster', 'fraudster behind', 'freaking', 'freaking kidding', 'free', 'free man', 'free speech', 'freedom', 'freedom humanrights', 'freedom speech', 'freedom uyghurs', 'freedom west', 'freedomforeastturkistan', 'freedomforeastturkistan freemongolia', 'freedomforeastturkistan turkistan', 'freemongolia', 'freemongolia freesouthmongolia', 'freenazanin', 'freepress', 'freesouthmongolia', 'freetibet', 'freetibet movement', 'freetibet savetibet', 'freeuyghur', 'freeuyghur boycottchina', 'freeuyghur china', 'freeuyghur eastturkistan', 'freeuyghur saveuyghur', 'frenzy', 'fresh', 'friday', 'fridayfeeling', 'fridayfeeling fridaymotivation', 'fridayfeeling scosummit', 'fridayfeeling shameonicc', 'fridaymotivation', 'fridaymotivation fridayfeeling', 'fridaymotivation nbafinals', 'fridaythoughts', 'friend', 'friend putin', 'friendly', 'friendship', 'frightening', 'frightening borisjohnsonshouldnotbepm', 'frm', 'front', 'front door', 'frowning', 'frowning face', 'frustrated', 'frustration', 'ftac', 'fu', 'fuck', 'fuck america', 'fuck bisexual', 'fuck business', 'fuck everyone', 'fuck fucked', 'fuck fucktrump', 'fuck gay', 'fuck housewife', 'fuck piece', 'fuck republican', 'fuck right', 'fuck sake', 'fuck stupid', 'fuck trump', 'fuck worst', 'fuckallthetrumps', 'fuckallthetrumps fucktrumpsupporters', 'fuckdelhipolice', 'fuckdemocrats', 'fuckdemocrats fuckrepublicans', 'fuckdonaldtrump', 'fucked', 'fucked clip', 'fucked daddy', 'fucked fuck', 'fucked girl', 'fucken', 'fucker', 'fucker fucktrump', 'fuckfacevonclownstick', 'fuckgop', 'fucking', 'fucking asshole', 'fucking disgrace', 'fucking guy', 'fucking idiot', 'fucking moron', 'fucking time', 'fuckmaga', 'fuckoff', 'fuckoj', 'fuckoj murderer', 'fuckpence', 'fuckpence fuckthegop', 'fuckpompeo', 'fuckrepublicans', 'fucksarahsanders', 'fucksarahsanders fucktrump', 'fuckthegop', 'fuckthegop draintheswamp', 'fuckthegop fucktrump', 'fuckthegop fucktrumpsupporters', 'fucktrump', 'fucktrump americansforimpeachment', 'fucktrump antitrump', 'fucktrump bday', 'fucktrump bebest', 'fucktrump bluewave', 'fucktrump byefelicia', 'fucktrump complicitgop', 'fucktrump derangeddonald', 'fucktrump doyourjobmitch', 'fucktrump dumbdonnythedraftdodgingdotard', 'fucktrump dumptrump', 'fucktrump fakemelania', 'fucktrump follow', 'fucktrump friday', 'fucktrump fuck', 'fucktrump fuckallthetrumps', 'fucktrump fuckgop', 'fucktrump fuckpence', 'fucktrump fuckpompeo', 'fucktrump fuckthegop', 'fucktrump fucktrump', 'fucktrump game', 'fucktrump happy', 'fucktrump happyjohnmccainday', 'fucktrump hope', 'fucktrump impeach', 'fucktrump impeachdonaldtrumpnow', 'fucktrump impeachmentnow', 'fucktrump impeachthemf', 'fucktrump impeachtrump', 'fucktrump impeachtrumpnow', 'fucktrump impeachtrumppence', 'fucktrump indicttrump', 'fucktrump itmfa', 'fucktrump johnmccainday', 'fucktrump johnmccaindayjune', 'fucktrump let', 'fucktrump liarinchief', 'fucktrump maga', 'fucktrump mug', 'fucktrump need', 'fucktrump nogop', 'fucktrump notmypresident', 'fucktrump orangefoolius', 'fucktrump pride', 'fucktrump progressive', 'fucktrump resist', 'fucktrump resistance', 'fucktrump resistfascism', 'fucktrump resisttrump', 'fucktrump taxday', 'fucktrump traitortrump', 'fucktrump treason', 'fucktrump trump', 'fucktrump trumpcolluded', 'fucktrump trumpcrimefamily', 'fucktrump trumpisatraitor', 'fucktrump trumpmustresign', 'fucktrump trumpresignnow', 'fucktrump trumpsaninternationaldisgrace', 'fucktrump trumpsucks', 'fucktrump trumpsworsethannixon', 'fucktrump uk', 'fucktrump via', 'fucktrump villageidiot', 'fucktrump voteblue', 'fucktrump votebluenomatterwho', 'fucktrump wtfiswrongwithyou', 'fucktrump yousuck', 'fucktrumpsupporters', 'fuel', 'fugitive', 'fugitive like', 'full', 'full corrupt', 'full supporting', 'full time', 'fully', 'fully support', 'fun', 'function', 'functional', 'functional member', 'fund', 'fund raising', 'fundamental', 'fundamental right', 'funded', 'funded european', 'funding', 'funniest', 'funniest part', 'funny', 'funny poetry', 'funny say', 'futile', 'futile eyewash', 'future', 'future match', 'fyi', 'gabbar', 'gaffe', 'gain', 'gain control', 'gallery', 'game', 'game dhonikeepstheglove', 'game indiavspakistan', 'game loos', 'game play', 'game shameonicc', 'game show', 'game washed', 'gandhi', 'gandi', 'gandi naali', 'gandinaaliabuse', 'gandinaaliabuse abusing', 'gandinaaliabuse congress', 'gandinaaliabuse crazy', 'gandinaaliabuse dont', 'gandinaaliabuse gandinaaliinsult', 'gandinaaliabuse one', 'gandinaaliabuse pm', 'gandinaaliabuse stinking', 'gandinaaliinsult', 'gang', 'ganga', 'gangrapes', 'gangrapes christineblaseyford', 'gangster', 'gap', 'garbage', 'garden', 'garden bridge', 'gaslighting', 'gavaskar', 'gavaskar sir', 'gave', 'gay', 'gay video', 'gayle', 'gayle got', 'gb', 'gb data', 'gdp', 'ge', 'gear', 'geez', 'gender', 'general', 'general election', 'generalelectionnow', 'genius', 'genocide', 'genocide rt', 'genocide stopchina', 'gentleman', 'genuine', 'george', 'george conway', 'georgestephanopoulos', 'germany', 'gesture', 'get', 'get additional', 'get around', 'get away', 'get back', 'get beaten', 'get damn', 'get dhonikeepstheglove', 'get dickhead', 'get elected', 'get even', 'get exclamation', 'get fast', 'get fucktrump', 'get good', 'get hurt', 'get job', 'get justice', 'get life', 'get money', 'get much', 'get oneplus', 'get owned', 'get parentalrights', 'get pas', 'get ready', 'get rid', 'get see', 'get shirt', 'get tattoo', 'get treated', 'get trump', 'get washed', 'get well', 'get wheres', 'get white', 'get worse', 'get youve', 'gettin', 'getting', 'getting bigger', 'getting even', 'getting fucked', 'getting impeached', 'getting started', 'getting washed', 'getting worse', 'ghost', 'girl', 'girl getting', 'girl raped', 'girl real', 'girlfriend', 'give', 'give fbi', 'give fuck', 'give ole', 'give proper', 'give rapist', 'give satisfaction', 'give shit', 'given', 'giving', 'glad', 'glad see', 'gladly', 'glass', 'global', 'globe', 'gloomy', 'glory', 'glove', 'glove army', 'glove balidan', 'glove big', 'glove cant', 'glove controversy', 'glove dhonikeepstheglove', 'glove doe', 'glove dont', 'glove entire', 'glove ha', 'glove icc', 'glove important', 'glove inappropriate', 'glove indvnz', 'glove michael', 'glove msdhoni', 'glove pic', 'glove ridiculous', 'glove shameonicc', 'glove show', 'glove supportdhoni', 'glove till', 'glove would', 'glow', 'go', 'go ahead', 'go away', 'go back', 'go doctor', 'go fuck', 'go get', 'go hell', 'go history', 'go home', 'go indefinite', 'go let', 'go prison', 'go rapist', 'go semi', 'go show', 'go war', 'go well', 'go wrong', 'goal', 'goal imranhataomulkbachao', 'god', 'god bless', 'god cosmos', 'god didnt', 'god dog', 'god give', 'god help', 'god please', 'god rain', 'god save', 'goi', 'goi control', 'going', 'going change', 'going forward', 'going get', 'going hell', 'going let', 'going lie', 'going like', 'going line', 'going make', 'going stop', 'going take', 'going watch', 'going way', 'going win', 'gold', 'golden', 'goldman', 'golf', 'golf course', 'gon', 'gon na', 'gone', 'gone fuck', 'good', 'good bad', 'good guy', 'good idea', 'good job', 'good man', 'good morning', 'good news', 'good one', 'good reason', 'good riddance', 'good thing', 'goodtime', 'goodtime trumporganization', 'google', 'google search', 'goon', 'goon doctorsfightback', 'goon politics', 'goonda', 'gop', 'gop doe', 'gop guardian', 'gop ha', 'gop politics', 'gop trump', 'gopcomplicit', 'gopcomplicittraitors', 'gopcomplicittraitors gopcomplicit', 'gopcorruption', 'gopcorruptionandcruelty', 'gopcrimesyndicate', 'goptaxscam', 'goptraitors', 'goptraitors goptreason', 'goptraitors trumpisatraitor', 'goptreason', 'gopwaronwomen', 'gorakhpur', 'gordon', 'gordon brown', 'gosh', 'got', 'got away', 'got complacent', 'got lbw', 'got little', 'got right', 'got ta', 'gotohell', 'gotten', 'gov', 'gove', 'governance', 'government', 'government didnt', 'government doctor', 'government hospital', 'government india', 'government run', 'government take', 'governor', 'govt', 'govt medical', 'govt school', 'govt threatening', 'grace', 'graf', 'graham', 'grand', 'grand tournament', 'granny', 'granny doctor', 'granted', 'grasp', 'grasshopper', 'grasshopper call', 'grave', 'great', 'great american', 'great choice', 'great day', 'great idea', 'great job', 'greatest', 'greatjobatbeingadouchebag', 'greatly', 'greedy', 'green', 'greeted', 'grenfell', 'grifter', 'grindsmygears', 'grindsmygears whatspissingmeofftoday', 'grocery', 'gross', 'gross need', 'ground', 'ground badge', 'ground condition', 'ground cover', 'ground covered', 'ground dhonikeepstheglove', 'ground england', 'ground pic', 'ground rain', 'ground remember', 'ground shameonicc', 'ground strongly', 'ground take', 'ground wa', 'group', 'grow', 'growing', 'grown', 'gt', 'gt fucktrump', 'gtfo', 'gtfoh', 'gtfoofmywhitehouse', 'gtfoofmywhitehouse traitor', 'gtto', 'guarantee', 'guardian', 'guardian borisjohnsonshouldnotbepm', 'guardian putin', 'guess', 'guess better', 'guess doesnt', 'guess fucktrump', 'guessing', 'guilt', 'guilty', 'guilty hell', 'guilty murder', 'guilty sin', 'guiltyassin', 'guiltyassin whoremonger', 'gulf', 'gullible', 'gully', 'gun', 'gun law', 'gun tell', 'gut', 'gut trumpisatraitor', 'gutless', 'guy', 'guy concerned', 'guy douchebag', 'guy left', 'guy murderer', 'guy planned', 'guy wa', 'gyan', 'gym', 'gym hotel', 'ha', 'ha achieved', 'ha affected', 'ha already', 'ha also', 'ha always', 'ha become', 'ha business', 'ha carried', 'ha changed', 'ha cheated', 'ha clue', 'ha come', 'ha complete', 'ha confirmed', 'ha created', 'ha credibility', 'ha destroyed', 'ha done', 'ha ever', 'ha every', 'ha failed', 'ha follower', 'ha found', 'ha getting', 'ha given', 'ha gone', 'ha got', 'ha gotten', 'ha ha', 'ha habit', 'ha happened', 'ha hell', 'ha human', 'ha idea', 'ha insulted', 'ha intact', 'ha intention', 'ha johnson', 'ha joined', 'ha le', 'ha little', 'ha lost', 'ha made', 'ha never', 'ha nothing', 'ha one', 'ha ordered', 'ha people', 'ha problem', 'ha proved', 'ha put', 'ha reached', 'ha read', 'ha right', 'ha said', 'ha say', 'ha set', 'ha shown', 'ha since', 'ha taken', 'ha told', 'ha vanished', 'ha worst', 'habit', 'habitual', 'habitual liar', 'hacking', 'hadnt', 'hag', 'hag conway', 'haha', 'hahaha', 'hahaha pity', 'hahaha type', 'hai', 'hail', 'hain', 'hair', 'half', 'hammer', 'hammering', 'hancock', 'hancock supporting', 'hand', 'hand dhonikeepstheglove', 'hand gtfoofmywhitehouse', 'handcart', 'handcart reckon', 'handcuff', 'handed', 'handful', 'handle', 'handle event', 'handler', 'handling', 'handwriting', 'hang', 'hang rapist', 'hang till', 'hanged', 'hanging', 'happen', 'happen catholic', 'happen dhonikeepstheglove', 'happen resist', 'happen right', 'happen shameonicc', 'happened', 'happened today', 'happening', 'happening cricket', 'happening west', 'happeningnow', 'happeningnow acrossthecountry', 'happens', 'happily', 'happy', 'happy birthday', 'happy born', 'happy father', 'happy johhmccainday', 'happy john', 'happy johnmcainday', 'happy johnmccainday', 'happybirthdaymrpresident', 'happyfathersday', 'happyjohnmccainday', 'happyjohnmccainday fucktrump', 'happyjohnmccainday johnmccainday', 'happyjohnmccainday plz', 'happyjohnmccainday trumpisatraitor', 'happyjohnmccaindayjune', 'har', 'harassing', 'harassment', 'harassment asking', 'hard', 'hard get', 'hard pas', 'hard remain', 'harder', 'hardly', 'harm', 'harmful', 'harmless', 'harris', 'harvard', 'hashtag', 'hashtags', 'hasnt', 'hasnt ended', 'hastings', 'hat', 'hatch', 'hatch act', 'hate', 'hate fucktrump', 'hate selected', 'hate speech', 'hate towards', 'hater', 'hatred', 'havent', 'havent done', 'havent forgotten', 'havent heard', 'hd', 'head', 'head cricketing', 'head matter', 'heading', 'headline', 'headquarters', 'headquarters hospital', 'heal', 'heal operate', 'health', 'health care', 'health minister', 'healthcare', 'healthcare coma', 'healthy', 'hear', 'hear tory', 'heard', 'heard read', 'hearing', 'hears', 'heart', 'heart attack', 'heart continue', 'heart red', 'heart suit', 'heart transplant', 'heartbeat', 'heartbreaking', 'heat', 'heavy', 'heavy sigh', 'hed', 'hed accept', 'hed commit', 'hed take', 'hegde', 'hegde caught', 'height', 'held', 'held accountable', 'held th', 'hell', 'hell bent', 'hell democracy', 'hell fucktrump', 'hell handcart', 'hell murderer', 'hell still', 'hell wa', 'hello', 'helmet', 'helmet viral', 'help', 'help borisjohnsonshouldnotbepm', 'help foreign', 'help russia', 'help vet', 'helped', 'helping', 'helping killer', 'helpless', 'helpless take', 'hence', 'hero', 'hero fucktrump', 'hero one', 'heroic', 'hey', 'hey douchebag', 'hey oj', 'hi', 'hi everyone', 'hick', 'hidden', 'hide', 'hide behind', 'hiding', 'hiding behind', 'hiding taxreturns', 'high', 'high time', 'high voltage', 'high weed', 'highcrimesandmisdemeanors', 'higher', 'highest', 'highlight', 'highly', 'highness', 'highness fugitive', 'hijack', 'hilarious', 'hill', 'hillary', 'hillary clinton', 'hillary wa', 'hillaryclinton', 'hind', 'hindi', 'hindu', 'hindu muslim', 'hinduphobia', 'hinduphobic', 'hindusamarajyadiwas', 'hindusamarajyadiwas doctorsfightback', 'hire', 'history', 'history book', 'history ha', 'hit', 'hit doctor', 'hitler', 'hitler youth', 'hitting', 'hk', 'hk got', 'hmm', 'ho', 'ho india', 'hoax', 'hold', 'hold protest', 'holding', 'holding commentary', 'holding threshold', 'hole', 'holiday', 'hollywood', 'holy', 'home', 'home could', 'home safely', 'homeless', 'homeless without', 'homophobia', 'homophobic', 'homophobic racist', 'hona', 'hone', 'honest', 'honestly', 'honesty', 'honey', 'hongkong', 'hongkong knew', 'honor', 'honor traitor', 'honorable', 'honorary', 'honored', 'honour', 'honourable', 'hope', 'hope get', 'hope least', 'hopeful', 'hopefully', 'hoping', 'hoping worstpresidentever', 'horrible', 'horrific', 'horror', 'horseshit', 'hosp', 'hospital', 'hospital india', 'hospital kolkata', 'hospital let', 'host', 'host world', 'hostel', 'hostile', 'hostile foreign', 'hosting', 'hot', 'hota', 'hotel', 'hotel team', 'hotstar', 'hounded', 'hounded year', 'hour', 'hour go', 'hour ultimatum', 'house', 'house covering', 'house ha', 'house trumpisatraitor', 'housewife', 'housewife girl', 'however', 'hr', 'huawei', 'huckabee', 'hue', 'hug', 'huge', 'hugely', 'huh', 'huh douchebag', 'human', 'human fucktrump', 'human right', 'human whole', 'humancentipede', 'humancentipede tellemwhyyoumad', 'humanity', 'humanity doctorsfightback', 'humankind', 'humanrights', 'humanrights boycottchina', 'humanrights china', 'humanrights fucktrump', 'humanrightsviolations', 'humble', 'humble request', 'humiliated', 'humm', 'hump', 'hundred', 'hungry', 'hunt', 'hunter', 'hunter wife', 'hurled', 'hurling', 'hurt', 'hurt doctor', 'hurting', 'hurtle', 'hurtle towards', 'husband', 'hustings', 'hv', 'hyderabad', 'hyped', 'hyper', 'hypocrisy', 'hypocrisy doctorsfightback', 'hypocrisy hypocrite', 'hypocrite', 'hypocrite liar', 'hypocritical', 'icc', 'icc another', 'icc balidan', 'icc bcci', 'icc behaving', 'icc better', 'icc could', 'icc cricket', 'icc cricketworldcup', 'icc cwc', 'icc dhoni', 'icc dhonikeepstheglove', 'icc dhonikeeptheglove', 'icc dhonis', 'icc doesnt', 'icc dont', 'icc earning', 'icc england', 'icc event', 'icc focus', 'icc focused', 'icc forget', 'icc full', 'icc giving', 'icc ha', 'icc icc', 'icc iccworldcup', 'icc much', 'icc must', 'icc need', 'icc never', 'icc official', 'icc planning', 'icc please', 'icc plz', 'icc prevails', 'icc rain', 'icc rainstopsmatch', 'icc ruined', 'icc rule', 'icc run', 'icc say', 'icc see', 'icc shameonicc', 'icc shift', 'icc stop', 'icc take', 'icc th', 'icc trying', 'icc turn', 'icc wa', 'icc want', 'icc world', 'icc worldcup', 'icc worst', 'iccraincup', 'iccraincup cricketkacrown', 'iccricketworldcup', 'iccricketworldcup dhonikeepstheglove', 'iccricketworldcup iccwc', 'iccricketworldcup iccworldcup', 'iccricketworldcup shameonicc', 'iccversusindia', 'iccversusindia iccworldcup', 'iccwc', 'iccwc dhonikeepstheglove', 'iccwc icc', 'iccwc jo', 'iccworldcup', 'iccworldcup cricketworldcup', 'iccworldcup cwc', 'iccworldcup dhonikeepstheglove', 'iccworldcup icc', 'iccworldcup iccricketworldcup', 'iccworldcup iccversusindia', 'iccworldcup iccwc', 'iccworldcup iccworldcup', 'iccworldcup indiastandswithdhoni', 'iccworldcup indvaus', 'iccworldcup indvnz', 'iccworldcup indvpak', 'iccworldcup match', 'iccworldcup shameonicc', 'iccworldcup worldcup', 'iceland', 'icu', 'icu fully', 'id', 'id like', 'id say', 'id see', 'id still', 'id take', 'idea', 'idea fuck', 'idea shameonicc', 'ideal', 'identity', 'ideology', 'idiocy', 'idiot', 'idiot douchebag', 'idiot idiottrump', 'idiot think', 'idiot trump', 'idiotic', 'idiotinchief', 'idiotinchief idiottrump', 'idiotorange', 'idiotorange trade', 'idiottrump', 'idiottrump claim', 'idiottrump ha', 'idiottrump impeachtrump', 'idiottrump impeachtrumpnow', 'idiottrump lyingtrump', 'idiottrump moroninchief', 'idiottrumps', 'ifnotgetagripmanupandgetoutthereandtellusotherwiseitsallballsandnottobetrusted', 'ignorance', 'ignorant', 'ignore', 'ignored', 'ignoring', 'ihate', 'ihate worstpresidentever', 'ill', 'ill call', 'ill never', 'ill say', 'ill take', 'illegal', 'illegal accept', 'illegally', 'illegals', 'illegitimatepotus', 'illegitimatepresident', 'illinois', 'illiterate', 'illiteratefuck', 'illness', 'im', 'im actually', 'im disappointed', 'im done', 'im going', 'im gon', 'im guessing', 'im hearing', 'im looking', 'im open', 'im pissed', 'im pretty', 'im proud', 'im saying', 'im sorry', 'im sure', 'im surprised', 'im thinking', 'ima', 'ima appointed', 'ima association', 'ima doctorsfightback', 'ima group', 'ima imafraudcase', 'ima imajewelsfraud', 'ima jewel', 'ima must', 'ima ponzi', 'ima scam', 'imafraud', 'imafraud broken', 'imafraud ima', 'imafraud imajewels', 'imafraud imascam', 'imafraud long', 'imafraud mansoorkhan', 'imafraud ponzischeme', 'imafraudcase', 'image', 'imagine', 'imagine second', 'imagined', 'imajewels', 'imajewels bangalore', 'imajewels imafraud', 'imajewels imascam', 'imajewelsfraud', 'imajewelsfraud imajewels', 'imajewelsscam', 'imascam', 'imascam imafraud', 'imbecile', 'imissobama', 'immature', 'immediate', 'immediately', 'immediately pas', 'immense', 'immigrant', 'immigrant central', 'immigrant teen', 'immigration', 'immigration status', 'immoral', 'imo', 'imp', 'impasse', 'impeach', 'impeach boycottrump', 'impeach fucktrump', 'impeach impeachment', 'impeach resist', 'impeach treason', 'impeachable', 'impeachable offense', 'impeachbarr', 'impeachbarr impeachmnuchin', 'impeachbarrandtrump', 'impeachbarrandtrump impeachtrumpnow', 'impeachbarrnow', 'impeachdonaldtrump', 'impeachdonaldtrumpnow', 'impeachdonaldtrumpnow fucktrump', 'impeachdonaldtrumpnow impeachdonaldtrump', 'impeachdonaldtrumpnow impeachtrump', 'impeachdonaldtrumpnow trumpisatraitor', 'impeached', 'impeached fucktrump', 'impeachment', 'impeachment proceeding', 'impeachmenthearingsnow', 'impeachmenthearingsnow lockhimup', 'impeachmenthearingsnow traitortrump', 'impeachmentinquirynow', 'impeachmentinquirynow fucktrump', 'impeachmentinquirynow impeachmenthearingsnow', 'impeachmentinquirynow impeachtrump', 'impeachmentinquirynow impeachtrumpnow', 'impeachmentinquirynow trumpisatraitor', 'impeachmentinquirynow trumpnatsecrisk', 'impeachmentnow', 'impeachmentnow trumpisatraitor', 'impeachmnuchin', 'impeachmnuchin trumpisatraitor', 'impeachnow', 'impeachthemf', 'impeachthemf exclamation', 'impeachthemf fucktrump', 'impeachthemf impeachthemftraitor', 'impeachthemf impeachtrumpnow', 'impeachthemf trumpisaloser', 'impeachthemfer', 'impeachthemftraitor', 'impeachthemotherfucker', 'impeachtrump', 'impeachtrump fucktrump', 'impeachtrump impeach', 'impeachtrump impeachbarr', 'impeachtrump impeachmentinquirynow', 'impeachtrump impeachtrumpnow', 'impeachtrump resist', 'impeachtrump taxday', 'impeachtrump trumpisatraitor', 'impeachtrump trumpmustresign', 'impeachtrumpnow', 'impeachtrumpnow fucktrump', 'impeachtrumpnow impeachdonaldtrump', 'impeachtrumpnow impeachdonaldtrumpnow', 'impeachtrumpnow impeachmentinquirynow', 'impeachtrumpnow impeachtrump', 'impeachtrumpnow lockhimup', 'impeachtrumpnow resist', 'impeachtrumpnow trumpisatraitor', 'impeachtrumpnow trumpliesmatter', 'impeachtrumppence', 'implication', 'important', 'important game', 'important put', 'important thing', 'important tournament', 'impose', 'impose president', 'impose presidentsrule', 'impossible', 'impression', 'imprisoned', 'imprisonment', 'imprisontrump', 'improve', 'improve umpiring', 'improve ur', 'improved', 'improving', 'improving standard', 'improving umpiring', 'imran', 'imran khan', 'imrangoldsmith', 'imranhataomulkbachao', 'imranhataomulkbachao imrankhan', 'imranhataomulkbachao inshaallah', 'imrankhan', 'imrankhan imranhataomulkbachao', 'imrankhanprimeminister', 'inaction', 'inappropriate', 'inappropriate dhonikeepstheglove', 'incapable', 'incarceration', 'incident', 'incite', 'inclined', 'included', 'includes', 'including', 'income', 'incompetence', 'incompetent', 'incompetent rapist', 'incompetent tv', 'increased', 'increasing', 'incredible', 'ind', 'ind eng', 'ind final', 'ind nz', 'ind pak', 'ind rain', 'indeed', 'indefinite', 'indefinite strike', 'independent', 'india', 'india antimuslim', 'india bcci', 'india cricket', 'india dhonikeepstheglove', 'india dhonikeeptheglove', 'india doctor', 'india doctorsprotest', 'india doctorstrike', 'india east', 'india icc', 'india iccricketworldcup', 'india indiancricketteam', 'india junior', 'india kindly', 'india kolkata', 'india listen', 'india match', 'india must', 'india pak', 'india pakistan', 'india player', 'india playing', 'india pride', 'india resigns', 'india sex', 'india soon', 'india stand', 'india time', 'india today', 'india toss', 'india want', 'india westbengal', 'india win', 'indiafirst', 'indian', 'indian army', 'indian connection', 'indian cricket', 'indian democracy', 'indian fan', 'indian ground', 'indian indian', 'indian medical', 'indian para', 'indian say', 'indian team', 'indian viewer', 'indianarmy', 'indiancricketteam', 'indianmedicalassociation', 'indiastandswithdhoni', 'indiastandswithdhoni dhonikeepstheglove', 'indiavspak', 'indiavspakistan', 'indiavspakistan terroristnationpakistan', 'indiawithdhoni', 'indiawithdhoni dhonikeepstheglove', 'indiawithdhoni dhonikeeptheglove', 'indiawithdhoni dhonikesaathdesh', 'indiawithdhoni indvaus', 'indiawithdhoni meninblue', 'indiawithdhoni wwessd', 'indicates', 'indication', 'indict', 'indicttrump', 'indicttrump impeachmentinquirynow', 'indicttrump lockhimup', 'indie', 'indira', 'indiscriminate', 'individual', 'individual message', 'indoor', 'indpakvsrain', 'indpakvsrain cwc', 'indvaus', 'indvaus ausvind', 'indvaus balidanbadge', 'indvaus clash', 'indvaus cwc', 'indvaus dhonikeepstheglove', 'indvaus iccworldcup', 'indvaus indvsaus', 'indvaus worldcup', 'indvnz', 'indvnz cwc', 'indvnz engvwi', 'indvnz nzvind', 'indvnz shameonicc', 'indvpak', 'indvpak cwc', 'indvpak iccworldcup', 'indvpak indvspak', 'indvpak match', 'indvpak pakvind', 'indvpak shameonicc', 'indvsaus', 'indvsnz', 'indvsnz cwc', 'indvsnz engvwi', 'indvsnz match', 'indvspak', 'indvspak cwc', 'indvspak match', 'indvspak shameonicc', 'indyref', 'indyref borisjohnsonshouldnotbepm', 'indyref scotref', 'inept', 'infact', 'infact indiastandswithdhoni', 'infamous', 'infant', 'inferno', 'inferno smile', 'influence', 'influence american', 'influence election', 'info', 'info foreign', 'information', 'information foreign', 'informed', 'infrastructure', 'infrastructure double', 'ing', 'inherited', 'initiative', 'injured', 'injured doctor', 'injury', 'injustice', 'injustice anywhere', 'inmate', 'innocent', 'innocent fucktrump', 'innocent kid', 'innocent people', 'insane', 'insecure', 'inshaallah', 'inshaallah supporting', 'inside', 'insider', 'insignia', 'insignia badge', 'insignia cricket', 'insignia dhonikeepstheglove', 'insignia glove', 'insignia pride', 'insignia printed', 'insignia wicket', 'insist', 'inspirational', 'instagramdown', 'installed', 'installed putin', 'instead', 'instead banning', 'instead blaming', 'instead concentrating', 'instead dhonis', 'instead fair', 'instead focusing', 'instead taking', 'instead wasting', 'instead wicketkeepers', 'institution', 'instrument', 'insufficient', 'insult', 'insulted', 'insulting', 'insurance', 'insurance cover', 'intact', 'intact truly', 'integrity', 'intel', 'intellect', 'intellectual', 'intelligence', 'intelligent', 'intend', 'intends', 'intention', 'interest', 'interest playing', 'interested', 'interesting', 'interfere', 'interfere election', 'interference', 'interference election', 'intern', 'internal', 'international', 'international cricket', 'internationally', 'internet', 'internment', 'internment camp', 'interrogation', 'interrupt', 'interrupted', 'interruption', 'intervene', 'intervene investigate', 'intervention', 'intervention imafraud', 'interview', 'invest', 'investigate', 'investigate iccricketworldcup', 'investigated', 'investigating', 'investigation', 'investigation trump', 'investment', 'investment advisor', 'investor', 'invitation', 'invite', 'invite anyone', 'invite foreign', 'invited', 'inviting', 'involved', 'inxs', 'iowa', 'ip', 'ipl', 'iptheft', 'iptheft humanrightsviolations', 'iq', 'iran', 'iran attacked', 'iran fucktrump', 'iran ha', 'iran nuclear', 'iran war', 'iranian', 'iranian cleric', 'iraq', 'ireland', 'ireland vacation', 'irish', 'ironic', 'ironic people', 'irony', 'irony teacher', 'irrelevant', 'irresponsible', 'irresponsible holding', 'irresponsible tory', 'islam', 'islamic', 'islamic cricket', 'islamicterrorists', 'islamophobia', 'island', 'isle', 'isnt', 'isnt even', 'isnt impeachable', 'isnt murderer', 'isnt national', 'israel', 'issue', 'issue doctorsfightback', 'issue indian', 'issue sunday', 'issued', 'istandwithnrs', 'istandwithnrs doctorsfightback', 'isupportdhoni', 'italian', 'item', 'item clothing', 'itll', 'itmfa', 'ivanka', 'ive', 'ive ever', 'ive got', 'ive said', 'ive seen', 'jab', 'jackie', 'jackieo', 'jackieo wa', 'jai', 'jai hind', 'jai shree', 'jai sri', 'jaihind', 'jaihind dhonikeepstheglove', 'jail', 'jail cell', 'jail fucktrump', 'jailed', 'jailtrump', 'jailtrump trumprussia', 'jaishreeram', 'jaishreeram modiforall', 'jamalkhashoggi', 'james', 'jamshedpur', 'japan', 'japan uyghur', 'japanese', 'japanese ship', 'javid', 'jcpm', 'jean', 'jedi', 'jeffrey', 'jeffrey dahmer', 'jeremyhunt', 'jerk', 'jersey', 'jessica', 'jessica biel', 'jesus', 'jesus would', 'jewel', 'jewel scam', 'jewish', 'jfk', 'ji', 'jihadi', 'jim', 'jo', 'jo bhi', 'job', 'job fucktrump', 'job report', 'job well', 'jobless', 'joe', 'joe biden', 'johhmccainday', 'johhmccainday trumpisatraitor', 'john', 'john mc', 'john mccain', 'johndean', 'johnmcainday', 'johnmcainday johnmccaindayjuneth', 'johnmccain', 'johnmccainamericanhero', 'johnmccainday', 'johnmccainday also', 'johnmccainday everyone', 'johnmccainday fucktrump', 'johnmccainday happyjohnmccainday', 'johnmccainday impeachtrumpnow', 'johnmccainday johnmccainday', 'johnmccainday johnmccaindayjune', 'johnmccainday johnmccaindayjuneth', 'johnmccainday keep', 'johnmccainday thanks', 'johnmccainday traitortrump', 'johnmccainday true', 'johnmccainday trump', 'johnmccainday trumpisatraitor', 'johnmccainday trumpresignnow', 'johnmccaindayjune', 'johnmccaindayjune johnmccaindayjuneth', 'johnmccaindayjune trumpisatraitor', 'johnmccaindayjuneth', 'johnmccaindayjuneth fucktrump', 'johnmccaindayjuneth johnmccainamericanhero', 'johnmccaindayjuneth trumpisatraitor', 'johnmccainisahero', 'johnny', 'johnson', 'johnson becomes', 'johnson borisjohnson', 'johnson borisjohnsonshouldnotbepm', 'johnson doesnt', 'johnson ha', 'johnson next', 'johnson pm', 'join', 'join doctor', 'join twitter', 'joined', 'joined twitter', 'joining', 'joint', 'joint venture', 'jointly', 'jointly shameonicc', 'joke', 'joker', 'joking', 'josh', 'journalism', 'journalist', 'journos', 'joy', 'jr', 'jr doctor', 'jr every', 'jst', 'judge', 'judgement', 'judiciary', 'juice', 'july', 'jump', 'jumped', 'jumping', 'jun', 'jun et', 'june', 'june th', 'june trumpisatraitor', 'junior', 'junior doctor', 'juniordoctors', 'justice', 'justice doctor', 'justice everywhere', 'justice fucktrump', 'justice system', 'justice twinkle', 'justice world', 'justicedrparibaha', 'justiceforgudiya', 'justicefortinklesharma', 'justicefortwinkle', 'justicefortwinklesharma', 'justified', 'justify', 'justin', 'ka', 'kafeel', 'kafeel khan', 'kamala', 'kamala harris', 'kapil', 'kar', 'kar north', 'karan', 'karate', 'kardashian', 'karma', 'karnataka', 'karnataka hospital', 'karne', 'karo', 'kashmir', 'kathua', 'kathuarapeverdict', 'kathuaverdict', 'kavanaugh', 'kazakhstan', 'kazakhstan dating', 'ke', 'ke baad', 'keep', 'keep army', 'keep badge', 'keep glove', 'keep logo', 'keep money', 'keep retweeting', 'keep trending', 'keep wearing', 'keeper', 'keeping', 'keeping glove', 'keeping world', 'keepthegloves', 'keepthegloves dhonikeeptheglove', 'kelly', 'kelly child', 'kellyanne', 'kellyanne conway', 'ken', 'kennedy', 'kentucky', 'kept', 'kerala', 'key', 'khan', 'khan ha', 'khan pic', 'khan wa', 'ki', 'ki baat', 'kick', 'kicked', 'kicking', 'kid', 'kidding', 'kill', 'kill rapist', 'killed', 'killer', 'killer ha', 'killer murderer', 'killer yet', 'killing', 'killing child', 'kim', 'kimgoldman', 'kind', 'kind father', 'kindly', 'kindly dont', 'kindly retweet', 'king', 'king jr', 'kingdom', 'kiss', 'kit', 'kiya', 'kk', 'knackdhanushbirthdayind', 'knee', 'knew', 'knew boycottchina', 'knew wa', 'knew would', 'knife', 'knife blade', 'knife murderer', 'knock', 'knocked', 'knockout', 'know', 'know balidan', 'know bound', 'know cant', 'know difference', 'know else', 'know even', 'know feel', 'know fucktrump', 'know good', 'know hindi', 'know like', 'know many', 'know murderer', 'know name', 'know nothing', 'know power', 'know real', 'know right', 'know say', 'know shameonicc', 'know story', 'know thats', 'know trump', 'know truth', 'know wa', 'know weather', 'know whats', 'know wont', 'know youre', 'knowing', 'knowingly', 'knowledge', 'known', 'known fact', 'ko', 'kohli', 'koi', 'kolkata', 'kolkata doctor', 'kolkata doctorsfightback', 'kolkata india', 'kolkata mamatalosingcontrol', 'kolkata mayor', 'kolkata refuting', 'kolkataviolence', 'kool', 'kool aid', 'korea', 'kremlin', 'kuch', 'kumar', 'kumar hegde', 'kundru', 'kushner', 'kushner wa', 'kya', 'la', 'labour', 'lack', 'lack oxygen', 'lad', 'lady', 'lady doctor', 'lady gentleman', 'lakh', 'lame', 'lance', 'land', 'land ownership', 'landslide', 'language', 'large', 'largest', 'last', 'last birthday', 'last day', 'last free', 'last indian', 'last minute', 'last night', 'last time', 'last year', 'late', 'late trumpisatraitor', 'lately', 'later', 'latest', 'latino', 'laugh', 'laughed', 'laughing', 'law', 'law maga', 'law must', 'law order', 'law protect', 'law right', 'law unless', 'lawmaker', 'lawyer', 'lawyer say', 'lay', 'lay chip', 'lazy', 'lazy lying', 'lb', 'lbw', 'lbw ball', 'le', 'le doctorsfightback', 'lead', 'leader', 'leader might', 'leadersdebate', 'leadership', 'leadership candidate', 'leadership contest', 'leadership debate', 'leadership race', 'leadership torydrugoff', 'leadershiphustings', 'leading', 'leading biden', 'leading trump', 'leaf', 'league', 'league expect', 'leak', 'learn', 'learn india', 'learn something', 'learned', 'learning', 'learnt', 'lease', 'lease longer', 'least', 'leather', 'leave', 'leave alone', 'leave country', 'leave right', 'leaving', 'leaving white', 'led', 'leech', 'leecheefightback', 'left', 'left definitely', 'left office', 'left red', 'leftist', 'leg', 'legacy', 'legal', 'legal authority', 'legend', 'legislation', 'legislator', 'legitimate', 'lesbian', 'lesbian kazakhstan', 'lesson', 'let', 'let alone', 'let china', 'let forget', 'let get', 'let go', 'let hit', 'let hope', 'let know', 'let loose', 'let make', 'let people', 'let say', 'let see', 'let show', 'let support', 'letter', 'letter cm', 'letting', 'letting patriot', 'level', 'level people', 'level performance', 'lgbt', 'lgbtq', 'lgbtq community', 'lgbtq people', 'liar', 'liar cheater', 'liar chief', 'liar douchebag', 'liar iranian', 'liar liarinchief', 'liar like', 'liar mr', 'liar murderer', 'liar president', 'liar rapist', 'liar thief', 'liar traitor', 'liar way', 'liarinchief', 'liarinchief conman', 'liarinchief derangeddonald', 'liarinchief noclass', 'liarinchief rapist', 'liarinchief traitorinchief', 'liarinchief trumpisatraitor', 'liartrump', 'liberal', 'liberal democrat', 'liberty', 'liberty uyhgur', 'libtards', 'license', 'lick', 'lie', 'lie borisjohnsonshouldnotbepm', 'lie cant', 'lie everything', 'lie fucktrump', 'lie lie', 'lie much', 'lie murderer', 'lie told', 'lie trumpisatraitor', 'lied', 'lier', 'lieutenant', 'lieutenant colonel', 'life', 'life dont', 'life fucktrump', 'life get', 'life hope', 'life icu', 'life imprisonment', 'life like', 'life patient', 'life saver', 'life state', 'life term', 'life thousand', 'life time', 'life trumpisatraitor', 'lifelong', 'lifetime', 'lift', 'lift world', 'lifting', 'light', 'lightning', 'lightning rain', 'like', 'like another', 'like call', 'like dickhead', 'like doctor', 'like dont', 'like douchebag', 'like ever', 'like fake', 'like follower', 'like fucktrump', 'like going', 'like good', 'like jackie', 'like make', 'like mohammed', 'like murderer', 'like old', 'like president', 'like retweets', 'like see', 'like shameonicc', 'like taking', 'like today', 'like tory', 'like trump', 'like wa', 'like well', 'like worldcup', 'liked', 'likely', 'limit', 'limited', 'lindafairstein', 'lindseygraham', 'lindseygraham barrhearing', 'line', 'line trump', 'link', 'linked', 'lion', 'lip', 'lip service', 'list', 'list reason', 'listen', 'listening', 'literally', 'little', 'little bitch', 'little crazy', 'little getting', 'little girl', 'live', 'live doctor', 'live world', 'lived', 'living', 'lmao', 'lmfao', 'lmg', 'lmg isle', 'load', 'loan', 'lobbyhustings', 'local', 'location', 'lock', 'locked', 'locked murderer', 'lockhimup', 'lockhimup fucktrump', 'lockhimup trumpistheenemyofthepeople', 'lockthemallup', 'lockthemallup fucktrump', 'locktrumpup', 'locktrumpup impeachmentinquirynow', 'log', 'logic', 'logic way', 'logo', 'logo displayed', 'logo glove', 'logo national', 'logo world', 'lok', 'loksabhaelections', 'loksabhaelections congressmuktbharat', 'lol', 'lol fucktrump', 'lol mood', 'lol ojsimpson', 'london', 'london shameonicc', 'long', 'long enough', 'long gone', 'long live', 'long time', 'long want', 'longer', 'longer hongkong', 'look', 'look forward', 'look ground', 'look like', 'look sun', 'look video', 'looked', 'looking', 'looking forward', 'loos', 'loos match', 'loose', 'loose peanut', 'looser', 'looser whenthemoneyrunsupyouwillbeforgotte', 'loosing', 'loot', 'looter', 'lord', 'losangeles', 'lose', 'lose election', 'loser', 'loser fucktrump', 'loser senileaf', 'losertrump', 'losing', 'loss', 'lost', 'lost mental', 'lost mind', 'lost money', 'lot', 'lot money', 'lot people', 'loud', 'love', 'love country', 'love dictator', 'love fucktrump', 'love india', 'love life', 'love like', 'love nation', 'love respect', 'love stupid', 'love trump', 'love trumpisatraitor', 'loved', 'loved one', 'loveisland', 'loveislove', 'lovely', 'lover', 'loving', 'low', 'lower', 'lowest', 'lowiq', 'lowiq drugaddict', 'lowiqtrump', 'lowiqtrump draftdodger', 'lowratings', 'lowratings lowiq', 'loyal', 'lt', 'lt col', 'lt colonel', 'lt heavy', 'lts', 'lts religion', 'lucie', 'luck', 'lucky', 'lunch', 'luther', 'luther king', 'luv', 'lyin', 'lying', 'lying cheating', 'lying fucktrump', 'lying murderer', 'lying piece', 'lying trumpisatraitor', 'lyingtrump', 'lyingtrump trumpiscompromised', 'lynching', 'maam', 'mac', 'machine', 'macron', 'mad', 'madam', 'madamex', 'madamex madonna', 'madbum', 'made', 'made proud', 'made rich', 'made worse', 'madness', 'madonna', 'mae', 'mafia', 'maga', 'maga americafirst', 'maga foxnews', 'maga fucktrump', 'maga magaidiotsareidiots', 'maga nation', 'maga nut', 'maga trump', 'maga trumpisatraitor', 'magaidiotsareidiots', 'magaidiotsareidiots falseflag', 'magas', 'magat', 'magats', 'magats trump', 'magic', 'mahendra', 'mahendra singh', 'mahendrasinghdhoni', 'mahi', 'mahi bhai', 'mail', 'main', 'main accused', 'maine', 'major', 'major cyber', 'majority', 'make', 'make america', 'make big', 'make comment', 'make doctor', 'make feel', 'make good', 'make happy', 'make india', 'make law', 'make look', 'make money', 'make much', 'make sense', 'make strict', 'make sure', 'make true', 'maker', 'making', 'making mistrust', 'making racist', 'male', 'male sign', 'malik', 'malik ha', 'mam', 'mamata', 'mamata banerjee', 'mamata banerjees', 'mamata didi', 'mamata ha', 'mamata politics', 'mamatabanarjee', 'mamatabanarjee mamtafrustrated', 'mamatabanerjee', 'mamatabanerjee doctorsfightback', 'mamatafrustrated', 'mamatafrustrated doctorsfightback', 'mamatafrustrated helping', 'mamatalosingcontrol', 'mamatalosingcontrol bengaldoctorsstrike', 'mamatalosingcontrol istandwithnrs', 'mamatalosingcontrol mamatabanarjee', 'mamatalosingcontrol mamatabanerjee', 'mamatas', 'mamta', 'mamta banerjee', 'mamta govt', 'mamtabanerjee', 'mamtafrustrated', 'mamtalosingcontrol', 'mamtalosingcontrol mamatabanerjee', 'man', 'man baby', 'man completely', 'man honor', 'man lie', 'man match', 'man series', 'man trumpisatraitor', 'man would', 'mana', 'manage', 'managed', 'managed event', 'management', 'management icc', 'management level', 'management planning', 'management shameonicc', 'manager', 'manager handle', 'managment', 'manbaby', 'manchester', 'mandate', 'mandatory', 'mankind', 'mannkibaat', 'manohar', 'mansoor', 'mansoor ali', 'mansoor khan', 'mansoorkhan', 'mantra', 'many', 'many child', 'many life', 'many people', 'many thing', 'many time', 'many way', 'map', 'map shame', 'mar', 'march', 'march tibetan', 'marchagainstfascism', 'marie', 'marine', 'mark', 'mark double', 'mark exclamation', 'mark finance', 'mark get', 'mark support', 'mark trumpcriminalinvestigations', 'mark trumpisatraitor', 'mark yes', 'markbathompson', 'market', 'market crash', 'marking', 'marking territory', 'marriage', 'martin', 'martin luther', 'martyr', 'mashed', 'mass', 'mass murderer', 'mass resignation', 'mass shooting', 'massacre', 'masse', 'massive', 'master', 'match', 'match abandoned', 'match anything', 'match ausvwi', 'match come', 'match day', 'match dhonikeepstheglove', 'match doe', 'match due', 'match ecb', 'match england', 'match fee', 'match finally', 'match get', 'match getting', 'match ha', 'match icc', 'match iccworldcup', 'match india', 'match indian', 'match indiawithdhoni', 'match jai', 'match likely', 'match match', 'match pakistan', 'match pathetic', 'match rain', 'match scheduled', 'match shameonicc', 'match total', 'match ur', 'match venue', 'match washed', 'match wc', 'mate', 'matt', 'matt hancock', 'matter', 'matter assaulter', 'matter icc', 'matter national', 'matthancock', 'matty', 'matured', 'matured enough', 'maukamauka', 'max', 'max hastings', 'may', 'may hurt', 'may june', 'may last', 'may play', 'maybe', 'mayor', 'mayor daughter', 'mayor london', 'mb', 'mb murderer', 'mbbs', 'mc', 'mc cain', 'mccain', 'mccain day', 'mccain mostamericans', 'mccain wa', 'mccainsahero', 'mcconnell', 'mcconnell welcome', 'mcconnellchaocorruption', 'mcconnellmustgo', 'mcdonalds', 'mcgahn', 'mck', 'meal', 'mean', 'meaning', 'meant', 'meanwhile', 'measure', 'meat', 'med', 'medical', 'medical association', 'medical bill', 'medical college', 'medical fraternity', 'medical hospital', 'medical negligence', 'medical service', 'medical staff', 'medical student', 'medicalstudent', 'medicalstudentsstrike', 'medicare', 'medicine', 'medico', 'medico walked', 'medium', 'medium coverage', 'medium ha', 'medium house', 'medium patient', 'meet', 'meet cm', 'meet injured', 'meet yamdut', 'meeting', 'meeting striking', 'megalomaniac', 'mein', 'melania', 'melania freaking', 'melania pure', 'melanoma', 'member', 'member congress', 'member society', 'meme', 'memory', 'men', 'menace', 'meninblackreview', 'meninblackreview theunmissablemeeting', 'meninblue', 'meninmaroon', 'mental', 'mental balance', 'mentalhealth', 'mentality', 'mentally', 'mention', 'mere', 'mess', 'mess shameonicc', 'message', 'message logo', 'messenger', 'met', 'meth', 'meth barbie', 'metoo', 'metoouyghur', 'metoouyghur prayforuyghur', 'metroman', 'mexican', 'mexico', 'mexico deal', 'mf', 'michael', 'michael gove', 'michael holding', 'michael phelps', 'michaelgove', 'michaelgove borisjohnsonshouldnotbepm', 'michaelhutchence', 'middle', 'midnight', 'might', 'might well', 'mighty', 'migrant', 'mike', 'mikepence', 'mil', 'mile', 'military', 'military briefing', 'military insignia', 'miller', 'million', 'million american', 'million dollar', 'million tax', 'million waste', 'millionaire', 'millionaire afford', 'min', 'mind', 'mind ha', 'minded', 'minded country', 'mindset', 'mine', 'minimum', 'minimum wage', 'minister', 'minister borisjohnsonshouldnotbepm', 'minister country', 'minister india', 'minor', 'minority', 'minute', 'misbehaviour', 'misbehaviour bjp', 'miserable', 'miserably', 'miserably past', 'misery', 'mishandling', 'mishandling doctor', 'mismanagement', 'misogynist', 'misogyny', 'miss', 'missed', 'missing', 'missing plane', 'missingan', 'missingperson', 'missingperson prisonbreak', 'mission', 'missouri', 'mistake', 'mister', 'mistrust', 'mistrust instead', 'mitch', 'mitch mcconnell', 'mitchmustgo', 'mla', 'mla abu', 'mo', 'mob', 'mob lynching', 'mobboss', 'mobile', 'mobile phone', 'mock', 'mocked', 'mockery', 'mode', 'model', 'moderate', 'modern', 'modi', 'modi gandi', 'modi taking', 'modiforall', 'modiji', 'mohamed', 'mohamed bin', 'mohammed', 'mohammed mansoor', 'molester', 'molester sexual', 'molly', 'molly mae', 'mom', 'moment', 'moment shameonicc', 'momentum', 'momta', 'momta didi', 'monday', 'mondaythoughts', 'money', 'money always', 'money back', 'money must', 'money trumpisatraitor', 'money wall', 'moneylaundering', 'moneyslave', 'moneyslave cashcow', 'monger', 'monsoon', 'monster', 'month', 'month ago', 'month may', 'month stop', 'mood', 'mood fucktrump', 'mood umbrella', 'moon', 'moon part', 'moral', 'morality', 'morally', 'moreover', 'morintoon', 'morintoon trumpisatraitor', 'morning', 'morning borisjohnsonshouldnotbepm', 'moroccan', 'moron', 'moron ridusofthisdisease', 'moronic', 'moroninchief', 'moronpresident', 'morontrump', 'morontrump idiottrump', 'moscow', 'mostamericans', 'mostamericans hoping', 'mostly', 'mother', 'mother fucker', 'motherfucker', 'motherfucker fucktrump', 'motherfuckerr', 'motherfuckerr icc', 'motherland', 'motivated', 'motivates', 'motivational', 'mouth', 'mouth fucktrump', 'mouthed', 'move', 'moved', 'movement', 'movement ha', 'movement tibetan', 'movie', 'moving', 'mp', 'mp ananth', 'mp opt', 'mr', 'mr dhoni', 'mr johnson', 'mr president', 'mr selected', 'mrp', 'mrp doctorsfightback', 'msd', 'msd balidanbadge', 'msd dhonikeepstheglove', 'msdhoni', 'msdhoni dhonikeepstheglove', 'msdhoni dhonikesaathdesh', 'msdhoni wear', 'msdhonigloves', 'msm', 'msm one', 'much', 'much better', 'much cricket', 'much noise', 'much pakistani', 'much time', 'mud', 'mueller', 'mueller report', 'muellerreport', 'muellerreport lindseygraham', 'mug', 'mug antitrumpaf', 'mukherjee', 'mukherjee first', 'multiple', 'mum', 'mumbai', 'murder', 'murder yulinfestival', 'murdered', 'murdered father', 'murderer', 'murderer convict', 'murderer disgrace', 'murderer donald', 'murderer dont', 'murderer ha', 'murderer killer', 'murderer let', 'murderer liar', 'murderer may', 'murderer missingperson', 'murderer money', 'murderer monster', 'murderer murderer', 'murderer nicolebrownsimpson', 'murderer oj', 'murderer ojsimpson', 'murderer people', 'murderer rapist', 'murderer still', 'murderer wa', 'murderer yasin', 'murdering', 'murderous', 'murderous dictator', 'murshidabad', 'murshidabad medical', 'murshidabad rampurhat', 'muse', 'music', 'musical', 'muslim', 'muslim appeasement', 'muslim doctor', 'muslim family', 'muslim get', 'muslim need', 'muslim ritual', 'must', 'must come', 'must die', 'must following', 'must go', 'must proud', 'must stand', 'must stop', 'must unite', 'mustnt', 'mustwatch', 'mustwatch budget', 'mystery', 'mystify', 'na', 'na leave', 'na see', 'naali', 'nah', 'nahi', 'naik', 'nail', 'nailed', 'nailed mamata', 'naive', 'nalahiq', 'nalahiq niazi', 'namaz', 'namaz field', 'namaz ground', 'name', 'nancy', 'nancy pelosi', 'narcissism', 'narcissist', 'narcissistic', 'narcissisticpersonalitydisorder', 'narendra', 'narendra modi', 'narendramodi', 'narrative', 'nasa', 'nascar', 'nascar douchebag', 'nasty', 'nasty liar', 'nasty piece', 'nation', 'nation armed', 'nation dhoni', 'nation doe', 'nation first', 'nation hero', 'nation law', 'nation pride', 'nation shameonicc', 'nation soldier', 'nation wide', 'national', 'national embarrassment', 'national john', 'national medical', 'national news', 'national outrage', 'national pride', 'national security', 'national sport', 'national television', 'national tv', 'nationalism', 'nationalist', 'nationalpride', 'nationalpride dhonikeepstheglove', 'nationalsecurity', 'nationalsecurity threat', 'nationalsecuritythreat', 'nationalsecuritythreat exclamation', 'nationwide', 'nationwide strike', 'natural', 'naturally', 'nature', 'nazi', 'nazisnotwelcome', 'nazisnotwelcome noquarterracist', 'nba', 'nbafinals', 'nbafinals fridaymotivation', 'nd', 'nda', 'ndamendment', 'ne', 'near', 'nearly', 'necessarily', 'necessary', 'neck', 'need', 'need bring', 'need change', 'need check', 'need focus', 'need get', 'need give', 'need go', 'need help', 'need hour', 'need intervention', 'need know', 'need learn', 'need make', 'need new', 'need remove', 'need stand', 'need stop', 'need strict', 'need support', 'need treatment', 'need turn', 'need understand', 'need work', 'needed', 'needy', 'neet', 'negative', 'neglected', 'negligence', 'negotiation', 'nehi', 'neighbor', 'neighbour', 'neither', 'nepal', 'nephew', 'nepotism', 'nerve', 'nervous', 'nervousdonald', 'net', 'netflix', 'network', 'never', 'never believe', 'never even', 'never ever', 'never faced', 'never forget', 'never get', 'never ha', 'never happen', 'never hit', 'never justice', 'never keep', 'never learn', 'never make', 'never mind', 'never question', 'never say', 'never seen', 'never stand', 'never thought', 'never trust', 'never want', 'neverforget', 'nevertrump', 'new', 'new icc', 'new india', 'new logo', 'new low', 'new president', 'new prime', 'new york', 'newborn', 'newindia', 'news', 'news big', 'news controversy', 'news devil', 'news rapist', 'newspaper', 'newspaper columnist', 'next', 'next day', 'next door', 'next match', 'next pm', 'next prime', 'next time', 'next year', 'nfl', 'nfuck', 'nh', 'nhi', 'ni', 'niazi', 'nice', 'nice see', 'nice try', 'nicole', 'nicole ron', 'nicolebrownsimpson', 'nicolebrownsimpson oj', 'nicolebrownsimpson rongoldman', 'nicoles', 'nicoles killer', 'nicolesimpson', 'nigel', 'night', 'nightmare', 'nighttime', 'nine', 'nine year', 'nipple', 'nipple cock', 'nipple sex', 'nit', 'nitwit', 'nixon', 'nixon covfefe', 'nixon president', 'noble', 'nobody', 'nobody ha', 'noclass', 'noclass moron', 'nod', 'nogop', 'nohumanbeingisillegal', 'noiranwar', 'noiranwar impeachment', 'noise', 'nokidsincages', 'nominee', 'nomorewars', 'non', 'non bengali', 'non medico', 'non political', 'nonce', 'none', 'none england', 'nonsense', 'noon', 'nooneisabovethelaw', 'nooneisabovethelaw obstructionofjustice', 'nope', 'nopoliticswithdoctors', 'nopoliticswithdoctors doctorsfightback', 'noquarterracist', 'noquarterracist noquarterracistsympathizers', 'noquarterracistsympathizers', 'noquarterracistsympathizers resignorimpeach', 'normal', 'north', 'north bengal', 'north carolina', 'north korea', 'northern', 'northern ireland', 'northkorea', 'norway', 'nose', 'note', 'notfittolead', 'nothing', 'nothing else', 'nothing except', 'nothing ha', 'nothing happened', 'nothing icc', 'nothing le', 'nothing like', 'nothing nothing', 'nothing proud', 'nothing say', 'nothing wrong', 'notice', 'noticed', 'notmypm', 'notmypm toryracism', 'notmypresident', 'notmypresident notrump', 'notrump', 'nov', 'novel', 'november', 'nowadays', 'nowall', 'nowall nohumanbeingisillegal', 'nowarwithiran', 'npa', 'npa culcheth', 'npr', 'nra', 'nrs', 'nrs cnmc', 'nrs hospital', 'nrs medical', 'nrs savedoctors', 'nrs sskm', 'nrsmc', 'nrsmch', 'nrsmch doctorsfightback', 'nrsmedicalcollege', 'nthats', 'nthey', 'nuclear', 'nuclear deal', 'number', 'numerous', 'nurse', 'nursing', 'nursing home', 'nut', 'nut started', 'nyc', 'nyou', 'nyt', 'nz', 'nz eng', 'nz ind', 'nz india', 'nz rain', 'nzvind', 'nzvind cwc', 'oak', 'oak tree', 'oann', 'oath', 'oath office', 'obama', 'obama wa', 'obamacare', 'obamacare repeal', 'obamas', 'obe', 'obe service', 'object', 'objection', 'objectionable', 'objective', 'obligation', 'obnoxious', 'observe', 'obsessed', 'obstruction', 'obstructionofjustice', 'obstructionofjustice highcrimesandmisdemeanors', 'obvious', 'obviously', 'occasion', 'occupying', 'occurred', 'occurred im', 'occurring', 'occurring continue', 'odd', 'odisha', 'odisha doctorsfightback', 'offender', 'offense', 'offense morintoon', 'offensive', 'offer', 'offer discount', 'offered', 'offered dirt', 'offered namaz', 'offering', 'offering namaz', 'office', 'office borisjohnsonshouldnotbepm', 'office diplomat', 'office dont', 'office moron', 'office trumpisatraitor', 'officer', 'official', 'official logo', 'officially', 'offspring', 'often', 'often hear', 'oh', 'oh btw', 'oh fuck', 'oh fucktrump', 'oh god', 'oh hell', 'oh look', 'oh thats', 'oh yeah', 'oil', 'oj', 'oj murderer', 'oj ojsimpson', 'oj simpson', 'oj twitter', 'ojdidit', 'ojdidit murderer', 'ojsimpson', 'ojsimpson ha', 'ojsimpson murderer', 'ojsimpson oj', 'ok', 'okay', 'old', 'old enough', 'old girl', 'old man', 'old nasty', 'old story', 'old trump', 'old white', 'ole', 'oleg', 'oleg deripaska', 'olympic', 'olympic japan', 'olympics', 'olympics china', 'oman', 'omg', 'one', 'one bad', 'one belief', 'one biggest', 'one boris', 'one cant', 'one care', 'one day', 'one doctor', 'one else', 'one enemy', 'one ever', 'one feel', 'one idiottrump', 'one like', 'one meet', 'one message', 'one need', 'one one', 'one person', 'one point', 'one religion', 'one represents', 'one side', 'one sided', 'one thing', 'one time', 'one trump', 'one two', 'one worst', 'one would', 'one year', 'oneplus', 'oneplus oneplusishere', 'oneplusishere', 'oneplusishere onepluspro', 'onepluspro', 'onepluspro oneplus', 'ongoing', 'online', 'online sex', 'onto', 'onwards', 'opd', 'open', 'open eye', 'open mouth', 'opener', 'opening', 'openly', 'operate', 'operate diagnose', 'operating', 'operation', 'opinion', 'opinion guardian', 'oppo', 'oppo research', 'opponent', 'opportunity', 'opposing', 'opposite', 'opposition', 'opposition research', 'oppressed', 'oppression', 'ops', 'opt', 'opt borisjohnsonshouldnotbepm', 'option', 'oral', 'oral doctor', 'oral sex', 'oral translate', 'orange', 'orange buffoon', 'orange man', 'orangefoolius', 'orangefoolius bebest', 'orangefoolius maga', 'orangemanbad', 'order', 'ordered', 'ordered turn', 'ordering', 'ordinance', 'ordinance passed', 'ordinance protect', 'orenthal', 'organisation', 'organise', 'organised', 'organising', 'organising world', 'organization', 'organize', 'organized', 'original', 'originally', 'ot', 'others', 'others ground', 'others mass', 'otherwise', 'ounce', 'outcome', 'outfield', 'outing', 'outrage', 'outrageous', 'outright', 'outside', 'outside box', 'outsider', 'outsider protesting', 'oval', 'oval office', 'ovation', 'overall', 'oversight', 'overwhelming', 'owaisi', 'owned', 'owner', 'ownership', 'ownership infrastructure', 'oxford', 'oxford rorystewart', 'oxygen', 'oye', 'oye islamic', 'pa', 'pack', 'package', 'page', 'paid', 'pain', 'paint', 'paint job', 'painted', 'pair', 'paisa', 'pak', 'pak also', 'pak bang', 'pak match', 'pak player', 'pak rain', 'pakistan', 'pakistan cricket', 'pakistan ind', 'pakistan india', 'pakistan indvpak', 'pakistan shameonicc', 'pakistan team', 'pakistani', 'pakistani player', 'pakistani team', 'pakvind', 'pakvind indvnz', 'pakvsind', 'pakvsind fawadchaudhry', 'pakvsindia', 'pakvsl', 'pal', 'pandya', 'panel', 'panic', 'pant', 'paper', 'para', 'para force', 'parade', 'parajump', 'parajump ground', 'parallelmedia', 'parent', 'parent reaction', 'parental', 'parental right', 'parentalrights', 'paresh', 'paresh naik', 'paribaha', 'paribaha mukherjee', 'paris', 'park', 'park five', 'parliament', 'parliament abuse', 'parody', 'parody account', 'part', 'part community', 'part freedom', 'part hitler', 'part india', 'part mar', 'part muslim', 'part problem', 'part second', 'part society', 'partial', 'participant', 'participate', 'particular', 'particular religion', 'partisan', 'party', 'party come', 'party dont', 'party leadership', 'party look', 'party member', 'party office', 'party one', 'party people', 'party sake', 'party support', 'pas', 'pas ordinance', 'pass', 'passed', 'passed westbengal', 'past', 'past month', 'past show', 'pastor', 'path', 'pathan', 'pathetic', 'pathetic planning', 'pathological', 'pathological liar', 'patience', 'patient', 'patient doctor', 'patient doctorsfightback', 'patient dy', 'patient getting', 'patient life', 'patient relative', 'patient roughing', 'patra', 'patriot', 'patriot failed', 'patriotic', 'patriotic american', 'patriotism', 'patriotism dhonikeepstheglove', 'patrol', 'pay', 'pay bill', 'pay double', 'pay tax', 'paying', 'paying attention', 'paying price', 'payment', 'paypal', 'paypal cashapp', 'paypig', 'paypig sugar', 'pcb', 'peace', 'peace liberty', 'peace symbol', 'peaceful', 'peacefully', 'peak', 'peanut', 'peanut pride', 'pearl', 'pedophile', 'pedophile chomo', 'pedophile racist', 'pedophile rapist', 'pehle', 'pelosi', 'pelosi trump', 'penalty', 'penetrate', 'penetrate twitter', 'pennsylvania', 'pennsylvania biden', 'penny', 'pentagon', 'peodphile', 'peodphile racist', 'people', 'people around', 'people bengal', 'people bengaluru', 'people bring', 'people country', 'people defend', 'people didnt', 'people died', 'people dont', 'people dying', 'people follow', 'people get', 'people going', 'people history', 'people including', 'people india', 'people indian', 'people jim', 'people killed', 'people life', 'people like', 'people live', 'people maga', 'people need', 'people people', 'people profession', 'people respect', 'people sacrificed', 'people said', 'people saying', 'people started', 'people still', 'people stop', 'people suffering', 'people think', 'people trumpisatraitor', 'people vote', 'people waited', 'people want', 'people watchout', 'people whatever', 'people working', 'people would', 'peoplesvote', 'per', 'per icc', 'perfect', 'perfectly', 'perform', 'performance', 'performance zero', 'perhaps', 'perhaps irresponsible', 'peril', 'period', 'perjury', 'permission', 'permit', 'permit individual', 'permit resistance', 'perpetrator', 'persecuted', 'person', 'persona', 'personal', 'personal vendetta', 'personality', 'personally', 'personally thought', 'personified', 'perspective', 'pertaining', 'pervert', 'pervert treason', 'pete', 'pete buttigieg', 'petition', 'petty', 'pfeffel', 'phat', 'phat fucked', 'phelps', 'phelps winning', 'phone', 'photo', 'photo savebengal', 'photographer', 'photoshop', 'phrase', 'physical', 'physically', 'pic', 'pic icc', 'pic indian', 'pic others', 'pic twitter', 'pick', 'pick page', 'picture', 'picture fucktrump', 'picture social', 'picture tell', 'piece', 'piece shit', 'piece work', 'pig', 'pile', 'pillar', 'pilot', 'pinocchio', 'piss', 'pissed', 'pissing', 'pitch', 'pity', 'pity country', 'pkmkb', 'plaban', 'plaban mukherjee', 'placard', 'place', 'placed', 'plain', 'plain evil', 'plain sight', 'plan', 'plan icc', 'plane', 'planet', 'planing', 'planned', 'planned attack', 'planned well', 'planning', 'planning shameonicc', 'planning world', 'plant', 'plastic', 'platform', 'play', 'play cricket', 'play golf', 'play ground', 'play match', 'play politics', 'play sportsmanship', 'play world', 'played', 'played england', 'player', 'player glove', 'player offered', 'player wear', 'playground', 'playing', 'playing cricket', 'playing god', 'playing icc', 'playing world', 'plea', 'pleads', 'pleads guilty', 'please', 'please change', 'please dont', 'please follow', 'please get', 'please give', 'please go', 'please improve', 'please keep', 'please look', 'please read', 'please rt', 'please sir', 'please something', 'please take', 'pleasehelp', 'pleasehelp freeuyghur', 'pleasure', 'pledge', 'plot', 'pls', 'pls dont', 'plus', 'plz', 'plz dont', 'plz take', 'plz tweet', 'pm', 'pm borisjohnsonshouldnotbepm', 'pm country', 'pm dont', 'pm ji', 'pm like', 'pm modi', 'pmln', 'po', 'pocket', 'podcast', 'podium', 'podium make', 'poem', 'poet', 'poet murderer', 'poetry', 'poetry crotchrocket', 'poetry streetbike', 'point', 'point table', 'pointing', 'polarbearwithchlamydia', 'polarbearwithchlamydia policechase', 'pole', 'police', 'police officer', 'policechase', 'policechase serialkiller', 'policy', 'political', 'political activity', 'political doctorsfightback', 'political issue', 'political opponent', 'political party', 'political religious', 'political terrorism', 'politically', 'politican', 'politician', 'politician murderer', 'politics', 'politics cong', 'politics dickhead', 'politics doctor', 'politics hypocrisy', 'poll', 'poll number', 'poll result', 'polling', 'pollster', 'pollster show', 'pompeo', 'ponzi', 'ponzi scam', 'ponzischeme', 'pool', 'pool shameonicc', 'poor', 'poor fucktrump', 'poor ground', 'poor management', 'poor muslim', 'poor people', 'poor planning', 'poor preparation', 'poor scheduling', 'poor umpiring', 'poorest', 'poorest making', 'poorly', 'popping', 'popping imran', 'poppy', 'popular', 'popular vote', 'population', 'populationcontrollaw', 'porn', 'porn star', 'pornhub', 'portrait', 'pose', 'position', 'position nationalsecuritythreat', 'position use', 'positive', 'positively', 'pospotus', 'possessed', 'possessed seventh', 'possibility', 'possible', 'possible stop', 'possibly', 'post', 'posted', 'poster', 'posting', 'potato', 'potential', 'potus', 'potus said', 'potus trump', 'pound', 'pours', 'poverty', 'power', 'power doctorsfightback', 'power hungry', 'powerful', 'ppl', 'practice', 'practice cricket', 'practiced', 'praise', 'praising', 'pray', 'prayer', 'prayer find', 'prayforuyghur', 'prayforuyghur eastturkistan', 'praying', 'praying cricket', 'praying namaz', 'pre', 'pre planned', 'precedent', 'preciate', 'preciate americafirst', 'precious', 'predator', 'predator pedophile', 'predator woman', 'predict', 'prefer', 'pregnant', 'preparation', 'preparation shameonicc', 'prepare', 'prepared', 'pres', 'preschooler', 'presence', 'present', 'presentation', 'presenting', 'preserve', 'presidency', 'president', 'president asap', 'president doesnt', 'president dont', 'president ever', 'president fucktrump', 'president history', 'president lie', 'president like', 'president one', 'president pinocchio', 'president protest', 'president rule', 'president shirt', 'president traitor', 'president trump', 'president try', 'president united', 'presidentbonespurs', 'presidentbonespurs aryanagentorange', 'presidential', 'presidential harassment', 'presidentialelection', 'presidentialelection bluewave', 'presidentsrule', 'press', 'press briefing', 'press people', 'press release', 'press secretary', 'pressure', 'pressure cooker', 'prestigious', 'pretend', 'pretended', 'pretending', 'pretty', 'pretty good', 'pretty much', 'pretty sure', 'prevail', 'prevail cricket', 'prevails', 'prevails cwc', 'prevent', 'preventative', 'preventative way', 'prevents', 'previous', 'prey', 'prezter', 'prezter molester', 'price', 'price work', 'priceless', 'prick', 'pride', 'pride country', 'pride dhonikeepstheglove', 'pride flag', 'pride fucktrump', 'pride india', 'pride lgbt', 'pride month', 'pride pride', 'pride pridemonth', 'pride shame', 'pridemonth', 'pridemonth fucktrump', 'pridemonth pride', 'primary', 'prime', 'prime minister', 'prime time', 'prince', 'prince wagthedog', 'prince wale', 'prince whale', 'princeofwhales', 'principle', 'print', 'printed', 'printed balidanbadge', 'prioritize', 'priority', 'priority dhonikeepstheglove', 'prison', 'prison rkelly', 'prisonbreak', 'prisonbreak escapedprisoner', 'prisoner', 'prisonfortrump', 'privacy', 'private', 'privately', 'privilege', 'privileged', 'priyanshu', 'prize', 'pro', 'pro life', 'probably', 'probably never', 'probably one', 'probe', 'problem', 'problem dhoni', 'problem entire', 'problem solved', 'proceed', 'proceeding', 'process', 'produce', 'produced', 'product', 'prof', 'profession', 'professional', 'professor', 'profile', 'profit', 'program', 'progress', 'progress go', 'progressive', 'progressive dems', 'progressive resister', 'projection', 'prominent', 'promise', 'promise obamacare', 'promised', 'promoting', 'promotion', 'proof', 'propaganda', 'proper', 'proper permit', 'proper planning', 'proper way', 'properly', 'property', 'proposal', 'proposed', 'prosecutor', 'prostitute', 'protect', 'protect doctor', 'protect medical', 'protected', 'protected rain', 'protecting', 'protecting rapist', 'protection', 'protection doctor', 'protest', 'protest awamdushman', 'protest bengal', 'protest canada', 'protest doctor', 'protest doctorsfightback', 'protest impeach', 'protest mamta', 'protest support', 'protest violence', 'protested', 'protester', 'protesting', 'protesting behalf', 'protesting doctor', 'protesting violence', 'protestors', 'proud', 'proud dhoni', 'proud dhonikeepstheglove', 'proud indian', 'proud moment', 'proud using', 'proudly', 'prove', 'proved', 'proven', 'provide', 'proving', 'psst', 'psycho', 'psychopath', 'psychotic', 'pti', 'pti imranhataomulkbachao', 'ptigovernment', 'ptigovernment imranhataomulkbachao', 'public', 'public debate', 'public eye', 'public health', 'public office', 'public opinion', 'public well', 'publicity', 'publicly', 'published', 'published poem', 'puja', 'pull', 'pulled', 'punch', 'punish', 'punishment', 'punishment rapist', 'punjab', 'puplic', 'puppet', 'purchase', 'purchase screenshot', 'pure', 'pure trash', 'purebred', 'purpose', 'pursue', 'push', 'pushing', 'pussy', 'pussy fuck', 'pussygrabber', 'pussypotus', 'put', 'put american', 'put behind', 'put country', 'put end', 'put first', 'put fucktrump', 'put hand', 'put jail', 'put money', 'putin', 'putin god', 'putin puppet', 'putin trumpisatraitor', 'putinpuppet', 'putinsbitch', 'putinsgop', 'putinsgop cadetbonespurs', 'putinspuppet', 'putinspuppet fucktrump', 'putinspuppet jailtrump', 'putinspuppet trumpisatraitor', 'putinspuppet unfittobepresident', 'putittothepeople', 'putittothepeople summerofresistance', 'putrorythrough', 'putting', 'putting damper', 'qanon', 'quack', 'quack quack', 'quality', 'queen', 'question', 'question humanity', 'question mark', 'quick', 'quicker', 'quickly', 'quit', 'quite', 'quiz', 'quo', 'quote', 'quoting', 'rabid', 'race', 'race card', 'racer', 'racer chase', 'racial', 'racial activity', 'racism', 'racist', 'racist rapist', 'racistinchief', 'racisttrump', 'rage', 'raha', 'rahe', 'rahul', 'rahul gandhi', 'rahulgandhi', 'rain', 'rain affected', 'rain biggest', 'rain cbi', 'rain chance', 'rain cloud', 'rain come', 'rain continues', 'rain cricket', 'rain cwc', 'rain doesnt', 'rain drop', 'rain england', 'rain insurance', 'rain interrupted', 'rain interruption', 'rain motherfuckerr', 'rain one', 'rain playing', 'rain proud', 'rain rain', 'rain ruin', 'rain see', 'rain shameonicc', 'rain show', 'rain stop', 'rain top', 'rain umbrella', 'rain win', 'rain winner', 'rain world', 'rainbow', 'rainbow flag', 'raincup', 'rained', 'raining', 'raining england', 'rainstopsmatch', 'rainstopsmatch iccricketworldcup', 'rainstopsmatch rainyworldcup', 'rainstopsmatch shameonicc', 'rainworldcup', 'rainy', 'rainy weather', 'rainyworldcup', 'raise', 'raise question', 'raise voice', 'raised', 'raised fist', 'raising', 'raising promise', 'rajiv', 'rally', 'ram', 'rambling', 'rammandir', 'rampurhat', 'rampurhat burdwan', 'random', 'randomly', 'ranganathan', 'ranganathan scientist', 'rangzen', 'rangzen people', 'ranjan', 'ranjan choudhari', 'rank', 'ranking', 'ranking world', 'rap', 'rape', 'rape case', 'rape matured', 'rape rape', 'rape rapist', 'rape survivor', 'rape victim', 'raped', 'raped woman', 'rapevictim', 'raping', 'rapist', 'rapist billclinton', 'rapist brettkavanaughrapist', 'rapist brockturner', 'rapist childmolester', 'rapist childtrafficking', 'rapist criminal', 'rapist eligible', 'rapist get', 'rapist hang', 'rapist hanged', 'rapist impeachthemf', 'rapist justice', 'rapist liar', 'rapist make', 'rapist matured', 'rapist murderer', 'rapist must', 'rapist parental', 'rapist pedophile', 'rapist pervert', 'rapist president', 'rapist prison', 'rapist rapist', 'rapist robber', 'rapist see', 'rapist serial', 'rapist support', 'rapist supporter', 'rapist trump', 'rapist visitation', 'rapist wa', 'raptor', 'rare', 'rate', 'rather', 'rather glove', 'rating', 'razor', 'rd', 'rd birthday', 'rd class', 'rda', 'reach', 'reached', 'reaction', 'reaction doctor', 'read', 'read crotch', 'read doctorsfightback', 'read history', 'read mueller', 'read report', 'read thought', 'reading', 'readthemuellerreport', 'readthemuellerreport trumpisatraitor', 'ready', 'real', 'real american', 'real hero', 'real killer', 'real life', 'real nipple', 'real online', 'real sex', 'real trump', 'realdonaldtrump', 'realdonaldtrump fucktrump', 'realise', 'realised', 'reality', 'realize', 'realized', 'really', 'really dickhead', 'really dont', 'really hope', 'really like', 'really mean', 'really really', 'really shameful', 'really shameonicc', 'really think', 'really want', 'really wish', 'reason', 'reason boris', 'reason borisjohnsonshouldnotbepm', 'reason murderer', 'recall', 'received', 'recent', 'recent year', 'recently', 'recession', 'reckon', 'reckon might', 'recognized', 'recommend', 'reconsider', 'record', 'record number', 'record straight', 'recruit', 'red', 'red faced', 'red heart', 'red white', 'redrum', 'reduce', 'refer', 'reference', 'referendum', 'referendum country', 'referred', 'referring', 'reform', 'refugee', 'refund', 'refuse', 'refuse attend', 'refuse meet', 'refused', 'refusing', 'refuting', 'refuting west', 'regard', 'regarding', 'regardless', 'regime', 'regiment', 'register', 'registered', 'registered investment', 'regular', 'regular dy', 'regulation', 'regulation icc', 'reject', 'related', 'related political', 'relationship', 'relative', 'relative patient', 'release', 'released', 'releasethefullmuellerreport', 'relevant', 'relevant msm', 'relief', 'religion', 'religious', 'religious belief', 'religious political', 'religious practice', 'religious racial', 'remain', 'remain relevant', 'remain tory', 'remaining', 'remaining get', 'remaining match', 'remains', 'remark', 'remark please', 'remedy', 'remember', 'remember head', 'remembered', 'remembering', 'remind', 'reminder', 'reminds', 'removal', 'remove', 'remove balidan', 'remove glove', 'remove insignia', 'removed', 'rental', 'repeal', 'repeal republican', 'repeal sanction', 'repeat', 'repeatedly', 'replace', 'replaced', 'reply', 'reply back', 'report', 'report borisjohnsonshouldnotbepm', 'reported', 'reported trump', 'reportedly', 'repost', 'represent', 'representative', 'representative resident', 'represented', 'represents', 'represents country', 'republic', 'republican', 'republican party', 'republican voter', 'republicansdontcare', 'republicansforimpeachment', 'repugnant', 'reputation', 'reqd', 'request', 'request allow', 'request doctor', 'request indian', 'request please', 'request take', 'requested', 'required', 'requires', 'research', 'reservation', 'reserve', 'reserve day', 'reserved', 'reserved day', 'residence', 'resident', 'resident doctor', 'resign', 'resign walk', 'resignation', 'resignation doctorsfightback', 'resignation dont', 'resigned', 'resigned bengal', 'resigned doctorsfightback', 'resigning', 'resignnow', 'resignorbeimpeached', 'resignorbeimpeached billiondollarloser', 'resignorbeimpeached fathersday', 'resignorimpeach', 'resignorimpeach derelict', 'resigns', 'resigns savethedoctors', 'resigntrump', 'resist', 'resist drumpf', 'resist fucktrump', 'resist nowall', 'resist resistance', 'resist resisttrump', 'resist traitortrump', 'resist trumpisatraitor', 'resist unstablepresident', 'resist voteblue', 'resistance', 'resistance fucktrump', 'resistance lockthemallup', 'resistance resist', 'resistance theresistance', 'resistance trumpisatraitor', 'resistanceunited', 'resistanceunited fbr', 'resister', 'resister let', 'resister resist', 'resister resistance', 'resister resistersforum', 'resistersforum', 'resistersforum fbresistance', 'resistersforum resistanceunited', 'resistersforum resistersunite', 'resistersunite', 'resistfascism', 'resisttogether', 'resisttogether fucktrump', 'resisttrump', 'resisttrump fucktrump', 'resisttrump theresistance', 'resolve', 'resolve matter', 'resolved', 'resort', 'resource', 'respect', 'respect army', 'respect dignity', 'respect doctor', 'respect force', 'respect indiawithdhoni', 'respect law', 'respect nothing', 'respected', 'respecting', 'respective', 'respond', 'responder', 'responds', 'responds trump', 'response', 'response asked', 'responsibility', 'responsible', 'responsible common', 'rest', 'rest match', 'rest world', 'restaurant', 'restored', 'restriction', 'result', 'result one', 'resulted', 'resulted trump', 'resume', 'retaliate', 'retire', 'retired', 'retirement', 'return', 'return home', 'returning', 'retweet', 'retweet agree', 'retweet follow', 'retweet mustwatch', 'retweet party', 'retweet paypal', 'retweet trump', 'retweeting', 'retweeting johnmccainday', 'retweets', 'retweets comment', 'revealed', 'reveals', 'revenue', 'revenue despite', 'reversal', 'reverse', 'review', 'revokearticle', 'revolution', 'rg', 'rg kar', 'rgkar', 'rhetoric', 'rich', 'richer', 'richwhitemanprivilege', 'richwhitemanprivilege dickhead', 'rid', 'riddance', 'ride', 'ridiculous', 'ridiculous dhonikeepstheglove', 'ridusofthisdisease', 'ridusofthisdisease unfollowtrump', 'right', 'right another', 'right ask', 'right away', 'right doctor', 'right fucktrump', 'right functional', 'right knew', 'right murderer', 'right never', 'right rapist', 'right resist', 'right say', 'right thing', 'right trumpisatraitor', 'right washington', 'right wrong', 'rightly', 'ring', 'rino', 'riot', 'rip', 'ripped', 'rise', 'risk', 'risking', 'ritual', 'ritual prayer', 'rival', 'river', 'rkelly', 'rkelly lock', 'ro', 'road', 'robbed', 'robber', 'robert', 'robot', 'rock', 'rocket', 'rocket tool', 'rohingyas', 'rohit', 'role', 'role play', 'roll', 'rome', 'rome pride', 'ron', 'ron murderer', 'rongoldman', 'rongoldman murderer', 'ronna', 'room', 'root', 'rory', 'rory stewart', 'roryforleader', 'roryforleader borisjohnsonshouldnotbepm', 'rorystewart', 'rorystewart becomes', 'rose', 'ross', 'rot', 'rotinhell', 'rotten', 'roughing', 'roughing mishandling', 'round', 'route', 'royal', 'rt', 'rt agree', 'rubio', 'rudy', 'ruin', 'ruined', 'ruining', 'ruining freetibet', 'rule', 'rule book', 'rule dhonikeepstheglove', 'rule dont', 'rule glove', 'rule icc', 'rule law', 'rule regulation', 'rule rule', 'rule team', 'ruled', 'ruled state', 'ruling', 'ruling govt', 'run', 'run hospital', 'run india', 'running', 'rupert', 'rusal', 'rush', 'russia', 'russia ha', 'russia interfere', 'russia trumpisatraitor', 'russiagate', 'russian', 'russian asset', 'russian bot', 'russian hacking', 'russian interference', 'russianasset', 'russianasset trumpisatraitor', 'rust', 'ruthless', 'sa', 'sa afg', 'sab', 'sabotage', 'sabotaging', 'sabotaging freetibet', 'sachinopenagain', 'sachinopensagain', 'sack', 'sacked', 'sacked deception', 'sacrifice', 'sacrificed', 'sad', 'sad see', 'sadly', 'safe', 'safeguard', 'safely', 'safely bengal', 'safer', 'safety', 'safety must', 'safety security', 'sahib', 'said', 'said dhonikeepstheglove', 'said hed', 'said one', 'said something', 'said trump', 'said wa', 'said wont', 'said would', 'sajid', 'sajid javid', 'sake', 'sake money', 'sake please', 'saketkumar', 'sakta', 'sakta hai', 'sakte', 'salaam', 'salaam murderer', 'salad', 'salad fucktrump', 'sale', 'salute', 'salute love', 'samajh', 'sambit', 'sambit patra', 'samiibrahim', 'samiibrahim pakvsind', 'sanction', 'sanction oleg', 'sanctuary', 'sanctuary city', 'sander', 'sander fucktrump', 'sane', 'sarah', 'sarah huckabee', 'sarah sander', 'sarahhuckabeesanders', 'sarahsanders', 'sarahsanders sarahsandersresigns', 'sarahsanderslied', 'sarahsandersresigns', 'sarcasm', 'sarkar', 'sat', 'satan', 'satellite', 'satisfaction', 'satisfied', 'satisfy', 'saturday', 'saturdaymorning', 'saturdaymorning money', 'saturdaymotivation', 'saturdaythoughts', 'sauce', 'saudi', 'saudi arabia', 'saudi crown', 'saudiaarabi', 'savage', 'save', 'save democracy', 'save doctor', 'save life', 'save people', 'save saviour', 'savebengal', 'savebengal amazon', 'savebengal doctorsfightback', 'savebengal doctorsstrike', 'savebengal fridayfeeling', 'savebengal saveourdoctors', 'savebengal savethedoctors', 'savebengal shameonicc', 'savebengalfromtmc', 'savebengalsavedemocracy', 'saved', 'saved gb', 'savedoctors', 'savedoctors doctorsfightback', 'saveourdoctors', 'saveourdoctors doctorsfightback', 'saver', 'savethedoctors', 'savethedoctors bengal', 'savethedoctors doctor', 'savethedoctors doctorsfightback', 'savethedoctors doctorsprotest', 'savethedoctors doctorsstrike', 'savethedoctors istandwithnrs', 'savethedoctors savebengal', 'savethedoctors savethesaviour', 'savethedoctors savethesaviours', 'savethedoctors standwithnrs', 'savethesaviour', 'savethesaviour doctorsfightback', 'savethesaviour savebengal', 'savethesaviours', 'savethesaviours doctorsfightback', 'savetibet', 'savetibet uyghur', 'saveuyghur', 'saveuyghur eastturkistan', 'saveuyghur metoouyghur', 'saving', 'saving life', 'saving patient', 'savior', 'saviour', 'saw', 'saw dhonis', 'say', 'say almost', 'say anything', 'say beijing', 'say collusion', 'say democracy', 'say dems', 'say dhonikeepstheglove', 'say doctor', 'say dont', 'say face', 'say fucktrump', 'say god', 'say guy', 'say ha', 'say im', 'say kellyanne', 'say man', 'say muslim', 'say never', 'say nothing', 'say one', 'say protesting', 'say regulation', 'say remove', 'say resist', 'say someone', 'say something', 'say thing', 'say voted', 'say wa', 'say would', 'saying', 'saying anything', 'saying doctor', 'saying fuck', 'saying fucktrump', 'saying love', 'saying wa', 'saying would', 'scam', 'scam conmen', 'scam isnt', 'scammer', 'scandal', 'scarecrow', 'scared', 'scary', 'scb', 'scb medical', 'scenario', 'scene', 'schedule', 'schedule venue', 'scheduled', 'scheduled england', 'scheduling', 'scheme', 'schiff', 'school', 'school adopted', 'school report', 'schumer', 'science', 'scientist', 'scientist author', 'score', 'scosummit', 'scosummit meninblackreview', 'scot', 'scotland', 'scotref', 'scottish', 'scottish people', 'screamed', 'screen', 'screenshot', 'screenshot get', 'screw', 'screw deciding', 'screw trump', 'screwed', 'scroll', 'scrutinised', 'scrutiny', 'scum', 'scumbag', 'sea', 'search', 'search popping', 'season', 'seat', 'sebi', 'sebi registered', 'sec', 'second', 'second god', 'second uyghur', 'secret', 'secret behind', 'secret deal', 'secretary', 'section', 'sector', 'secular', 'secularism', 'secure', 'security', 'security doctor', 'security government', 'see', 'see badge', 'see boris', 'see comment', 'see condition', 'see dhoni', 'see england', 'see every', 'see finale', 'see fucktrump', 'see get', 'see ground', 'see ha', 'see happens', 'see india', 'see kid', 'see many', 'see problem', 'see rain', 'see trump', 'seed', 'seeing', 'seek', 'seek apology', 'seeker', 'seeking', 'seem', 'seem like', 'seemingly', 'seems', 'seems like', 'seen', 'seen first', 'seen racer', 'selected', 'selected medium', 'selected pm', 'selecting', 'selecting venue', 'self', 'self defence', 'self destructive', 'self respect', 'self serving', 'selfie', 'sell', 'sell country', 'selling', 'semi', 'semi final', 'sen', 'senate', 'senator', 'send', 'send money', 'sending', 'sends', 'senileaf', 'senileaf stablegenius', 'senior', 'senior doctor', 'sens', 'sense', 'sense prevail', 'senseless', 'sensible', 'sensible people', 'sent', 'sentence', 'sentenced', 'sentiment', 'serial', 'serial killer', 'serial liar', 'serial murderer', 'serial rapist', 'serial sexual', 'serialkiller', 'serialkiller murderer', 'series', 'series rain', 'serious', 'serious issue', 'seriously', 'serve', 'serve people', 'served', 'service', 'service afghanistan', 'service still', 'service without', 'serving', 'session', 'set', 'set goal', 'set precedent', 'set record', 'seven', 'seventh', 'seventh kingdom', 'several', 'severe', 'sex', 'sex article', 'sex fuck', 'sex oral', 'sex phat', 'sex pussy', 'sex sex', 'sex story', 'sex video', 'sexfiend', 'sexfiend douchebag', 'sexist', 'sexoffender', 'sexual', 'sexual predator', 'sexualassault', 'sexually', 'sexually assaulting', 'sexualmisconduct', 'sexualpredator', 'sf', 'sh', 'shade', 'shah', 'shall', 'shallow', 'sham', 'shame', 'shame congress', 'shame dhonikeepstheglove', 'shame doctorsfightback', 'shame doctorsstrike', 'shame gandinaaliabuse', 'shame icc', 'shame shame', 'shame shameonicc', 'shameful', 'shameful gross', 'shameicc', 'shameless', 'shamelessly', 'shameonengland', 'shameonicc', 'shameonicc abrandnewdayoutnow', 'shameonicc bcci', 'shameonicc cant', 'shameonicc cricket', 'shameonicc cricketworldcup', 'shameonicc cwc', 'shameonicc engvswi', 'shameonicc engvwi', 'shameonicc fridaymotivation', 'shameonicc guy', 'shameonicc hahaha', 'shameonicc icc', 'shameonicc iccricketworldcup', 'shameonicc iccworldcup', 'shameonicc idiot', 'shameonicc india', 'shameonicc indian', 'shameonicc indvnz', 'shameonicc indvpak', 'shameonicc indvsnz', 'shameonicc indvspak', 'shameonicc please', 'shameonicc poor', 'shameonicc rain', 'shameonicc raincup', 'shameonicc rainstopsmatch', 'shameonicc savebengal', 'shameonicc see', 'shameonicc shame', 'shameonicc shameonengland', 'shameonicc trending', 'shameonicc wethenorth', 'shameonicc wivseng', 'shameonicc worldcup', 'shameonyou', 'share', 'shared', 'sharing', 'sharing video', 'sharma', 'shashank', 'shashank manohar', 'shd', 'shed', 'shed tear', 'sheep', 'sheer', 'sheriff', 'shes', 'shift', 'shift world', 'shikhar', 'shikhar dhawan', 'shikhardhawan', 'shine', 'shine engvswi', 'shining', 'ship', 'ship incompetent', 'shirt', 'shirt cap', 'shirt clothing', 'shirt extended', 'shirt streetwear', 'shirt trump', 'shit', 'shit disgusting', 'shit doe', 'shit dont', 'shit fucktrump', 'shit hell', 'shit show', 'shit trump', 'shitgibbon', 'shitty', 'shock', 'shocked', 'shocking', 'shoot', 'shooting', 'shop', 'shop benedict', 'shop trump', 'short', 'short sleeve', 'shouldnt', 'shouldve', 'shout', 'shout fucktrump', 'shouting', 'shoutout', 'show', 'show host', 'show love', 'show mean', 'show otherwise', 'show power', 'show progress', 'show respect', 'show strength', 'show team', 'show thats', 'show unity', 'show vote', 'showed', 'shower', 'showing', 'shown', 'shown love', 'shree', 'shree ram', 'shri', 'shri ram', 'shslies', 'shud', 'shud intervene', 'shut', 'shuts', 'shutyourshithole', 'shutyourshithole fucktrump', 'si', 'sick', 'sickening', 'sickening fucktrump', 'side', 'sided', 'sigh', 'sigh gt', 'sight', 'sign', 'sign dickhead', 'sign female', 'sign senileaf', 'signal', 'signature', 'signed', 'sikh', 'silence', 'silenced', 'silent', 'silent doctorsfightback', 'silent trump', 'silly', 'silver', 'similar', 'simon', 'simple', 'simple follow', 'simply', 'simply put', 'simpson', 'sin', 'since', 'since day', 'since wrong', 'since wwii', 'sincerely', 'singh', 'singh dhonis', 'singing', 'single', 'single day', 'sink', 'sinking', 'sinking ship', 'sir', 'sir dhonikeepstheglove', 'sir please', 'sister', 'sit', 'site', 'site cum', 'sits', 'sitting', 'situation', 'six', 'size', 'size small', 'sized', 'sketch', 'skill', 'skirt', 'skull', 'skull fractured', 'sky', 'sl', 'sl pak', 'slam', 'slang', 'slap', 'slashing', 'slaughtered', 'slave', 'sleazy', 'sleep', 'sleeping', 'sleeve', 'sleeve unisex', 'slogan', 'sloppy', 'slovenian', 'slow', 'slowly', 'slvaus', 'small', 'small company', 'small fucktrump', 'smart', 'smart cause', 'smear', 'smfh', 'smfh fucktrump', 'smh', 'smile', 'smile face', 'smith', 'snake', 'soap', 'sob', 'sob trump', 'soccer', 'social', 'social medium', 'socialism', 'society', 'sociopath', 'sociopathic', 'sold', 'soldier', 'soldier dhonikeepstheglove', 'soldier ha', 'soldier proud', 'solid', 'solidarity', 'solidarity doctor', 'solidarity protest', 'solution', 'solve', 'solved', 'solving', 'somebody', 'somehow', 'someone', 'someone cant', 'someone else', 'someone explain', 'someone get', 'someone glove', 'someone please', 'someone said', 'something', 'something edengarden', 'something fast', 'something india', 'something like', 'sometimes', 'son', 'son bitch', 'song', 'sonia', 'soo', 'soo hard', 'soon', 'soon get', 'soon look', 'sooner', 'sophisticated', 'sore', 'sorry', 'sorry cant', 'sort', 'sought', 'soul', 'sound', 'sound like', 'source', 'south', 'southern', 'southern border', 'soybean', 'space', 'spanish', 'spanish edition', 'spark', 'sparkle', 'spawn', 'speak', 'speak language', 'speaker', 'speaking', 'speaks', 'special', 'specialist', 'spectator', 'spectator tomorrow', 'speech', 'spell', 'spelling', 'spend', 'spend money', 'spend tax', 'spend time', 'spending', 'spending much', 'spends', 'spent', 'spew', 'spill', 'spin', 'spine', 'spineless', 'spirit', 'spite', 'split', 'spoil', 'spoiling', 'spoke', 'spoken', 'spokesperson', 'sponsor', 'sport', 'sport country', 'sport lts', 'sport yet', 'sporting', 'sportsmanship', 'sportsmanship dont', 'spot', 'spotlight', 'spread', 'spur', 'spy', 'spycam', 'spycam lesbian', 'squeeze', 'sr', 'sri', 'sri ram', 'sskm', 'sskm national', 'st', 'stab', 'stability', 'stablegenius', 'stablegenius bebest', 'stablegenius racist', 'stadium', 'stadium balidaanbadge', 'staff', 'staff ima', 'stage', 'staged', 'stained', 'stan', 'stand', 'stand brutal', 'stand dhoni', 'stand dhonikeepstheglove', 'stand doctor', 'stand infact', 'stand matter', 'stand msdhoni', 'stand nrs', 'stand nrsmch', 'stand solidarity', 'stand time', 'stand united', 'standard', 'standard umpiring', 'standing', 'standing ovation', 'standing solidarity', 'standwithdoctors', 'standwithnrs', 'standwithnrs doctorsfightback', 'standwithnrs savebengal', 'standwithnrsmch', 'star', 'start', 'start calling', 'start war', 'started', 'started building', 'started fucktrump', 'starting', 'state', 'state america', 'state cry', 'state fucktrump', 'state government', 'state govt', 'state ha', 'stated', 'statement', 'statement trump', 'statesman', 'stating', 'status', 'stay', 'stay away', 'stay home', 'steal', 'stealing', 'steele', 'steele dossier', 'step', 'stephen', 'stepped', 'steve', 'stewart', 'stfu', 'stfu murderer', 'stick', 'sticker', 'still', 'still alive', 'still cant', 'still dont', 'still fucktrump', 'still ha', 'still hasnt', 'still loose', 'still president', 'still sitting', 'still support', 'still think', 'still working', 'stinking', 'stock', 'stole', 'stolen', 'stone', 'stooge', 'stoop', 'stoop low', 'stop', 'stop asking', 'stop cry', 'stop dhoni', 'stop eating', 'stop fake', 'stop fan', 'stop letting', 'stop lying', 'stop occurring', 'stop rain', 'stop treating', 'stop trumpisatraitor', 'stop violence', 'stopboris', 'stopbrexit', 'stopchina', 'stopchina boycottchina', 'stopgenocidechina', 'stopgenocidechina rt', 'stopgenocidechina tibet', 'stopped', 'stopping', 'stoptrump', 'stopviolenceagainstdoctors', 'stopviolenceagainstdoctors doctorsfightback', 'store', 'story', 'story ant', 'story protest', 'story real', 'straight', 'straight murderer', 'strange', 'strap', 'strap watch', 'strategy', 'straw', 'stray', 'street', 'street london', 'streetbike', 'streetwear', 'streetwear trump', 'strength', 'stress', 'strict', 'strict action', 'strict rule', 'strictly', 'strike', 'strike back', 'strike bengal', 'strike called', 'strike entire', 'strike important', 'strike india', 'strike monday', 'strike th', 'strike today', 'striking', 'striking doctor', 'stringent', 'strip', 'stripper', 'stroke', 'stroke heart', 'strong', 'strong action', 'strongertogether', 'strongly', 'strongly condemn', 'strongwoman', 'struck', 'struggle', 'struggling', 'struggling family', 'stuck', 'student', 'student fight', 'studio', 'stuff', 'stunning', 'stunt', 'stupid', 'stupid enough', 'stupid idea', 'stupid one', 'stupidity', 'style', 'submitting', 'submitting resignation', 'subpoena', 'subscribe', 'subsidy', 'success', 'successful', 'successful heart', 'suck', 'suck greatjobatbeingadouchebag', 'sucker', 'sudan', 'suddenly', 'suffer', 'suffered', 'suffering', 'sugar', 'sugar daddy', 'sugarbabiesneeded', 'sugarbabiesneeded copaamerica', 'sugardaddys', 'sugardaddys findom', 'suggest', 'suggests', 'suicide', 'suit', 'sum', 'summer', 'summerofresistance', 'sun', 'sun shine', 'sun sun', 'sunday', 'sunday india', 'sunday indvaus', 'sunday night', 'sunday pakistan', 'sunil', 'sunil gavaskar', 'sunni', 'sunny', 'super', 'supershowdown', 'supply', 'support', 'support balidaanbadge', 'support borisjohnsonshouldnotbepm', 'support cause', 'support dhoni', 'support dhonikeepstheglove', 'support dhonikesaathdesh', 'support doctor', 'support doctorsfightback', 'support doctorstrike', 'support finally', 'support highness', 'support icc', 'support indian', 'support man', 'support protest', 'support rapist', 'support russian', 'support trump', 'support west', 'support woman', 'supportdhoni', 'supported', 'supporter', 'supporter get', 'supporter rapist', 'supporting', 'supporting boris', 'supporting chairman', 'supporting dhonikeepstheglove', 'supporting doctor', 'supporting england', 'supposed', 'supposedly', 'suppression', 'supremacist', 'supreme', 'supreme court', 'sure', 'sure trump', 'sure would', 'surely', 'surgeon', 'surgical', 'surgical strike', 'surprise', 'surprised', 'surprising', 'surprisingly', 'survival', 'survive', 'survivor', 'survivor allow', 'suspected', 'suspend', 'suspended', 'suspension', 'suspicious', 'swamp', 'swastika', 'swati', 'swear', 'swim', 'swim first', 'swimming', 'swimming competition', 'swimming pool', 'swimming world', 'swindler', 'swine', 'sycophant', 'sycophantic', 'symbol', 'symbol dhoni', 'symbol glove', 'symbol pride', 'symbolism', 'sympathy', 'syndicate', 'syria', 'system', 'system poorest', 'system preventative', 'ta', 'table', 'tackle', 'tackle issue', 'tactic', 'tag', 'tagore', 'taher', 'taher khan', 'tail', 'take', 'take action', 'take another', 'take bet', 'take care', 'take foreign', 'take head', 'take help', 'take info', 'take look', 'take necessary', 'take objection', 'take part', 'take responsibility', 'take stand', 'take strict', 'take strong', 'take time', 'take trump', 'taken', 'taken away', 'takethatdamnphoneawayhim', 'takethatdamnphoneawayhim impeachthemf', 'taking', 'taking bharat', 'talent', 'talk', 'talk dhonikeepstheglove', 'talking', 'talking point', 'tanker', 'tantrum', 'tape', 'target', 'targeted', 'tariff', 'taste', 'tatoo', 'tattoo', 'taught', 'tax', 'tax cut', 'tax dollar', 'taxday', 'taxday muellerreport', 'taxpayer', 'taxpayer funded', 'taxpayer money', 'taxreturns', 'taxreturns resistance', 'teach', 'teacher', 'teacher based', 'team', 'team allowed', 'team dhonikeepstheglove', 'team england', 'team india', 'team look', 'team marking', 'team match', 'team rain', 'team win', 'teamindia', 'teamindia another', 'teamindia cwc', 'tear', 'tech', 'technique', 'technology', 'ted', 'tee', 'teen', 'teen abortion', 'telangana', 'telangana hold', 'telegraph', 'television', 'tell', 'tell everything', 'tell trump', 'tell truth', 'tell whats', 'tellemwhyyoumad', 'tellemwhyyoumad grindsmygears', 'telling', 'temple', 'tennessee', 'term', 'term trump', 'terrible', 'terrifying', 'territory', 'territory praying', 'terror', 'terrorism', 'terrorism doctorsfightback', 'terrorist', 'terrorist murderer', 'terrorist rapist', 'terroristnationpakistan', 'terroristnationpakistan indiavspakistan', 'test', 'testify', 'testimony', 'texas', 'tgsfraud', 'tgsfraud dreamzgkfraud', 'th', 'th anniversary', 'th happyjohnmccainday', 'th july', 'th june', 'th match', 'tha', 'thamendment', 'thamendmentnow', 'thank', 'thank god', 'thankfully', 'thankfully knife', 'thanks', 'thanks fund', 'thanks trump', 'thankyou', 'thanos', 'thatll', 'thats', 'thats cute', 'thats fair', 'thats kushner', 'thats really', 'thats right', 'thats trump', 'thats wa', 'thats work', 'thebachelorette', 'thejuice', 'thejuiceisloose', 'theme', 'theory', 'therefore', 'theresa', 'theresa may', 'theresistance', 'theresistance ditchmitch', 'theresistance resistance', 'theunmissablemeeting', 'theunmissablemeeting doctorsstrike', 'theyll', 'theyre', 'thief', 'thief murderer', 'thief see', 'thiem', 'thin', 'thing', 'thing always', 'thing borisjohnsonshouldnotbepm', 'thing doctor', 'thing done', 'thing going', 'thing happens', 'thing know', 'thing like', 'thing say', 'thing trumpisatraitor', 'thing watch', 'thing wrong', 'think', 'think already', 'think boris', 'think borisjohnsonshouldnotbepm', 'think case', 'think dr', 'think fucktrump', 'think good', 'think icc', 'think id', 'think look', 'think make', 'think mean', 'think murderer', 'think people', 'think president', 'think rain', 'think self', 'think thats', 'think trump', 'think twice', 'think wrong', 'think youre', 'thinking', 'third', 'tho', 'thomas', 'though', 'thought', 'thought id', 'thought wa', 'thought yourquote', 'thousand', 'thousand people', 'thr', 'thrashed', 'thrashing', 'thread', 'threat', 'threat democracy', 'threat justice', 'threaten', 'threatened', 'threatening', 'threatening doctor', 'threatens', 'three', 'three time', 'threshold', 'threshold referendum', 'thrive', 'thriving', 'throat', 'throughout', 'throw', 'throw baby', 'throwing', 'thrown', 'thru', 'thug', 'thursday', 'thursdaythoughts', 'thus', 'tibet', 'tibet freetibet', 'tibetan', 'tibetan dalailama', 'tibetan humanrights', 'tibetcause', 'ticket', 'tie', 'tiger', 'tight', 'till', 'till date', 'till death', 'till lift', 'till ordinance', 'time', 'time ago', 'time around', 'time borisjohnsonshouldnotbepm', 'time constructive', 'time crisis', 'time cwc', 'time dhonis', 'time fine', 'time get', 'time ha', 'time indian', 'time left', 'time medium', 'time money', 'time newspaper', 'time put', 'time say', 'time see', 'time since', 'time someone', 'time stand', 'time started', 'time trumpisatraitor', 'time wa', 'time year', 'timeline', 'timewear', 'tip', 'tired', 'title', 'tl', 'tmc', 'tmc bjp', 'tmc mla', 'tmc mp', 'tmc supporter', 'today', 'today ask', 'today called', 'today fucktrump', 'today johhmccainday', 'today match', 'today th', 'today trump', 'today westbengal', 'toddler', 'together', 'toh', 'toilet', 'told', 'told wouldnt', 'tolerance', 'tolerate', 'tolerating', 'tom', 'tommy', 'tomorrow', 'tomorrow flood', 'tomorrow indvpak', 'tomorrow indvspak', 'tonight', 'tonkin', 'took', 'tool', 'tool bash', 'tool poetry', 'toothless', 'top', 'top chart', 'top list', 'top ranking', 'topic', 'toriesout', 'toriesout peoplesvote', 'torture', 'torture murder', 'tory', 'tory borisjohnsonshouldnotbepm', 'tory conservative', 'tory leadership', 'tory mp', 'tory muse', 'torydrugoff', 'torydrugoff britainsnextpm', 'toryleadership', 'toryleadership borisjohnsonshouldnotbepm', 'toryleadershipcandidates', 'toryleadershipcontest', 'toryleadershipcontest borisjohnsonshouldnotbepm', 'toryleadershipcontest brexit', 'toryleadershipcontest toryleadershipdebate', 'toryleadershipdebate', 'toryleadershipdebate brexit', 'toryleadershipelection', 'toryleadeshipcontest', 'toryleadeshipcontest borisjohnsonshouldnotbepm', 'toryracism', 'toryracism tory', 'toss', 'total', 'total bullshit', 'total conspiracy', 'total revenue', 'totally', 'totally disgusting', 'touch', 'tough', 'tough guy', 'tournament', 'tournament learn', 'tournament shameonicc', 'tournament wasted', 'tournament world', 'toward', 'towards', 'towards inferno', 'towards nation', 'tower', 'town', 'toxic', 'trace', 'track', 'track record', 'tracking', 'trade', 'trade mark', 'trade war', 'trader', 'tradewar', 'tradewar borisjohnsonshouldnotbepm', 'tragedy', 'tragic', 'train', 'trait', 'traitor', 'traitor american', 'traitor country', 'traitor criminal', 'traitor dont', 'traitor fucktrump', 'traitor goptraitors', 'traitor johnmccainday', 'traitor liar', 'traitor liarinchief', 'traitor nazisnotwelcome', 'traitor pedophile', 'traitor peodphile', 'traitor short', 'traitor think', 'traitor trump', 'traitor trumpisatraitor', 'traitor usa', 'traitor white', 'traitorduterte', 'traitorduterte boycottchina', 'traitorinchief', 'traitorinchief impeachtrump', 'traitorous', 'traitortot', 'traitortrump', 'traitortrump fucktrump', 'traitortrump impeachtrumpnow', 'traitortrump treasonoustraitortrump', 'traitortrump trumpcrimefamily', 'traitortrump trumpisatraitor', 'traitortrump trumptreason', 'traitortrumps', 'trans', 'transcript', 'transfer', 'transfer case', 'translate', 'translate india', 'translation', 'transparency', 'transparent', 'transplant', 'transplant govt', 'trapped', 'trash', 'trash fucktrump', 'travel', 'traveling', 'traveling bus', 'treason', 'treason idiotorange', 'treason resist', 'treason traitor', 'treason trumpisatraitor', 'treason trumptreason', 'treasonous', 'treasonous traitor', 'treasonous trumpisatraitor', 'treasonoustraitortrump', 'treasonoustraitortrump trumpisatraitor', 'treasonoustrump', 'treasonoustrump treason', 'treat', 'treat either', 'treat patient', 'treated', 'treated like', 'treating', 'treatment', 'treatment doctor', 'treatment doctorsfightback', 'treatusashumans', 'tree', 'tremendous', 'trend', 'trending', 'trending day', 'trending shameonicc', 'trendingnow', 'treon', 'trial', 'tribe', 'trick', 'tried', 'trigger', 'triggered', 'trinamool', 'trip', 'trip new', 'troll', 'troll ruining', 'trolled', 'trophy', 'trophy shameonicc', 'trouble', 'trp', 'truck', 'true', 'true hero', 'true patriot', 'truecrime', 'truly', 'truly commendable', 'trump', 'trump abc', 'trump admin', 'trump administration', 'trump af', 'trump america', 'trump biggest', 'trump birthday', 'trump borisjohnsonshouldnotbepm', 'trump brag', 'trump call', 'trump campaign', 'trump cant', 'trump claim', 'trump creating', 'trump crime', 'trump derangeddonald', 'trump dickhead', 'trump didnt', 'trump disaster', 'trump doe', 'trump doesnt', 'trump done', 'trump douchebag', 'trump election', 'trump enemy', 'trump even', 'trump flagday', 'trump florida', 'trump flying', 'trump fucking', 'trump fucktrump', 'trump get', 'trump gop', 'trump ha', 'trump happy', 'trump impeach', 'trump impeachtrumpnow', 'trump joe', 'trump johnmccainday', 'trump jr', 'trump kushner', 'trump leading', 'trump lie', 'trump love', 'trump maga', 'trump make', 'trump never', 'trump nixon', 'trump notmypresident', 'trump pennsylvania', 'trump penny', 'trump personal', 'trump point', 'trump poll', 'trump presidency', 'trump racist', 'trump rd', 'trump realdonaldtrump', 'trump resist', 'trump said', 'trump say', 'trump saying', 'trump supporter', 'trump tariff', 'trump think', 'trump threat', 'trump today', 'trump tower', 'trump traitor', 'trump trump', 'trump trumpbillies', 'trump trumpisatraitor', 'trump trumpmustresign', 'trump trumprussia', 'trump trumpsaninternationaldisgrace', 'trump trumptrain', 'trump try', 'trump trying', 'trump tweet', 'trump wa', 'trump want', 'trump wasnt', 'trump weekend', 'trump wh', 'trump white', 'trump win', 'trump wisconsin', 'trump world', 'trump would', 'trumpbillies', 'trumpbirthday', 'trumpcolluded', 'trumpcolluded trumpisatraitor', 'trumpcolluded trumpobstructed', 'trumpcollusion', 'trumpcollusion trumpcriminalinvestigations', 'trumpconcentrationcamps', 'trumpcorruption', 'trumpcrimefamily', 'trumpcrimefamily impeachtrump', 'trumpcrimefamily impeachtrumpnow', 'trumpcrimefamily trumpcolluded', 'trumpcrimefamily trumpconcentrationcamps', 'trumpcrimefamily trumpcrimesyndicate', 'trumpcrimefamily trumpisacriminal', 'trumpcrimefamily trumpisatraitor', 'trumpcrimefamilyforprison', 'trumpcrimefamilymustgo', 'trumpcrimes', 'trumpcrimesyndicate', 'trumpcrimesyndicate trumpcrimefamily', 'trumpcrimesyndicate trumpcult', 'trumpcrimesyndicate trumpisanidiot', 'trumpcriminal', 'trumpcriminalinvestigations', 'trumpcriminalinvestigations trumpcrimesyndicate', 'trumpcriminalinvestigations trumpisatraitor', 'trumpcult', 'trumpcult aidingoureenemies', 'trumpdeathcamps', 'trumpderangementsyndrome', 'trumpdistractons', 'trumpdistractons trumpsucks', 'trumpdoescoverups', 'trumpelections', 'trumpelections trumpcollusion', 'trumperrhoids', 'trumperrhoids want', 'trumpfail', 'trumpfascism', 'trumpforprison', 'trumpforprison fucktrump', 'trumpforprison trumpforprison', 'trumpforprison trumpisatraitor', 'trumphatesamerica', 'trumphours', 'trumpisabilliondollarloser', 'trumpisacriminal', 'trumpisacriminal trumpisadisgrace', 'trumpisacriminal trumpisafraud', 'trumpisacriminal trumpisamoron', 'trumpisacriminal trumpisatraitor', 'trumpisacriminal trumpisnotabovethelaw', 'trumpisacriminal trumpobstructedjustice', 'trumpisacrook', 'trumpisacrook trumpisatraitor', 'trumpisadictatorwannabe', 'trumpisadisgrace', 'trumpisadisgrace impeachmenthearingsnow', 'trumpisadisgrace trumpisacriminal', 'trumpisadisgrace trumpisafraud', 'trumpisadisgrace trumpisatraitor', 'trumpisadisgrace trumpisnotabovethelaw', 'trumpisadisgrace trumplies', 'trumpisadisgrace trumpsworsethannixon', 'trumpisafraud', 'trumpisafraud trumpisacriminal', 'trumpisafraud trumpisamoron', 'trumpisafraud trumpisatraitor', 'trumpisafraud trumpistheenemyofthepeople', 'trumpisaliar', 'trumpisaloser', 'trumpisaloser fucktrump', 'trumpisamoron', 'trumpisamoron trumpisadisgrace', 'trumpisamoron trumpisanationalsecuritythreat', 'trumpisamoron trumpisatraitor', 'trumpisamoron trumpistheenemyofthepeople', 'trumpisanasshole', 'trumpisanationalsecurityrisk', 'trumpisanationalsecuritythreat', 'trumpisanationalsecuritythreat trumpisacriminal', 'trumpisanationalsecuritythreat trumpisadisgrace', 'trumpisanationalsecuritythreat trumpisatraitor', 'trumpisanidiot', 'trumpisanidiot trumpsworsethannixon', 'trumpisaracist', 'trumpisatraitor', 'trumpisatraitor begonebigots', 'trumpisatraitor complicitgop', 'trumpisatraitor corruptgop', 'trumpisatraitor donthecon', 'trumpisatraitor fakepresident', 'trumpisatraitor fucktrump', 'trumpisatraitor gopcomplicittraitors', 'trumpisatraitor guiltyassin', 'trumpisatraitor happyjohnmccainday', 'trumpisatraitor impeach', 'trumpisatraitor impeachdonaldtrump', 'trumpisatraitor impeachdonaldtrumpnow', 'trumpisatraitor impeachmenthearingsnow', 'trumpisatraitor impeachmentinquirynow', 'trumpisatraitor impeachtrump', 'trumpisatraitor impeachtrumpnow', 'trumpisatraitor johnmcainday', 'trumpisatraitor johnmccainday', 'trumpisatraitor johnmccaindayjune', 'trumpisatraitor johnmccaindayjuneth', 'trumpisatraitor lockhimup', 'trumpisatraitor locktrumpup', 'trumpisatraitor maga', 'trumpisatraitor mccainsahero', 'trumpisatraitor mitchmustgo', 'trumpisatraitor noiranwar', 'trumpisatraitor notmypresident', 'trumpisatraitor putinspuppet', 'trumpisatraitor resist', 'trumpisatraitor resister', 'trumpisatraitor treasonoustrump', 'trumpisatraitor trending', 'trumpisatraitor trump', 'trumpisatraitor trumpcolluded', 'trumpisatraitor trumpcrimefamily', 'trumpisatraitor trumpcrimefamilymustgo', 'trumpisatraitor trumpcrimesyndicate', 'trumpisatraitor trumpcriminalinvestigations', 'trumpisatraitor trumpcult', 'trumpisatraitor trumpelections', 'trumpisatraitor trumphatesamerica', 'trumpisatraitor trumpisacriminal', 'trumpisatraitor trumpisadisgrace', 'trumpisatraitor trumpisafraud', 'trumpisatraitor trumpisaliar', 'trumpisatraitor trumpisamoron', 'trumpisatraitor trumpisanationalsecuritythreat', 'trumpisatraitor trumpisatraitor', 'trumpisatraitor trumpisnotabovethelaw', 'trumpisatraitor trumpistheenemyofthepeople', 'trumpisatraitor trumplies', 'trumpisatraitor trumplieseverytimehespeaks', 'trumpisatraitor trumpliesmatter', 'trumpisatraitor trumpmustgo', 'trumpisatraitor trumpmustresign', 'trumpisatraitor trumpresign', 'trumpisatraitor trumpresignnow', 'trumpisatraitor trumprussia', 'trumpisatraitor trumpsaninternationaldisgrace', 'trumpisatraitor trumpsworsethannixon', 'trumpisatraitor trumptantrum', 'trumpisatraitor trumptreason', 'trumpisatraitor voteblue', 'trumpisatraitor votebluetosaveamerica', 'trumpiscompromised', 'trumpiscompromised delusionaldon', 'trumpisguilty', 'trumpism', 'trumpisnotabovethelaw', 'trumpisnotabovethelaw trumpisatraitor', 'trumpisnotexonerated', 'trumpisracist', 'trumpistheenemyofthepeople', 'trumpistheenemyofthepeople trumpisafraud', 'trumpistheenemyofthepeople trumpisanationalsecuritythreat', 'trumpistheenemyofthepeople trumpisatraitor', 'trumpisunhinged', 'trumplies', 'trumplies trumpisatraitor', 'trumplieseverytimehespeaks', 'trumplieseverytimehespeaks trumpisatraitor', 'trumpliesmatter', 'trumpliesmatter trumpisatraitor', 'trumpliesmatter trumplies', 'trumploser', 'trumpmustgo', 'trumpmustgo trumpmustresign', 'trumpmustresign', 'trumpmustresign johnmccainday', 'trumpmustresign stablegenius', 'trumpmustresign trumpisatraitor', 'trumpmustresign trumpsaninternationaldisgrace', 'trumpnatsecrisk', 'trumpnatsecrisk trumpisatraitor', 'trumpobstructed', 'trumpobstructed indicttrump', 'trumpobstructedjustice', 'trumpobstructedjustice trumpisatraitor', 'trumpobstruction', 'trumpobstruction trumpcorruption', 'trumponeanddone', 'trumponomics', 'trumporganization', 'trumporganization scam', 'trumpprotest', 'trumpprotest trumpsaninternationaldisgrace', 'trumpresign', 'trumpresign trumpisatraitor', 'trumpresign trumptantrum', 'trumpresignnow', 'trumpresignnow trump', 'trumpresignnow trumpisatraitor', 'trumprussia', 'trumprussia notmypresident', 'trumprussia trumpisatraitor', 'trumprussiacollusion', 'trumpsaninternationaldisgrace', 'trumpsaninternationaldisgrace trumpcriminalinvestigations', 'trumpsaninternationaldisgrace trumpisatraitor', 'trumpsaninternationaldisgrace trumpmustresign', 'trumpsaninternationaldisgrace trumpresignnow', 'trumpsaninternationaldisgrace trumpsworsethannixon', 'trumpsconcentrationcamps', 'trumpsconcentrationcamps trumpisatraitor', 'trumpsgottago', 'trumpsucks', 'trumpsunfit', 'trumpsworsethannixon', 'trumpsworsethannixon resignorbeimpeached', 'trumpsworsethannixon trumpisatraitor', 'trumpsworsethannixon trumpmustresign', 'trumpsworsethannixon trumpsaninternationaldisgrace', 'trumpsworsethannixon trumpsunfit', 'trumptantrum', 'trumptantrum trumpisatraitor', 'trumptantrum trumpmustresign', 'trumptax', 'trumptaxscam', 'trumptradewar', 'trumptrain', 'trumptraitor', 'trumptraitor putinspuppet', 'trumptrash', 'trumptreason', 'trumptreason trumpisatraitor', 'trumptreason trumptraitor', 'trumpukvisit', 'trumpworld', 'trumpworld morintoon', 'trust', 'trust people', 'trust poll', 'trusted', 'truth', 'truth trumpisatraitor', 'truthful', 'try', 'try chaudhary', 'try make', 'try organize', 'try soo', 'try start', 'trying', 'trying job', 'trying make', 'trying protect', 'trying take', 'trying walk', 'tshirt', 'tshirts', 'tub', 'tuckfrump', 'tuckfrump trumpisatraitor', 'tuesdaymotivation', 'tukde', 'tukdetukdegang', 'tune', 'tune watch', 'turbine', 'turkestan', 'turkestan second', 'turkistan', 'turkistan freedom', 'turn', 'turn bccis', 'turn cdebate', 'turn debate', 'turn know', 'turn legal', 'turned', 'turning', 'tv', 'tv debate', 'tv watching', 'twat', 'twat dickhead', 'twatwaffle', 'tweet', 'tweet fucktrump', 'tweet keep', 'tweet murderer', 'tweet something', 'tweet trumpisatraitor', 'tweeted', 'tweeting', 'twice', 'twinkle', 'twinkle sharma', 'twinklesharma', 'twinklesharma rapist', 'twit', 'twitter', 'twitter account', 'twitter com', 'twitter instead', 'twitter take', 'twitter trend', 'two', 'two match', 'two people', 'two term', 'two thing', 'two year', 'type', 'type bhikhari', 'typical', 'tyranny', 'tyrant', 'uae', 'ugly', 'uh', 'uk', 'uk citizen', 'uk face', 'uk india', 'uk ireland', 'ukp', 'ukp npa', 'ultimate', 'ultimately', 'ultimatum', 'ultra', 'umbrella', 'umbrella rain', 'umpire', 'umpire poor', 'umpiring', 'umpiring first', 'umpiring focus', 'umpiring ha', 'umpiring system', 'umpiring time', 'umpiring umpiring', 'un', 'unable', 'unacceptable', 'unbeaten', 'unbelievable', 'uncle', 'underneath', 'understand', 'understand fucktrump', 'understand gop', 'understand icc', 'understand related', 'understandable', 'understanding', 'understands', 'understood', 'uneducated', 'unelected', 'unethical', 'unfair', 'unfit', 'unfit incompetent', 'unfitforoffice', 'unfittobepresident', 'unfollow', 'unfollowtrump', 'unfortunate', 'unfortunately', 'unhinged', 'unicorn', 'uniform', 'uniform fucked', 'union', 'unisex', 'unisex anti', 'unisex shirt', 'unite', 'unite country', 'unite votebluenomatterwho', 'uniteblue', 'united', 'united doctorsfightback', 'united kingdom', 'united state', 'unitedstates', 'unity', 'university', 'unleash', 'unleash wrath', 'unless', 'unless use', 'unlike', 'unmindful', 'unnecessarily', 'unnecessary', 'unprecedented', 'unqualified', 'unqualified teacher', 'unstablepresident', 'unstablepresident thamendmentnow', 'unthinkable', 'unthinkable position', 'unwanted', 'upcoming', 'upcoming match', 'update', 'uphold', 'upon', 'upon icc', 'upper', 'upset', 'upto', 'ur', 'ur regular', 'uranium', 'urge', 'urge proud', 'urgent', 'us', 'us word', 'usa', 'usa america', 'usa ha', 'usa video', 'usd', 'use', 'use cover', 'use help', 'use power', 'use tool', 'use word', 'used', 'used celebrate', 'useless', 'useless campaign', 'user', 'using', 'using balidaan', 'using filthy', 'using gandinaaliabuse', 'using hashtag', 'using trump', 'usual', 'usually', 'uttarpradesh', 'utter', 'uttered', 'utterly', 'uyghur', 'uyghur freeuyghur', 'uyghur protest', 'uyghurgenocide', 'uyghurs', 'uyghurs freeuyghur', 'uyhgur', 'uyhgur pleasehelp', 'vacation', 'vacation barcrawl', 'vacation erictrump', 'vaccine', 'valid', 'value', 'vancouver', 'vanished', 'vanished element', 'various', 'vast', 'vegan', 'vendetta', 'vendetta preciate', 'venezuela', 'venture', 'venture land', 'venue', 'venue apologise', 'venue instead', 'venue london', 'venue rain', 'venue shameonicc', 'verminous', 'version', 'vet', 'vet homeless', 'veteran', 'veteransagainsttrump', 'vetsagainsttrump', 'vetting', 'vetting system', 'via', 'via fucktrump', 'viable', 'vibe', 'victim', 'victim also', 'victim get', 'victory', 'victory ausvind', 'victory hand', 'video', 'video also', 'video oral', 'video pic', 'video proof', 'video xx', 'vietnam', 'view', 'viewer', 'vigilant', 'vigilant choosing', 'vile', 'village', 'villageidiot', 'villageidiot byefelicia', 'violate', 'violates', 'violating', 'violating hatch', 'violating rule', 'violation', 'violation rule', 'violence', 'violence close', 'violence doctor', 'violence junior', 'violence wearing', 'violenceagainstdoctors', 'violent', 'viral', 'viral photo', 'virat', 'viratkohli', 'virginia', 'virus', 'vision', 'visit', 'visitation', 'visitation child', 'viva', 'vlad', 'vladimir', 'vladimir putin', 'voice', 'voilence', 'voltage', 'voltage mck', 'volunteer', 'volunteering', 'vomit', 'vomit trump', 'vomit trumpisatraitor', 'vope', 'vote', 'vote bank', 'vote borisjohnsonshouldnotbepm', 'vote democrat', 'vote johnson', 'vote man', 'vote repeal', 'vote trump', 'votebank', 'voteblue', 'voteblue fucktrump', 'voteblue impeachthemf', 'votebluenomatterwho', 'votebluenomatterwho simple', 'votebluenomatterwho trumpisatraitor', 'votebluenomatterwho votebluetosaveamerica', 'votebluetoendthisnightmare', 'votebluetosaveamerica', 'votebluetosaveamerica flipthesenate', 'votebluetosaveamerica resistance', 'votebluetosaveamerica trumpisatraitor', 'voted', 'voted trump', 'voteoutgop', 'voter', 'voter screw', 'voting', 'voting machine', 'vox', 'vox sentence', 'wa', 'wa actually', 'wa allowed', 'wa also', 'wa always', 'wa arrested', 'wa back', 'wa beaten', 'wa born', 'wa completely', 'wa concerned', 'wa covered', 'wa douchebag', 'wa exposed', 'wa first', 'wa forced', 'wa found', 'wa given', 'wa going', 'wa happening', 'wa important', 'wa indian', 'wa installed', 'wa jailed', 'wa pissing', 'wa playing', 'wa potus', 'wa pretty', 'wa released', 'wa right', 'wa still', 'wa supposed', 'wa taken', 'wa talking', 'wa thing', 'wa true', 'wa working', 'wa wrong', 'wa year', 'wage', 'wagthedog', 'wagthedog trumpsconcentrationcamps', 'wait', 'wait fucktrump', 'wait year', 'waited', 'waited four', 'waited year', 'waiting', 'waiting year', 'wake', 'wakeupamerica', 'waking', 'wale', 'walk', 'walk back', 'walk medical', 'walked', 'walked nrs', 'walker', 'walking', 'wall', 'wall could', 'wall fucktrump', 'wan', 'wan na', 'wannabe', 'wannabe suck', 'want', 'want dhoni', 'want explain', 'want freedom', 'want give', 'want go', 'want justice', 'want know', 'want make', 'want money', 'want pm', 'want protect', 'want safe', 'want see', 'want send', 'want something', 'want spend', 'want unite', 'want victory', 'wanted', 'wanting', 'wapo', 'war', 'war distract', 'war fucktrump', 'war hero', 'war iran', 'war monger', 'war trump', 'war trumpisatraitor', 'warfare', 'warfare operation', 'waris', 'waris pathan', 'warned', 'warner', 'warning', 'warning wa', 'warren', 'warrior', 'wash', 'washed', 'washed away', 'washed due', 'washed match', 'washed nz', 'washed rain', 'washed shameonicc', 'washing', 'washington', 'washington post', 'washout', 'washout shameonicc', 'washoutworldcup', 'washoutworldcup shameonicc', 'wasnt', 'waste', 'waste bengal', 'waste money', 'waste time', 'wasted', 'wasted shameonicc', 'wasting', 'wasting time', 'wat', 'watch', 'watch cricket', 'watch doctorsfightback', 'watch indvsnz', 'watch like', 'watch live', 'watch rain', 'watch see', 'watch video', 'watch world', 'watched', 'watching', 'watching cricket', 'watching old', 'watching tv', 'watchout', 'watchout fake', 'water', 'wave', 'way', 'way could', 'way dhonikeepstheglove', 'way doctorsfightback', 'way double', 'way fucktrump', 'way get', 'way go', 'way like', 'way protest', 'way serious', 'way shameonicc', 'way show', 'way stop', 'way support', 'way trumpisatraitor', 'wb', 'wc', 'wc india', 'wc match', 'wc trophy', 'wcwithtimes', 'weak', 'wealthy', 'weapon', 'wear', 'wear army', 'wear balidaan', 'wear balidaanbadge', 'wear balidan', 'wear glove', 'wear logo', 'wear military', 'wear poppy', 'wear pride', 'wear shirt', 'wearenotok', 'wearenotok trumpmustgo', 'wearing', 'wearing army', 'wearing balidaanbadge', 'wearing black', 'wearing glove', 'wearing helmet', 'wearing insignia', 'wearing thin', 'weaselheadedfucknugget', 'weaselheadedfucknugget shutyourshithole', 'weather', 'weather cloud', 'weather condition', 'weather forecast', 'weather putting', 'weather shameonicc', 'wednesday', 'wednesdaywisdom', 'weed', 'week', 'week ago', 'weekend', 'weekend fucktrump', 'weird', 'welcome', 'welcome russian', 'welcome trumpworld', 'welcomed', 'welfare', 'well', 'well dickhead', 'well done', 'well hurtle', 'well maybe', 'well organized', 'well planned', 'well said', 'well wa', 'well world', 'wembley', 'wen', 'went', 'went strike', 'wept', 'werent', 'west', 'west bengal', 'west indie', 'westandwithdhoni', 'westandwithnrsmch', 'westbengal', 'westbengal bengaldoctorsstrike', 'westbengal doctorsfightback', 'westbengal govt', 'wet', 'wet outfield', 'wethenorth', 'wethenorth instagramdown', 'weve', 'wh', 'whale', 'whatever', 'whatever possible', 'whatever want', 'whats', 'whats happening', 'whats point', 'whats right', 'whats use', 'whats wrong', 'whatspissingmeofftoday', 'whatspissingmeofftoday wpmot', 'whenthemoneyrunsupyouwillbeforgotte', 'whenthemoneyrunsupyouwillbeforgotte nascar', 'whentheyseeus', 'whereisboris', 'wheres', 'wheres boris', 'wheres eric', 'wheresboris', 'wheresboris borisjohnsonshouldnotbepm', 'whereswally', 'whether', 'whichever', 'whilst', 'whiny', 'whip', 'whistlepodu', 'whistlepodu yellove', 'white', 'white coat', 'white house', 'white men', 'white nationalist', 'white supremacist', 'whitehouse', 'whoever', 'whole', 'whole country', 'whole ground', 'whole life', 'whole world', 'whore', 'whoremonger', 'whoremonger liarinchief', 'whose', 'wht', 'wi', 'wi sl', 'wicket', 'wicket keeping', 'wicket shameonicc', 'wicketkeepers', 'wicketkeepers glove', 'wid', 'wide', 'wide demonstration', 'wider', 'wife', 'wife child', 'wife pleads', 'wikileaks', 'wilbur', 'wilbur ross', 'wild', 'willing', 'willing anything', 'wilson', 'wimp', 'win', 'win cricketworldcup', 'win cwc', 'win election', 'win jointly', 'win next', 'win today', 'win world', 'wind', 'wing', 'winner', 'winner popular', 'winner rain', 'winning', 'winning cricket', 'winning election', 'winter', 'wipe', 'wiped', 'wire', 'wireless', 'wisconsin', 'wisconsin biden', 'wish', 'wish happy', 'wish obama', 'wish would', 'wishing', 'witch', 'withdraw', 'withdrawing', 'within', 'within hour', 'without', 'without ball', 'without fault', 'without logo', 'without permission', 'without proper', 'without security', 'witness', 'witnessing', 'wiveng', 'wivseng', 'woman', 'woman guy', 'woman nothing', 'womb', 'womenempowerment', 'womensrights', 'womensrightsarehumanrights', 'wonder', 'wonderful', 'wondering', 'wont', 'wont call', 'wont even', 'wont get', 'wont help', 'wont know', 'wont leave', 'wont stop', 'wont win', 'wood', 'word', 'word love', 'word trumpisatraitor', 'word word', 'wore', 'work', 'work dedication', 'work douchebag', 'work hard', 'work like', 'work really', 'work trump', 'worked', 'worked hard', 'worker', 'working', 'working class', 'working like', 'workplace', 'workplace safety', 'workspace', 'world', 'world another', 'world biggest', 'world borisjohnsonshouldnotbepm', 'world call', 'world class', 'world cricket', 'world cup', 'world doesnt', 'world dont', 'world fucktrump', 'world great', 'world ha', 'world know', 'world map', 'world need', 'world shame', 'world wide', 'worldblooddonorday', 'worldblooddonorday nbafinals', 'worldblooddonorday shameonicc', 'worldcup', 'worldcup balidaanbadge', 'worldcup cricketworldcup', 'worldcup dhonikeepstheglove', 'worldcup game', 'worldcup iccraincup', 'worldcup indvaus', 'worldcup match', 'worldcup shameonicc', 'worldcup worldcup', 'worldelderabuseawarenessday', 'worldwide', 'worldwide defying', 'worldwide news', 'worn', 'worried', 'worry', 'worrying', 'worse', 'worse trumpisatraitor', 'worst', 'worst cricket', 'worst management', 'worst part', 'worst potus', 'worst president', 'worst traitor', 'worst world', 'worstpresidentever', 'worstpresidentever celebrates', 'worstpresidentever trumpisatraitor', 'worstpresidentever weaselheadedfucknugget', 'worstpresidentinhistory', 'worth', 'worth amount', 'worthless', 'worthy', 'would', 'would accept', 'would beat', 'would better', 'would break', 'would gladly', 'would go', 'would good', 'would happen', 'would irresponsible', 'would know', 'would like', 'would listen', 'would love', 'would make', 'would never', 'would prefer', 'would say', 'would show', 'would support', 'would take', 'would tell', 'would want', 'wouldnt', 'wouldnt make', 'wouldnt trust', 'wouldnt want', 'wouldve', 'wow', 'wow amazing', 'wow really', 'wpmot', 'wrap', 'wrath', 'wrath upon', 'write', 'writer', 'writes', 'writing', 'writing letter', 'writing something', 'written', 'wrong', 'wrong decision', 'wrong dhonikeepstheglove', 'wrong thing', 'wrost', 'wrote', 'wtf', 'wtfiswrongwithyou', 'wtfiswrongwithyou takethatdamnphoneawayhim', 'wth', 'wwessd', 'wwessd dhonikeepstheglove', 'wwii', 'xi', 'xx', 'xx dating', 'ya', 'ya think', 'yaa', 'yall', 'yamdut', 'yamdut worldcup', 'yard', 'yasin', 'yasin malik', 'yay', 'ye', 'yeah', 'yeah fuckdelhipolice', 'yeah fucktrump', 'yeah im', 'yeah right', 'year', 'year ago', 'year brdoxygentragedy', 'year cupcake', 'year first', 'year fucktrump', 'year grand', 'year ha', 'year hiding', 'year lease', 'year old', 'year see', 'year th', 'year time', 'year vigilant', 'year watch', 'year witness', 'year year', 'yeh', 'yellove', 'yellow', 'yellow journalism', 'yep', 'yes', 'yes doe', 'yes going', 'yes hk', 'yes think', 'yesterday', 'yesterday match', 'yet', 'yet already', 'yet america', 'yet cant', 'yet get', 'yet im', 'yet murderer', 'yo', 'yoga', 'yogi', 'yogi adityanath', 'york', 'york time', 'youd', 'youll', 'young', 'youre', 'youre busy', 'youre delusional', 'youre dickhead', 'youre done', 'youre finally', 'youre getting', 'youre going', 'youre guilty', 'youre piece', 'youre right', 'yourquote', 'yousuck', 'yousuck liarinchief', 'youth', 'youth league', 'youtube', 'youtubes', 'youve', 'youve made', 'yr', 'yr never', 'yr old', 'yulindogmeatfestival', 'yulinfestival', 'yulinfestival enddcmt', 'yup', 'yuvrajsingh', 'zeenews', 'zero', 'zero come', 'zero even', 'zero interest', 'zero tolerance']\n"
          ],
          "name": "stdout"
        }
      ]
    },
    {
      "cell_type": "markdown",
      "metadata": {
        "id": "D9FyCRJK_k5S",
        "colab_type": "text"
      },
      "source": [
        "## creating train,validation splits"
      ]
    },
    {
      "cell_type": "code",
      "metadata": {
        "id": "0It06m06GRKE",
        "colab_type": "code",
        "cellView": "form",
        "colab": {}
      },
      "source": [
        "#@title\n",
        "from sklearn.model_selection import train_test_split\n",
        "X_data,X_val,y_train,y_val=train_test_split(X_d,y,test_size=0.25,random_state=1)"
      ],
      "execution_count": 0,
      "outputs": []
    },
    {
      "cell_type": "markdown",
      "metadata": {
        "id": "XoaonqPs_zOD",
        "colab_type": "text"
      },
      "source": [
        "## Model building"
      ]
    },
    {
      "cell_type": "markdown",
      "metadata": {
        "id": "VySp1IsfAFa3",
        "colab_type": "text"
      },
      "source": [
        "Experimented with-\n",
        "* Logistic regrssion\n",
        "* Decision trees\n",
        "* K neighbors classifier (tried for k from 1 to 100)\n",
        "* SVM"
      ]
    },
    {
      "cell_type": "code",
      "metadata": {
        "id": "A18RzYSOLvm_",
        "colab_type": "code",
        "outputId": "b0cef82d-61c5-48c3-9f75-2f216e72d82b",
        "cellView": "form",
        "colab": {
          "base_uri": "https://localhost:8080/",
          "height": 379
        }
      },
      "source": [
        "#@title\n",
        "import pandas\n",
        "import matplotlib.pyplot as plt\n",
        "from sklearn import model_selection\n",
        "from sklearn.linear_model import LogisticRegression\n",
        "from sklearn.tree import DecisionTreeClassifier\n",
        "from sklearn.neighbors import KNeighborsClassifier\n",
        "from sklearn.naive_bayes import MultinomialNB\n",
        "from sklearn.svm import SVC\n",
        "\n",
        "\n",
        "# prepare models\n",
        "models = []\n",
        "models.append(('Logistic Regression', LogisticRegression(C=1,max_iter=1000)))\n",
        "models.append(('K neighest neighbors', KNeighborsClassifier(n_neighbors=100)))\n",
        "models.append(('CART', DecisionTreeClassifier()))\n",
        "models.append(('Naive bayes', MultinomialNB()))\n",
        "models.append(('SVM', SVC(C=1)))\n",
        "# evaluate each model in turn\n",
        "results = []\n",
        "names = []\n",
        "scoring = 'f1'\n",
        "for name, model in models:\n",
        "\tkfold = model_selection.KFold(n_splits=10)\n",
        "\tcv_results = model_selection.cross_val_score(model, X_d, y, cv=kfold, scoring=scoring)\n",
        "\tresults.append(cv_results)\n",
        "\tnames.append(name)\n",
        "\tmsg = \"%s: %f (%f)\" % (name, cv_results.mean(), cv_results.std())\n",
        "\tprint(msg)\n",
        "# boxplot algorithm comparison\n",
        "fig = plt.figure()\n",
        "fig.suptitle('Algorithm Comparison')\n",
        "ax = fig.add_subplot(111)\n",
        "plt.boxplot(results)\n",
        "ax.set_xticklabels(names)\n",
        "plt.show()"
      ],
      "execution_count": 0,
      "outputs": [
        {
          "output_type": "stream",
          "text": [
            "Logistic Regression: 0.767802 (0.020657)\n",
            "K neighest neighbors: 0.766856 (0.021499)\n",
            "CART: 0.694287 (0.018453)\n",
            "Naive bayes: 0.758801 (0.025233)\n",
            "SVM: 0.769061 (0.022927)\n"
          ],
          "name": "stdout"
        },
        {
          "output_type": "display_data",
          "data": {
            "image/png": "[encoded data removed]",
            "text/plain": [
              "<Figure size 432x288 with 1 Axes>"
            ]
          },
          "metadata": {
            "tags": [],
            "needs_background": "light"
          }
        }
      ]
    },
    {
      "cell_type": "markdown",
      "metadata": {
        "id": "tcySnasqlzSw",
        "colab_type": "text"
      },
      "source": [
        "SVM is giving better baseline performance so we will test svm by tuning its parameters "
      ]
    },
    {
      "cell_type": "markdown",
      "metadata": {
        "id": "Lh2LpCgamMNN",
        "colab_type": "text"
      },
      "source": [
        "Performed Stratified shuffle split which preserve the folds are made by preserving the percentage of samples for each class.\n",
        "\n",
        "Performed grid search cv which returns the best performing parameters"
      ]
    },
    {
      "cell_type": "code",
      "metadata": {
        "id": "rWK2KgU8KmqL",
        "colab_type": "code",
        "outputId": "0b8da5c1-059f-46e8-a626-9b563b6e9bfd",
        "cellView": "form",
        "colab": {
          "base_uri": "https://localhost:8080/",
          "height": 105
        }
      },
      "source": [
        "#@title\n",
        "from sklearn.metrics import accuracy_score,f1_score\n",
        "from sklearn.metrics import make_scorer\n",
        "from sklearn.model_selection import StratifiedShuffleSplit\n",
        "from sklearn.model_selection import train_test_split\n",
        "from sklearn.svm import SVC\n",
        "from sklearn.metrics import confusion_matrix\n",
        "from sklearn.model_selection import validation_curve\n",
        "from sklearn.model_selection import KFold\n",
        "from sklearn.model_selection import cross_val_score\n",
        "from sklearn.model_selection import GridSearchCV\n",
        "\n",
        "scoring = {'accuracy': make_scorer(accuracy_score),'f1': make_scorer(f1_score)}\n",
        "\n",
        "folds = StratifiedShuffleSplit(n_splits=5, random_state=0)\n",
        "# specify range of hyperparameters\n",
        "# Set the parameters by cross-validation\n",
        "hyper_params = [ {'gamma': ['scale'],'kernel':['rbf','sigmoid'],\n",
        "                     'C': [0.5,0.8,1]}]\n",
        "\n",
        "\n",
        "# specify model\n",
        "model = SVC(cache_size=1000)\n",
        "\n",
        "# set up GridSearchCV()\n",
        "model_cv = GridSearchCV(estimator = model,\n",
        "                        refit='f1', \n",
        "                        param_grid = hyper_params, \n",
        "                        scoring= scoring,\n",
        "                        cv = folds, \n",
        "                        verbose = True,\n",
        "                        return_train_score=True,n_jobs=-1)         \n",
        "\n",
        "# fit the model\n",
        "model_cv.fit(X_d, y)\n",
        "\n",
        "#next cell\n",
        "cv_results = pd.DataFrame(model_cv.cv_results_)\n",
        "cv_results\n",
        "\n",
        "#next cell\n",
        "# printing the optimal accuracy score and hyperparameters\n",
        "best_score = model_cv.best_score_\n",
        "best_hyperparams = model_cv.best_params_\n",
        "\n",
        "#next cell\n",
        "print(\"The best test score is {0} corresponding to hyperparameters {1}\".format(best_score, best_hyperparams))"
      ],
      "execution_count": 0,
      "outputs": [
        {
          "output_type": "stream",
          "text": [
            "Fitting 5 folds for each of 6 candidates, totalling 30 fits\n"
          ],
          "name": "stdout"
        },
        {
          "output_type": "stream",
          "text": [
            "[Parallel(n_jobs=-1)]: Using backend LokyBackend with 2 concurrent workers.\n",
            "[Parallel(n_jobs=-1)]: Done  30 out of  30 | elapsed:  2.6min finished\n"
          ],
          "name": "stderr"
        },
        {
          "output_type": "stream",
          "text": [
            "The best test score is 0.7832481006398921 corresponding to hyperparameters {'C': 0.5, 'gamma': 'scale', 'kernel': 'sigmoid'}\n"
          ],
          "name": "stdout"
        }
      ]
    },
    {
      "cell_type": "code",
      "metadata": {
        "id": "LvlnPGkoPNp0",
        "colab_type": "code",
        "outputId": "daead3b9-7f0d-40fa-f825-5dd185c0d48d",
        "cellView": "both",
        "colab": {
          "base_uri": "https://localhost:8080/",
          "height": 663
        }
      },
      "source": [
        "#@title\n",
        "pd.set_option('max_rows', 200)\n",
        "cv_results = pd.DataFrame(model_cv.cv_results_)\n",
        "cv_results\n"
      ],
      "execution_count": 0,
      "outputs": [
        {
          "output_type": "execute_result",
          "data": {
            "text/html": [
              "<div>\n",
              "<style scoped>\n",
              "    .dataframe tbody tr th:only-of-type {\n",
              "        vertical-align: middle;\n",
              "    }\n",
              "\n",
              "    .dataframe tbody tr th {\n",
              "        vertical-align: top;\n",
              "    }\n",
              "\n",
              "    .dataframe thead th {\n",
              "        text-align: right;\n",
              "    }\n",
              "</style>\n",
              "<table border=\"1\" class=\"dataframe\">\n",
              "  <thead>\n",
              "    <tr style=\"text-align: right;\">\n",
              "      <th></th>\n",
              "      <th>mean_fit_time</th>\n",
              "      <th>std_fit_time</th>\n",
              "      <th>mean_score_time</th>\n",
              "      <th>std_score_time</th>\n",
              "      <th>param_C</th>\n",
              "      <th>param_gamma</th>\n",
              "      <th>param_kernel</th>\n",
              "      <th>params</th>\n",
              "      <th>split0_test_accuracy</th>\n",
              "      <th>split1_test_accuracy</th>\n",
              "      <th>split2_test_accuracy</th>\n",
              "      <th>split3_test_accuracy</th>\n",
              "      <th>split4_test_accuracy</th>\n",
              "      <th>mean_test_accuracy</th>\n",
              "      <th>std_test_accuracy</th>\n",
              "      <th>rank_test_accuracy</th>\n",
              "      <th>split0_train_accuracy</th>\n",
              "      <th>split1_train_accuracy</th>\n",
              "      <th>split2_train_accuracy</th>\n",
              "      <th>split3_train_accuracy</th>\n",
              "      <th>split4_train_accuracy</th>\n",
              "      <th>mean_train_accuracy</th>\n",
              "      <th>std_train_accuracy</th>\n",
              "      <th>split0_test_f1</th>\n",
              "      <th>split1_test_f1</th>\n",
              "      <th>split2_test_f1</th>\n",
              "      <th>split3_test_f1</th>\n",
              "      <th>split4_test_f1</th>\n",
              "      <th>mean_test_f1</th>\n",
              "      <th>std_test_f1</th>\n",
              "      <th>rank_test_f1</th>\n",
              "      <th>split0_train_f1</th>\n",
              "      <th>split1_train_f1</th>\n",
              "      <th>split2_train_f1</th>\n",
              "      <th>split3_train_f1</th>\n",
              "      <th>split4_train_f1</th>\n",
              "      <th>mean_train_f1</th>\n",
              "      <th>std_train_f1</th>\n",
              "    </tr>\n",
              "  </thead>\n",
              "  <tbody>\n",
              "    <tr>\n",
              "      <th>0</th>\n",
              "      <td>5.838935</td>\n",
              "      <td>0.063721</td>\n",
              "      <td>0.584505</td>\n",
              "      <td>0.013734</td>\n",
              "      <td>0.5</td>\n",
              "      <td>scale</td>\n",
              "      <td>rbf</td>\n",
              "      <td>{'C': 0.5, 'gamma': 'scale', 'kernel': 'rbf'}</td>\n",
              "      <td>0.637571</td>\n",
              "      <td>0.641366</td>\n",
              "      <td>0.626186</td>\n",
              "      <td>0.641366</td>\n",
              "      <td>0.626186</td>\n",
              "      <td>0.634535</td>\n",
              "      <td>0.006956</td>\n",
              "      <td>6</td>\n",
              "      <td>0.713020</td>\n",
              "      <td>0.705845</td>\n",
              "      <td>0.714286</td>\n",
              "      <td>0.707111</td>\n",
              "      <td>0.714497</td>\n",
              "      <td>0.710952</td>\n",
              "      <td>0.003709</td>\n",
              "      <td>0.771804</td>\n",
              "      <td>0.773653</td>\n",
              "      <td>0.765755</td>\n",
              "      <td>0.774194</td>\n",
              "      <td>0.765197</td>\n",
              "      <td>0.770120</td>\n",
              "      <td>0.003878</td>\n",
              "      <td>5</td>\n",
              "      <td>0.810321</td>\n",
              "      <td>0.806550</td>\n",
              "      <td>0.810999</td>\n",
              "      <td>0.807169</td>\n",
              "      <td>0.811165</td>\n",
              "      <td>0.809241</td>\n",
              "      <td>0.001975</td>\n",
              "    </tr>\n",
              "    <tr>\n",
              "      <th>1</th>\n",
              "      <td>4.687108</td>\n",
              "      <td>0.024674</td>\n",
              "      <td>0.448865</td>\n",
              "      <td>0.001914</td>\n",
              "      <td>0.5</td>\n",
              "      <td>scale</td>\n",
              "      <td>sigmoid</td>\n",
              "      <td>{'C': 0.5, 'gamma': 'scale', 'kernel': 'sigmoid'}</td>\n",
              "      <td>0.679317</td>\n",
              "      <td>0.681214</td>\n",
              "      <td>0.669829</td>\n",
              "      <td>0.702087</td>\n",
              "      <td>0.658444</td>\n",
              "      <td>0.678178</td>\n",
              "      <td>0.014431</td>\n",
              "      <td>3</td>\n",
              "      <td>0.737919</td>\n",
              "      <td>0.734754</td>\n",
              "      <td>0.739185</td>\n",
              "      <td>0.736864</td>\n",
              "      <td>0.744672</td>\n",
              "      <td>0.738679</td>\n",
              "      <td>0.003330</td>\n",
              "      <td>0.784163</td>\n",
              "      <td>0.784615</td>\n",
              "      <td>0.777494</td>\n",
              "      <td>0.798976</td>\n",
              "      <td>0.770992</td>\n",
              "      <td>0.783248</td>\n",
              "      <td>0.009310</td>\n",
              "      <td>1</td>\n",
              "      <td>0.820260</td>\n",
              "      <td>0.818798</td>\n",
              "      <td>0.820870</td>\n",
              "      <td>0.819876</td>\n",
              "      <td>0.824179</td>\n",
              "      <td>0.820797</td>\n",
              "      <td>0.001821</td>\n",
              "    </tr>\n",
              "    <tr>\n",
              "      <th>2</th>\n",
              "      <td>5.796363</td>\n",
              "      <td>0.037190</td>\n",
              "      <td>0.591920</td>\n",
              "      <td>0.012190</td>\n",
              "      <td>0.8</td>\n",
              "      <td>scale</td>\n",
              "      <td>rbf</td>\n",
              "      <td>{'C': 0.8, 'gamma': 'scale', 'kernel': 'rbf'}</td>\n",
              "      <td>0.675522</td>\n",
              "      <td>0.677419</td>\n",
              "      <td>0.641366</td>\n",
              "      <td>0.677419</td>\n",
              "      <td>0.658444</td>\n",
              "      <td>0.666034</td>\n",
              "      <td>0.014250</td>\n",
              "      <td>5</td>\n",
              "      <td>0.910530</td>\n",
              "      <td>0.912429</td>\n",
              "      <td>0.917493</td>\n",
              "      <td>0.914328</td>\n",
              "      <td>0.912218</td>\n",
              "      <td>0.913399</td>\n",
              "      <td>0.002375</td>\n",
              "      <td>0.785445</td>\n",
              "      <td>0.787500</td>\n",
              "      <td>0.763454</td>\n",
              "      <td>0.785354</td>\n",
              "      <td>0.776119</td>\n",
              "      <td>0.779575</td>\n",
              "      <td>0.008972</td>\n",
              "      <td>3</td>\n",
              "      <td>0.931877</td>\n",
              "      <td>0.933269</td>\n",
              "      <td>0.936885</td>\n",
              "      <td>0.934537</td>\n",
              "      <td>0.933119</td>\n",
              "      <td>0.933937</td>\n",
              "      <td>0.001698</td>\n",
              "    </tr>\n",
              "    <tr>\n",
              "      <th>3</th>\n",
              "      <td>4.695169</td>\n",
              "      <td>0.028619</td>\n",
              "      <td>0.438231</td>\n",
              "      <td>0.004734</td>\n",
              "      <td>0.8</td>\n",
              "      <td>scale</td>\n",
              "      <td>sigmoid</td>\n",
              "      <td>{'C': 0.8, 'gamma': 'scale', 'kernel': 'sigmoid'}</td>\n",
              "      <td>0.692600</td>\n",
              "      <td>0.703985</td>\n",
              "      <td>0.666034</td>\n",
              "      <td>0.702087</td>\n",
              "      <td>0.652751</td>\n",
              "      <td>0.683491</td>\n",
              "      <td>0.020486</td>\n",
              "      <td>1</td>\n",
              "      <td>0.791728</td>\n",
              "      <td>0.791306</td>\n",
              "      <td>0.796793</td>\n",
              "      <td>0.793416</td>\n",
              "      <td>0.795315</td>\n",
              "      <td>0.793712</td>\n",
              "      <td>0.002091</td>\n",
              "      <td>0.781671</td>\n",
              "      <td>0.791444</td>\n",
              "      <td>0.762803</td>\n",
              "      <td>0.786974</td>\n",
              "      <td>0.757616</td>\n",
              "      <td>0.776102</td>\n",
              "      <td>0.013440</td>\n",
              "      <td>4</td>\n",
              "      <td>0.849520</td>\n",
              "      <td>0.849399</td>\n",
              "      <td>0.852187</td>\n",
              "      <td>0.850054</td>\n",
              "      <td>0.851863</td>\n",
              "      <td>0.850604</td>\n",
              "      <td>0.001185</td>\n",
              "    </tr>\n",
              "    <tr>\n",
              "      <th>4</th>\n",
              "      <td>5.633044</td>\n",
              "      <td>0.023773</td>\n",
              "      <td>0.585415</td>\n",
              "      <td>0.005356</td>\n",
              "      <td>1</td>\n",
              "      <td>scale</td>\n",
              "      <td>rbf</td>\n",
              "      <td>{'C': 1, 'gamma': 'scale', 'kernel': 'rbf'}</td>\n",
              "      <td>0.685009</td>\n",
              "      <td>0.681214</td>\n",
              "      <td>0.662239</td>\n",
              "      <td>0.702087</td>\n",
              "      <td>0.664137</td>\n",
              "      <td>0.678937</td>\n",
              "      <td>0.014669</td>\n",
              "      <td>2</td>\n",
              "      <td>0.962439</td>\n",
              "      <td>0.960118</td>\n",
              "      <td>0.960962</td>\n",
              "      <td>0.962439</td>\n",
              "      <td>0.961384</td>\n",
              "      <td>0.961469</td>\n",
              "      <td>0.000891</td>\n",
              "      <td>0.782723</td>\n",
              "      <td>0.781250</td>\n",
              "      <td>0.768831</td>\n",
              "      <td>0.795839</td>\n",
              "      <td>0.771613</td>\n",
              "      <td>0.780051</td>\n",
              "      <td>0.009538</td>\n",
              "      <td>2</td>\n",
              "      <td>0.970204</td>\n",
              "      <td>0.968410</td>\n",
              "      <td>0.969089</td>\n",
              "      <td>0.970194</td>\n",
              "      <td>0.969424</td>\n",
              "      <td>0.969464</td>\n",
              "      <td>0.000683</td>\n",
              "    </tr>\n",
              "    <tr>\n",
              "      <th>5</th>\n",
              "      <td>4.666066</td>\n",
              "      <td>0.045610</td>\n",
              "      <td>0.435503</td>\n",
              "      <td>0.010231</td>\n",
              "      <td>1</td>\n",
              "      <td>scale</td>\n",
              "      <td>sigmoid</td>\n",
              "      <td>{'C': 1, 'gamma': 'scale', 'kernel': 'sigmoid'}</td>\n",
              "      <td>0.671727</td>\n",
              "      <td>0.709677</td>\n",
              "      <td>0.654649</td>\n",
              "      <td>0.692600</td>\n",
              "      <td>0.650854</td>\n",
              "      <td>0.675901</td>\n",
              "      <td>0.022433</td>\n",
              "      <td>4</td>\n",
              "      <td>0.812197</td>\n",
              "      <td>0.812197</td>\n",
              "      <td>0.816206</td>\n",
              "      <td>0.817050</td>\n",
              "      <td>0.815151</td>\n",
              "      <td>0.814560</td>\n",
              "      <td>0.002021</td>\n",
              "      <td>0.762036</td>\n",
              "      <td>0.790698</td>\n",
              "      <td>0.747922</td>\n",
              "      <td>0.775623</td>\n",
              "      <td>0.750000</td>\n",
              "      <td>0.765256</td>\n",
              "      <td>0.016114</td>\n",
              "      <td>6</td>\n",
              "      <td>0.861500</td>\n",
              "      <td>0.861154</td>\n",
              "      <td>0.864055</td>\n",
              "      <td>0.864213</td>\n",
              "      <td>0.863168</td>\n",
              "      <td>0.862818</td>\n",
              "      <td>0.001273</td>\n",
              "    </tr>\n",
              "  </tbody>\n",
              "</table>\n",
              "</div>"
            ],
            "text/plain": [
              "   mean_fit_time  std_fit_time  ...  mean_train_f1  std_train_f1\n",
              "0       5.838935      0.063721  ...       0.809241      0.001975\n",
              "1       4.687108      0.024674  ...       0.820797      0.001821\n",
              "2       5.796363      0.037190  ...       0.933937      0.001698\n",
              "3       4.695169      0.028619  ...       0.850604      0.001185\n",
              "4       5.633044      0.023773  ...       0.969464      0.000683\n",
              "5       4.666066      0.045610  ...       0.862818      0.001273\n",
              "\n",
              "[6 rows x 38 columns]"
            ]
          },
          "metadata": {
            "tags": []
          },
          "execution_count": 22
        }
      ]
    },
    {
      "cell_type": "markdown",
      "metadata": {
        "id": "B0s9VbXNm7h1",
        "colab_type": "text"
      },
      "source": [
        "Sigmoid kernel with C=1 and gamma = scale gave the best performance"
      ]
    },
    {
      "cell_type": "code",
      "metadata": {
        "id": "Dsy3Bk6bnRE9",
        "colab_type": "code",
        "outputId": "26aabb1e-dbfb-4620-f3e7-1bd5455637af",
        "cellView": "form",
        "colab": {
          "base_uri": "https://localhost:8080/",
          "height": 221
        }
      },
      "source": [
        "#@title\n",
        "from sklearn.svm import SVC\n",
        "# model with optimal hyperparameters\n",
        "from sklearn import metrics\n",
        "from sklearn.metrics import confusion_matrix\n",
        "# model\n",
        "model = SVC(C=0.5, kernel=\"sigmoid\")\n",
        "\n",
        "model.fit(X_data, y_train)\n",
        "y_pred = model.predict(X_val)\n",
        "\n",
        "# metrics\n",
        "y_true=y_val\n",
        "print(\"f1_score\", metrics.f1_score(y_true, y_pred), \"\\n\")\n",
        "print(\"accuracy\", metrics.accuracy_score(y_true, y_pred), \"\\n\")\n",
        "print(\"precision\", metrics.precision_score(y_true, y_pred), \"\\n\")\n",
        "print(\"recall\", metrics.precision_score(y_true, y_pred), \"\\n\")\n",
        "tn, fp, fn, tp = metrics.confusion_matrix(y_true,y_pred).ravel()\n",
        "print(\"non hate but falsely predicted hate:\",fn)\n",
        "print(\"non hate and Truely predicted non hate:\",tp)\n",
        "print(\"hate and falsely predicted non hate:\",fp)\n",
        "print(\"hate and Truely predicted hate:\",tn)\n"
      ],
      "execution_count": 0,
      "outputs": [
        {
          "output_type": "stream",
          "text": [
            "f1_score 0.7806096951524238 \n",
            "\n",
            "accuracy 0.6666666666666666 \n",
            "\n",
            "precision 0.6563025210084034 \n",
            "\n",
            "recall 0.6563025210084034 \n",
            "\n",
            "non hate but falsely predicted hate: 30\n",
            "non hate and Truely predicted non hate: 781\n",
            "hate and falsely predicted non hate: 409\n",
            "hate and Truely predicted hate: 97\n"
          ],
          "name": "stdout"
        }
      ]
    },
    {
      "cell_type": "code",
      "metadata": {
        "id": "G00M5toMXRza",
        "colab_type": "code",
        "cellView": "form",
        "colab": {}
      },
      "source": [
        "#@title\n",
        "model.fit(X_d, y)\n",
        "y_pred = model.predict(X_te)"
      ],
      "execution_count": 0,
      "outputs": []
    },
    {
      "cell_type": "code",
      "metadata": {
        "id": "D9PDpsRxocVI",
        "colab_type": "code",
        "cellView": "form",
        "colab": {}
      },
      "source": [
        "#@title\n",
        "test_samples=test['text'].values.tolist()"
      ],
      "execution_count": 0,
      "outputs": []
    },
    {
      "cell_type": "code",
      "metadata": {
        "id": "R7cLXzG0XykZ",
        "colab_type": "code",
        "cellView": "form",
        "colab": {}
      },
      "source": [
        "#@title\n",
        "Out=pd.DataFrame({\"labels\":y_pred})\n",
        "Out.to_csv('finalsvmsubmission.csv')"
      ],
      "execution_count": 0,
      "outputs": []
    }
  ]
}